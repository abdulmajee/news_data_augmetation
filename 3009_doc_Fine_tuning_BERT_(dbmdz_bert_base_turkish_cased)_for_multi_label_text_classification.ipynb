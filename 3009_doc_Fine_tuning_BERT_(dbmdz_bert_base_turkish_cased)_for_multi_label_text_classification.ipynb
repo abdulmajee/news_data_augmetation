{
  "nbformat": 4,
  "nbformat_minor": 0,
  "metadata": {
    "colab": {
      "name": "3009_doc_Fine-tuning BERT (dbmdz/bert-base-turkish-cased) for multi-label text classification.ipynb",
      "provenance": [],
      "collapsed_sections": [],
      "include_colab_link": true
    },
    "kernelspec": {
      "name": "python3",
      "display_name": "Python 3"
    },
    "language_info": {
      "name": "python"
    },
    "accelerator": "GPU",
    "widgets": {
      "application/vnd.jupyter.widget-state+json": {
        "979efd70403845dd868f9f9e1a6a8873": {
          "model_module": "@jupyter-widgets/controls",
          "model_name": "HBoxModel",
          "model_module_version": "1.5.0",
          "state": {
            "_dom_classes": [],
            "_model_module": "@jupyter-widgets/controls",
            "_model_module_version": "1.5.0",
            "_model_name": "HBoxModel",
            "_view_count": null,
            "_view_module": "@jupyter-widgets/controls",
            "_view_module_version": "1.5.0",
            "_view_name": "HBoxView",
            "box_style": "",
            "children": [
              "IPY_MODEL_3ec4e0a578774a01a1a8672fb5923109",
              "IPY_MODEL_78184b536b7e42f6861cdc77e4b455e7",
              "IPY_MODEL_cdaa788761734a56a952c6dc323e4707"
            ],
            "layout": "IPY_MODEL_c19c5fd97f4b4204add1a265238a3288"
          }
        },
        "3ec4e0a578774a01a1a8672fb5923109": {
          "model_module": "@jupyter-widgets/controls",
          "model_name": "HTMLModel",
          "model_module_version": "1.5.0",
          "state": {
            "_dom_classes": [],
            "_model_module": "@jupyter-widgets/controls",
            "_model_module_version": "1.5.0",
            "_model_name": "HTMLModel",
            "_view_count": null,
            "_view_module": "@jupyter-widgets/controls",
            "_view_module_version": "1.5.0",
            "_view_name": "HTMLView",
            "description": "",
            "description_tooltip": null,
            "layout": "IPY_MODEL_24e19163b08a4e6591dfd9647c51a239",
            "placeholder": "​",
            "style": "IPY_MODEL_89a68ca506d74b79ac8f3f99bfb2cb63",
            "value": "Downloading: 100%"
          }
        },
        "78184b536b7e42f6861cdc77e4b455e7": {
          "model_module": "@jupyter-widgets/controls",
          "model_name": "FloatProgressModel",
          "model_module_version": "1.5.0",
          "state": {
            "_dom_classes": [],
            "_model_module": "@jupyter-widgets/controls",
            "_model_module_version": "1.5.0",
            "_model_name": "FloatProgressModel",
            "_view_count": null,
            "_view_module": "@jupyter-widgets/controls",
            "_view_module_version": "1.5.0",
            "_view_name": "ProgressView",
            "bar_style": "success",
            "description": "",
            "description_tooltip": null,
            "layout": "IPY_MODEL_069209eff27b4bc5bb1ea917e05e30b4",
            "max": 60,
            "min": 0,
            "orientation": "horizontal",
            "style": "IPY_MODEL_8d9db6bff7d34c409385789afdc493e0",
            "value": 60
          }
        },
        "cdaa788761734a56a952c6dc323e4707": {
          "model_module": "@jupyter-widgets/controls",
          "model_name": "HTMLModel",
          "model_module_version": "1.5.0",
          "state": {
            "_dom_classes": [],
            "_model_module": "@jupyter-widgets/controls",
            "_model_module_version": "1.5.0",
            "_model_name": "HTMLModel",
            "_view_count": null,
            "_view_module": "@jupyter-widgets/controls",
            "_view_module_version": "1.5.0",
            "_view_name": "HTMLView",
            "description": "",
            "description_tooltip": null,
            "layout": "IPY_MODEL_00dca7e0e9c149d7b3ed22219bc5a0f2",
            "placeholder": "​",
            "style": "IPY_MODEL_43cfb2e09f1849e49e5c6853d69caab2",
            "value": " 60.0/60.0 [00:00&lt;00:00, 1.86kB/s]"
          }
        },
        "c19c5fd97f4b4204add1a265238a3288": {
          "model_module": "@jupyter-widgets/base",
          "model_name": "LayoutModel",
          "model_module_version": "1.2.0",
          "state": {
            "_model_module": "@jupyter-widgets/base",
            "_model_module_version": "1.2.0",
            "_model_name": "LayoutModel",
            "_view_count": null,
            "_view_module": "@jupyter-widgets/base",
            "_view_module_version": "1.2.0",
            "_view_name": "LayoutView",
            "align_content": null,
            "align_items": null,
            "align_self": null,
            "border": null,
            "bottom": null,
            "display": null,
            "flex": null,
            "flex_flow": null,
            "grid_area": null,
            "grid_auto_columns": null,
            "grid_auto_flow": null,
            "grid_auto_rows": null,
            "grid_column": null,
            "grid_gap": null,
            "grid_row": null,
            "grid_template_areas": null,
            "grid_template_columns": null,
            "grid_template_rows": null,
            "height": null,
            "justify_content": null,
            "justify_items": null,
            "left": null,
            "margin": null,
            "max_height": null,
            "max_width": null,
            "min_height": null,
            "min_width": null,
            "object_fit": null,
            "object_position": null,
            "order": null,
            "overflow": null,
            "overflow_x": null,
            "overflow_y": null,
            "padding": null,
            "right": null,
            "top": null,
            "visibility": null,
            "width": null
          }
        },
        "24e19163b08a4e6591dfd9647c51a239": {
          "model_module": "@jupyter-widgets/base",
          "model_name": "LayoutModel",
          "model_module_version": "1.2.0",
          "state": {
            "_model_module": "@jupyter-widgets/base",
            "_model_module_version": "1.2.0",
            "_model_name": "LayoutModel",
            "_view_count": null,
            "_view_module": "@jupyter-widgets/base",
            "_view_module_version": "1.2.0",
            "_view_name": "LayoutView",
            "align_content": null,
            "align_items": null,
            "align_self": null,
            "border": null,
            "bottom": null,
            "display": null,
            "flex": null,
            "flex_flow": null,
            "grid_area": null,
            "grid_auto_columns": null,
            "grid_auto_flow": null,
            "grid_auto_rows": null,
            "grid_column": null,
            "grid_gap": null,
            "grid_row": null,
            "grid_template_areas": null,
            "grid_template_columns": null,
            "grid_template_rows": null,
            "height": null,
            "justify_content": null,
            "justify_items": null,
            "left": null,
            "margin": null,
            "max_height": null,
            "max_width": null,
            "min_height": null,
            "min_width": null,
            "object_fit": null,
            "object_position": null,
            "order": null,
            "overflow": null,
            "overflow_x": null,
            "overflow_y": null,
            "padding": null,
            "right": null,
            "top": null,
            "visibility": null,
            "width": null
          }
        },
        "89a68ca506d74b79ac8f3f99bfb2cb63": {
          "model_module": "@jupyter-widgets/controls",
          "model_name": "DescriptionStyleModel",
          "model_module_version": "1.5.0",
          "state": {
            "_model_module": "@jupyter-widgets/controls",
            "_model_module_version": "1.5.0",
            "_model_name": "DescriptionStyleModel",
            "_view_count": null,
            "_view_module": "@jupyter-widgets/base",
            "_view_module_version": "1.2.0",
            "_view_name": "StyleView",
            "description_width": ""
          }
        },
        "069209eff27b4bc5bb1ea917e05e30b4": {
          "model_module": "@jupyter-widgets/base",
          "model_name": "LayoutModel",
          "model_module_version": "1.2.0",
          "state": {
            "_model_module": "@jupyter-widgets/base",
            "_model_module_version": "1.2.0",
            "_model_name": "LayoutModel",
            "_view_count": null,
            "_view_module": "@jupyter-widgets/base",
            "_view_module_version": "1.2.0",
            "_view_name": "LayoutView",
            "align_content": null,
            "align_items": null,
            "align_self": null,
            "border": null,
            "bottom": null,
            "display": null,
            "flex": null,
            "flex_flow": null,
            "grid_area": null,
            "grid_auto_columns": null,
            "grid_auto_flow": null,
            "grid_auto_rows": null,
            "grid_column": null,
            "grid_gap": null,
            "grid_row": null,
            "grid_template_areas": null,
            "grid_template_columns": null,
            "grid_template_rows": null,
            "height": null,
            "justify_content": null,
            "justify_items": null,
            "left": null,
            "margin": null,
            "max_height": null,
            "max_width": null,
            "min_height": null,
            "min_width": null,
            "object_fit": null,
            "object_position": null,
            "order": null,
            "overflow": null,
            "overflow_x": null,
            "overflow_y": null,
            "padding": null,
            "right": null,
            "top": null,
            "visibility": null,
            "width": null
          }
        },
        "8d9db6bff7d34c409385789afdc493e0": {
          "model_module": "@jupyter-widgets/controls",
          "model_name": "ProgressStyleModel",
          "model_module_version": "1.5.0",
          "state": {
            "_model_module": "@jupyter-widgets/controls",
            "_model_module_version": "1.5.0",
            "_model_name": "ProgressStyleModel",
            "_view_count": null,
            "_view_module": "@jupyter-widgets/base",
            "_view_module_version": "1.2.0",
            "_view_name": "StyleView",
            "bar_color": null,
            "description_width": ""
          }
        },
        "00dca7e0e9c149d7b3ed22219bc5a0f2": {
          "model_module": "@jupyter-widgets/base",
          "model_name": "LayoutModel",
          "model_module_version": "1.2.0",
          "state": {
            "_model_module": "@jupyter-widgets/base",
            "_model_module_version": "1.2.0",
            "_model_name": "LayoutModel",
            "_view_count": null,
            "_view_module": "@jupyter-widgets/base",
            "_view_module_version": "1.2.0",
            "_view_name": "LayoutView",
            "align_content": null,
            "align_items": null,
            "align_self": null,
            "border": null,
            "bottom": null,
            "display": null,
            "flex": null,
            "flex_flow": null,
            "grid_area": null,
            "grid_auto_columns": null,
            "grid_auto_flow": null,
            "grid_auto_rows": null,
            "grid_column": null,
            "grid_gap": null,
            "grid_row": null,
            "grid_template_areas": null,
            "grid_template_columns": null,
            "grid_template_rows": null,
            "height": null,
            "justify_content": null,
            "justify_items": null,
            "left": null,
            "margin": null,
            "max_height": null,
            "max_width": null,
            "min_height": null,
            "min_width": null,
            "object_fit": null,
            "object_position": null,
            "order": null,
            "overflow": null,
            "overflow_x": null,
            "overflow_y": null,
            "padding": null,
            "right": null,
            "top": null,
            "visibility": null,
            "width": null
          }
        },
        "43cfb2e09f1849e49e5c6853d69caab2": {
          "model_module": "@jupyter-widgets/controls",
          "model_name": "DescriptionStyleModel",
          "model_module_version": "1.5.0",
          "state": {
            "_model_module": "@jupyter-widgets/controls",
            "_model_module_version": "1.5.0",
            "_model_name": "DescriptionStyleModel",
            "_view_count": null,
            "_view_module": "@jupyter-widgets/base",
            "_view_module_version": "1.2.0",
            "_view_name": "StyleView",
            "description_width": ""
          }
        },
        "25dd01255aef4acc888b9ba42a685782": {
          "model_module": "@jupyter-widgets/controls",
          "model_name": "HBoxModel",
          "model_module_version": "1.5.0",
          "state": {
            "_dom_classes": [],
            "_model_module": "@jupyter-widgets/controls",
            "_model_module_version": "1.5.0",
            "_model_name": "HBoxModel",
            "_view_count": null,
            "_view_module": "@jupyter-widgets/controls",
            "_view_module_version": "1.5.0",
            "_view_name": "HBoxView",
            "box_style": "",
            "children": [
              "IPY_MODEL_bc9b5768598f409185c55285e2882bc0",
              "IPY_MODEL_6346ccb89fba4194887e15a9c6dd103a",
              "IPY_MODEL_74608c553f504574a3df4eaad35e3ba6"
            ],
            "layout": "IPY_MODEL_2d3459e59da84a518d676735d1618b14"
          }
        },
        "bc9b5768598f409185c55285e2882bc0": {
          "model_module": "@jupyter-widgets/controls",
          "model_name": "HTMLModel",
          "model_module_version": "1.5.0",
          "state": {
            "_dom_classes": [],
            "_model_module": "@jupyter-widgets/controls",
            "_model_module_version": "1.5.0",
            "_model_name": "HTMLModel",
            "_view_count": null,
            "_view_module": "@jupyter-widgets/controls",
            "_view_module_version": "1.5.0",
            "_view_name": "HTMLView",
            "description": "",
            "description_tooltip": null,
            "layout": "IPY_MODEL_bcbed9f4d4aa406985898028561d1152",
            "placeholder": "​",
            "style": "IPY_MODEL_2d41ea7ac6454ac79e0ce781bb8a2440",
            "value": "Downloading: 100%"
          }
        },
        "6346ccb89fba4194887e15a9c6dd103a": {
          "model_module": "@jupyter-widgets/controls",
          "model_name": "FloatProgressModel",
          "model_module_version": "1.5.0",
          "state": {
            "_dom_classes": [],
            "_model_module": "@jupyter-widgets/controls",
            "_model_module_version": "1.5.0",
            "_model_name": "FloatProgressModel",
            "_view_count": null,
            "_view_module": "@jupyter-widgets/controls",
            "_view_module_version": "1.5.0",
            "_view_name": "ProgressView",
            "bar_style": "success",
            "description": "",
            "description_tooltip": null,
            "layout": "IPY_MODEL_322a8b9b2ad444eab693f1693fa7cb7f",
            "max": 385,
            "min": 0,
            "orientation": "horizontal",
            "style": "IPY_MODEL_20cb3243db584c669a74fdede20b9c05",
            "value": 385
          }
        },
        "74608c553f504574a3df4eaad35e3ba6": {
          "model_module": "@jupyter-widgets/controls",
          "model_name": "HTMLModel",
          "model_module_version": "1.5.0",
          "state": {
            "_dom_classes": [],
            "_model_module": "@jupyter-widgets/controls",
            "_model_module_version": "1.5.0",
            "_model_name": "HTMLModel",
            "_view_count": null,
            "_view_module": "@jupyter-widgets/controls",
            "_view_module_version": "1.5.0",
            "_view_name": "HTMLView",
            "description": "",
            "description_tooltip": null,
            "layout": "IPY_MODEL_82c35ea900d74130a367080889a2223b",
            "placeholder": "​",
            "style": "IPY_MODEL_1297109f64274bb3a19ed787329311d1",
            "value": " 385/385 [00:00&lt;00:00, 9.75kB/s]"
          }
        },
        "2d3459e59da84a518d676735d1618b14": {
          "model_module": "@jupyter-widgets/base",
          "model_name": "LayoutModel",
          "model_module_version": "1.2.0",
          "state": {
            "_model_module": "@jupyter-widgets/base",
            "_model_module_version": "1.2.0",
            "_model_name": "LayoutModel",
            "_view_count": null,
            "_view_module": "@jupyter-widgets/base",
            "_view_module_version": "1.2.0",
            "_view_name": "LayoutView",
            "align_content": null,
            "align_items": null,
            "align_self": null,
            "border": null,
            "bottom": null,
            "display": null,
            "flex": null,
            "flex_flow": null,
            "grid_area": null,
            "grid_auto_columns": null,
            "grid_auto_flow": null,
            "grid_auto_rows": null,
            "grid_column": null,
            "grid_gap": null,
            "grid_row": null,
            "grid_template_areas": null,
            "grid_template_columns": null,
            "grid_template_rows": null,
            "height": null,
            "justify_content": null,
            "justify_items": null,
            "left": null,
            "margin": null,
            "max_height": null,
            "max_width": null,
            "min_height": null,
            "min_width": null,
            "object_fit": null,
            "object_position": null,
            "order": null,
            "overflow": null,
            "overflow_x": null,
            "overflow_y": null,
            "padding": null,
            "right": null,
            "top": null,
            "visibility": null,
            "width": null
          }
        },
        "bcbed9f4d4aa406985898028561d1152": {
          "model_module": "@jupyter-widgets/base",
          "model_name": "LayoutModel",
          "model_module_version": "1.2.0",
          "state": {
            "_model_module": "@jupyter-widgets/base",
            "_model_module_version": "1.2.0",
            "_model_name": "LayoutModel",
            "_view_count": null,
            "_view_module": "@jupyter-widgets/base",
            "_view_module_version": "1.2.0",
            "_view_name": "LayoutView",
            "align_content": null,
            "align_items": null,
            "align_self": null,
            "border": null,
            "bottom": null,
            "display": null,
            "flex": null,
            "flex_flow": null,
            "grid_area": null,
            "grid_auto_columns": null,
            "grid_auto_flow": null,
            "grid_auto_rows": null,
            "grid_column": null,
            "grid_gap": null,
            "grid_row": null,
            "grid_template_areas": null,
            "grid_template_columns": null,
            "grid_template_rows": null,
            "height": null,
            "justify_content": null,
            "justify_items": null,
            "left": null,
            "margin": null,
            "max_height": null,
            "max_width": null,
            "min_height": null,
            "min_width": null,
            "object_fit": null,
            "object_position": null,
            "order": null,
            "overflow": null,
            "overflow_x": null,
            "overflow_y": null,
            "padding": null,
            "right": null,
            "top": null,
            "visibility": null,
            "width": null
          }
        },
        "2d41ea7ac6454ac79e0ce781bb8a2440": {
          "model_module": "@jupyter-widgets/controls",
          "model_name": "DescriptionStyleModel",
          "model_module_version": "1.5.0",
          "state": {
            "_model_module": "@jupyter-widgets/controls",
            "_model_module_version": "1.5.0",
            "_model_name": "DescriptionStyleModel",
            "_view_count": null,
            "_view_module": "@jupyter-widgets/base",
            "_view_module_version": "1.2.0",
            "_view_name": "StyleView",
            "description_width": ""
          }
        },
        "322a8b9b2ad444eab693f1693fa7cb7f": {
          "model_module": "@jupyter-widgets/base",
          "model_name": "LayoutModel",
          "model_module_version": "1.2.0",
          "state": {
            "_model_module": "@jupyter-widgets/base",
            "_model_module_version": "1.2.0",
            "_model_name": "LayoutModel",
            "_view_count": null,
            "_view_module": "@jupyter-widgets/base",
            "_view_module_version": "1.2.0",
            "_view_name": "LayoutView",
            "align_content": null,
            "align_items": null,
            "align_self": null,
            "border": null,
            "bottom": null,
            "display": null,
            "flex": null,
            "flex_flow": null,
            "grid_area": null,
            "grid_auto_columns": null,
            "grid_auto_flow": null,
            "grid_auto_rows": null,
            "grid_column": null,
            "grid_gap": null,
            "grid_row": null,
            "grid_template_areas": null,
            "grid_template_columns": null,
            "grid_template_rows": null,
            "height": null,
            "justify_content": null,
            "justify_items": null,
            "left": null,
            "margin": null,
            "max_height": null,
            "max_width": null,
            "min_height": null,
            "min_width": null,
            "object_fit": null,
            "object_position": null,
            "order": null,
            "overflow": null,
            "overflow_x": null,
            "overflow_y": null,
            "padding": null,
            "right": null,
            "top": null,
            "visibility": null,
            "width": null
          }
        },
        "20cb3243db584c669a74fdede20b9c05": {
          "model_module": "@jupyter-widgets/controls",
          "model_name": "ProgressStyleModel",
          "model_module_version": "1.5.0",
          "state": {
            "_model_module": "@jupyter-widgets/controls",
            "_model_module_version": "1.5.0",
            "_model_name": "ProgressStyleModel",
            "_view_count": null,
            "_view_module": "@jupyter-widgets/base",
            "_view_module_version": "1.2.0",
            "_view_name": "StyleView",
            "bar_color": null,
            "description_width": ""
          }
        },
        "82c35ea900d74130a367080889a2223b": {
          "model_module": "@jupyter-widgets/base",
          "model_name": "LayoutModel",
          "model_module_version": "1.2.0",
          "state": {
            "_model_module": "@jupyter-widgets/base",
            "_model_module_version": "1.2.0",
            "_model_name": "LayoutModel",
            "_view_count": null,
            "_view_module": "@jupyter-widgets/base",
            "_view_module_version": "1.2.0",
            "_view_name": "LayoutView",
            "align_content": null,
            "align_items": null,
            "align_self": null,
            "border": null,
            "bottom": null,
            "display": null,
            "flex": null,
            "flex_flow": null,
            "grid_area": null,
            "grid_auto_columns": null,
            "grid_auto_flow": null,
            "grid_auto_rows": null,
            "grid_column": null,
            "grid_gap": null,
            "grid_row": null,
            "grid_template_areas": null,
            "grid_template_columns": null,
            "grid_template_rows": null,
            "height": null,
            "justify_content": null,
            "justify_items": null,
            "left": null,
            "margin": null,
            "max_height": null,
            "max_width": null,
            "min_height": null,
            "min_width": null,
            "object_fit": null,
            "object_position": null,
            "order": null,
            "overflow": null,
            "overflow_x": null,
            "overflow_y": null,
            "padding": null,
            "right": null,
            "top": null,
            "visibility": null,
            "width": null
          }
        },
        "1297109f64274bb3a19ed787329311d1": {
          "model_module": "@jupyter-widgets/controls",
          "model_name": "DescriptionStyleModel",
          "model_module_version": "1.5.0",
          "state": {
            "_model_module": "@jupyter-widgets/controls",
            "_model_module_version": "1.5.0",
            "_model_name": "DescriptionStyleModel",
            "_view_count": null,
            "_view_module": "@jupyter-widgets/base",
            "_view_module_version": "1.2.0",
            "_view_name": "StyleView",
            "description_width": ""
          }
        },
        "32a332afd754417bab31980cead97d71": {
          "model_module": "@jupyter-widgets/controls",
          "model_name": "HBoxModel",
          "model_module_version": "1.5.0",
          "state": {
            "_dom_classes": [],
            "_model_module": "@jupyter-widgets/controls",
            "_model_module_version": "1.5.0",
            "_model_name": "HBoxModel",
            "_view_count": null,
            "_view_module": "@jupyter-widgets/controls",
            "_view_module_version": "1.5.0",
            "_view_name": "HBoxView",
            "box_style": "",
            "children": [
              "IPY_MODEL_1abe483c9e3b48b4b0c398779b2a2c64",
              "IPY_MODEL_1d65fc949f304323863c0bfb4aec3d92",
              "IPY_MODEL_fb378f1a9dbd4112a759737d8f253671"
            ],
            "layout": "IPY_MODEL_b77617a848fa4136b6eb9a6725cfceea"
          }
        },
        "1abe483c9e3b48b4b0c398779b2a2c64": {
          "model_module": "@jupyter-widgets/controls",
          "model_name": "HTMLModel",
          "model_module_version": "1.5.0",
          "state": {
            "_dom_classes": [],
            "_model_module": "@jupyter-widgets/controls",
            "_model_module_version": "1.5.0",
            "_model_name": "HTMLModel",
            "_view_count": null,
            "_view_module": "@jupyter-widgets/controls",
            "_view_module_version": "1.5.0",
            "_view_name": "HTMLView",
            "description": "",
            "description_tooltip": null,
            "layout": "IPY_MODEL_09ccf9ae84db43ee83b593a738e34c05",
            "placeholder": "​",
            "style": "IPY_MODEL_d25fbf9170854687b84f78bf1aa6f05c",
            "value": "Downloading: 100%"
          }
        },
        "1d65fc949f304323863c0bfb4aec3d92": {
          "model_module": "@jupyter-widgets/controls",
          "model_name": "FloatProgressModel",
          "model_module_version": "1.5.0",
          "state": {
            "_dom_classes": [],
            "_model_module": "@jupyter-widgets/controls",
            "_model_module_version": "1.5.0",
            "_model_name": "FloatProgressModel",
            "_view_count": null,
            "_view_module": "@jupyter-widgets/controls",
            "_view_module_version": "1.5.0",
            "_view_name": "ProgressView",
            "bar_style": "success",
            "description": "",
            "description_tooltip": null,
            "layout": "IPY_MODEL_ca33d578658a454eb491ed4f93c1a2b5",
            "max": 251003,
            "min": 0,
            "orientation": "horizontal",
            "style": "IPY_MODEL_d29c6248a77c4022a7da6f121cf4eb90",
            "value": 251003
          }
        },
        "fb378f1a9dbd4112a759737d8f253671": {
          "model_module": "@jupyter-widgets/controls",
          "model_name": "HTMLModel",
          "model_module_version": "1.5.0",
          "state": {
            "_dom_classes": [],
            "_model_module": "@jupyter-widgets/controls",
            "_model_module_version": "1.5.0",
            "_model_name": "HTMLModel",
            "_view_count": null,
            "_view_module": "@jupyter-widgets/controls",
            "_view_module_version": "1.5.0",
            "_view_name": "HTMLView",
            "description": "",
            "description_tooltip": null,
            "layout": "IPY_MODEL_a1b60ae2f1614b5b89a1600a15a16bcb",
            "placeholder": "​",
            "style": "IPY_MODEL_87243b17eb2a40baaf2b05db8fede720",
            "value": " 245k/245k [00:00&lt;00:00, 5.34MB/s]"
          }
        },
        "b77617a848fa4136b6eb9a6725cfceea": {
          "model_module": "@jupyter-widgets/base",
          "model_name": "LayoutModel",
          "model_module_version": "1.2.0",
          "state": {
            "_model_module": "@jupyter-widgets/base",
            "_model_module_version": "1.2.0",
            "_model_name": "LayoutModel",
            "_view_count": null,
            "_view_module": "@jupyter-widgets/base",
            "_view_module_version": "1.2.0",
            "_view_name": "LayoutView",
            "align_content": null,
            "align_items": null,
            "align_self": null,
            "border": null,
            "bottom": null,
            "display": null,
            "flex": null,
            "flex_flow": null,
            "grid_area": null,
            "grid_auto_columns": null,
            "grid_auto_flow": null,
            "grid_auto_rows": null,
            "grid_column": null,
            "grid_gap": null,
            "grid_row": null,
            "grid_template_areas": null,
            "grid_template_columns": null,
            "grid_template_rows": null,
            "height": null,
            "justify_content": null,
            "justify_items": null,
            "left": null,
            "margin": null,
            "max_height": null,
            "max_width": null,
            "min_height": null,
            "min_width": null,
            "object_fit": null,
            "object_position": null,
            "order": null,
            "overflow": null,
            "overflow_x": null,
            "overflow_y": null,
            "padding": null,
            "right": null,
            "top": null,
            "visibility": null,
            "width": null
          }
        },
        "09ccf9ae84db43ee83b593a738e34c05": {
          "model_module": "@jupyter-widgets/base",
          "model_name": "LayoutModel",
          "model_module_version": "1.2.0",
          "state": {
            "_model_module": "@jupyter-widgets/base",
            "_model_module_version": "1.2.0",
            "_model_name": "LayoutModel",
            "_view_count": null,
            "_view_module": "@jupyter-widgets/base",
            "_view_module_version": "1.2.0",
            "_view_name": "LayoutView",
            "align_content": null,
            "align_items": null,
            "align_self": null,
            "border": null,
            "bottom": null,
            "display": null,
            "flex": null,
            "flex_flow": null,
            "grid_area": null,
            "grid_auto_columns": null,
            "grid_auto_flow": null,
            "grid_auto_rows": null,
            "grid_column": null,
            "grid_gap": null,
            "grid_row": null,
            "grid_template_areas": null,
            "grid_template_columns": null,
            "grid_template_rows": null,
            "height": null,
            "justify_content": null,
            "justify_items": null,
            "left": null,
            "margin": null,
            "max_height": null,
            "max_width": null,
            "min_height": null,
            "min_width": null,
            "object_fit": null,
            "object_position": null,
            "order": null,
            "overflow": null,
            "overflow_x": null,
            "overflow_y": null,
            "padding": null,
            "right": null,
            "top": null,
            "visibility": null,
            "width": null
          }
        },
        "d25fbf9170854687b84f78bf1aa6f05c": {
          "model_module": "@jupyter-widgets/controls",
          "model_name": "DescriptionStyleModel",
          "model_module_version": "1.5.0",
          "state": {
            "_model_module": "@jupyter-widgets/controls",
            "_model_module_version": "1.5.0",
            "_model_name": "DescriptionStyleModel",
            "_view_count": null,
            "_view_module": "@jupyter-widgets/base",
            "_view_module_version": "1.2.0",
            "_view_name": "StyleView",
            "description_width": ""
          }
        },
        "ca33d578658a454eb491ed4f93c1a2b5": {
          "model_module": "@jupyter-widgets/base",
          "model_name": "LayoutModel",
          "model_module_version": "1.2.0",
          "state": {
            "_model_module": "@jupyter-widgets/base",
            "_model_module_version": "1.2.0",
            "_model_name": "LayoutModel",
            "_view_count": null,
            "_view_module": "@jupyter-widgets/base",
            "_view_module_version": "1.2.0",
            "_view_name": "LayoutView",
            "align_content": null,
            "align_items": null,
            "align_self": null,
            "border": null,
            "bottom": null,
            "display": null,
            "flex": null,
            "flex_flow": null,
            "grid_area": null,
            "grid_auto_columns": null,
            "grid_auto_flow": null,
            "grid_auto_rows": null,
            "grid_column": null,
            "grid_gap": null,
            "grid_row": null,
            "grid_template_areas": null,
            "grid_template_columns": null,
            "grid_template_rows": null,
            "height": null,
            "justify_content": null,
            "justify_items": null,
            "left": null,
            "margin": null,
            "max_height": null,
            "max_width": null,
            "min_height": null,
            "min_width": null,
            "object_fit": null,
            "object_position": null,
            "order": null,
            "overflow": null,
            "overflow_x": null,
            "overflow_y": null,
            "padding": null,
            "right": null,
            "top": null,
            "visibility": null,
            "width": null
          }
        },
        "d29c6248a77c4022a7da6f121cf4eb90": {
          "model_module": "@jupyter-widgets/controls",
          "model_name": "ProgressStyleModel",
          "model_module_version": "1.5.0",
          "state": {
            "_model_module": "@jupyter-widgets/controls",
            "_model_module_version": "1.5.0",
            "_model_name": "ProgressStyleModel",
            "_view_count": null,
            "_view_module": "@jupyter-widgets/base",
            "_view_module_version": "1.2.0",
            "_view_name": "StyleView",
            "bar_color": null,
            "description_width": ""
          }
        },
        "a1b60ae2f1614b5b89a1600a15a16bcb": {
          "model_module": "@jupyter-widgets/base",
          "model_name": "LayoutModel",
          "model_module_version": "1.2.0",
          "state": {
            "_model_module": "@jupyter-widgets/base",
            "_model_module_version": "1.2.0",
            "_model_name": "LayoutModel",
            "_view_count": null,
            "_view_module": "@jupyter-widgets/base",
            "_view_module_version": "1.2.0",
            "_view_name": "LayoutView",
            "align_content": null,
            "align_items": null,
            "align_self": null,
            "border": null,
            "bottom": null,
            "display": null,
            "flex": null,
            "flex_flow": null,
            "grid_area": null,
            "grid_auto_columns": null,
            "grid_auto_flow": null,
            "grid_auto_rows": null,
            "grid_column": null,
            "grid_gap": null,
            "grid_row": null,
            "grid_template_areas": null,
            "grid_template_columns": null,
            "grid_template_rows": null,
            "height": null,
            "justify_content": null,
            "justify_items": null,
            "left": null,
            "margin": null,
            "max_height": null,
            "max_width": null,
            "min_height": null,
            "min_width": null,
            "object_fit": null,
            "object_position": null,
            "order": null,
            "overflow": null,
            "overflow_x": null,
            "overflow_y": null,
            "padding": null,
            "right": null,
            "top": null,
            "visibility": null,
            "width": null
          }
        },
        "87243b17eb2a40baaf2b05db8fede720": {
          "model_module": "@jupyter-widgets/controls",
          "model_name": "DescriptionStyleModel",
          "model_module_version": "1.5.0",
          "state": {
            "_model_module": "@jupyter-widgets/controls",
            "_model_module_version": "1.5.0",
            "_model_name": "DescriptionStyleModel",
            "_view_count": null,
            "_view_module": "@jupyter-widgets/base",
            "_view_module_version": "1.2.0",
            "_view_name": "StyleView",
            "description_width": ""
          }
        },
        "a0e3de248cc64e40a958eafbb5241308": {
          "model_module": "@jupyter-widgets/controls",
          "model_name": "HBoxModel",
          "model_module_version": "1.5.0",
          "state": {
            "_dom_classes": [],
            "_model_module": "@jupyter-widgets/controls",
            "_model_module_version": "1.5.0",
            "_model_name": "HBoxModel",
            "_view_count": null,
            "_view_module": "@jupyter-widgets/controls",
            "_view_module_version": "1.5.0",
            "_view_name": "HBoxView",
            "box_style": "",
            "children": [
              "IPY_MODEL_c35a6496ae2043feb630d954c6edf210",
              "IPY_MODEL_76cb25a124594f64919c91fc764d79db",
              "IPY_MODEL_3463370c6a874076809fdf087294838e"
            ],
            "layout": "IPY_MODEL_5c701be5fda04c059518d769277993d2"
          }
        },
        "c35a6496ae2043feb630d954c6edf210": {
          "model_module": "@jupyter-widgets/controls",
          "model_name": "HTMLModel",
          "model_module_version": "1.5.0",
          "state": {
            "_dom_classes": [],
            "_model_module": "@jupyter-widgets/controls",
            "_model_module_version": "1.5.0",
            "_model_name": "HTMLModel",
            "_view_count": null,
            "_view_module": "@jupyter-widgets/controls",
            "_view_module_version": "1.5.0",
            "_view_name": "HTMLView",
            "description": "",
            "description_tooltip": null,
            "layout": "IPY_MODEL_dbc4368a5c3c4b6590a86965fc4c5fdc",
            "placeholder": "​",
            "style": "IPY_MODEL_7756d58c200347148b3730df08d84b4a",
            "value": "100%"
          }
        },
        "76cb25a124594f64919c91fc764d79db": {
          "model_module": "@jupyter-widgets/controls",
          "model_name": "FloatProgressModel",
          "model_module_version": "1.5.0",
          "state": {
            "_dom_classes": [],
            "_model_module": "@jupyter-widgets/controls",
            "_model_module_version": "1.5.0",
            "_model_name": "FloatProgressModel",
            "_view_count": null,
            "_view_module": "@jupyter-widgets/controls",
            "_view_module_version": "1.5.0",
            "_view_name": "ProgressView",
            "bar_style": "success",
            "description": "",
            "description_tooltip": null,
            "layout": "IPY_MODEL_cc9451fd9e824181b7078db82b3ebaac",
            "max": 3,
            "min": 0,
            "orientation": "horizontal",
            "style": "IPY_MODEL_d76ab619479c4f219e681ed67e86491e",
            "value": 3
          }
        },
        "3463370c6a874076809fdf087294838e": {
          "model_module": "@jupyter-widgets/controls",
          "model_name": "HTMLModel",
          "model_module_version": "1.5.0",
          "state": {
            "_dom_classes": [],
            "_model_module": "@jupyter-widgets/controls",
            "_model_module_version": "1.5.0",
            "_model_name": "HTMLModel",
            "_view_count": null,
            "_view_module": "@jupyter-widgets/controls",
            "_view_module_version": "1.5.0",
            "_view_name": "HTMLView",
            "description": "",
            "description_tooltip": null,
            "layout": "IPY_MODEL_214bc16a89dc42cbbb2530f9f1f3adc6",
            "placeholder": "​",
            "style": "IPY_MODEL_fd52349ae66f4c05a11303694ff60afe",
            "value": " 3/3 [00:09&lt;00:00,  2.93s/ba]"
          }
        },
        "5c701be5fda04c059518d769277993d2": {
          "model_module": "@jupyter-widgets/base",
          "model_name": "LayoutModel",
          "model_module_version": "1.2.0",
          "state": {
            "_model_module": "@jupyter-widgets/base",
            "_model_module_version": "1.2.0",
            "_model_name": "LayoutModel",
            "_view_count": null,
            "_view_module": "@jupyter-widgets/base",
            "_view_module_version": "1.2.0",
            "_view_name": "LayoutView",
            "align_content": null,
            "align_items": null,
            "align_self": null,
            "border": null,
            "bottom": null,
            "display": null,
            "flex": null,
            "flex_flow": null,
            "grid_area": null,
            "grid_auto_columns": null,
            "grid_auto_flow": null,
            "grid_auto_rows": null,
            "grid_column": null,
            "grid_gap": null,
            "grid_row": null,
            "grid_template_areas": null,
            "grid_template_columns": null,
            "grid_template_rows": null,
            "height": null,
            "justify_content": null,
            "justify_items": null,
            "left": null,
            "margin": null,
            "max_height": null,
            "max_width": null,
            "min_height": null,
            "min_width": null,
            "object_fit": null,
            "object_position": null,
            "order": null,
            "overflow": null,
            "overflow_x": null,
            "overflow_y": null,
            "padding": null,
            "right": null,
            "top": null,
            "visibility": null,
            "width": null
          }
        },
        "dbc4368a5c3c4b6590a86965fc4c5fdc": {
          "model_module": "@jupyter-widgets/base",
          "model_name": "LayoutModel",
          "model_module_version": "1.2.0",
          "state": {
            "_model_module": "@jupyter-widgets/base",
            "_model_module_version": "1.2.0",
            "_model_name": "LayoutModel",
            "_view_count": null,
            "_view_module": "@jupyter-widgets/base",
            "_view_module_version": "1.2.0",
            "_view_name": "LayoutView",
            "align_content": null,
            "align_items": null,
            "align_self": null,
            "border": null,
            "bottom": null,
            "display": null,
            "flex": null,
            "flex_flow": null,
            "grid_area": null,
            "grid_auto_columns": null,
            "grid_auto_flow": null,
            "grid_auto_rows": null,
            "grid_column": null,
            "grid_gap": null,
            "grid_row": null,
            "grid_template_areas": null,
            "grid_template_columns": null,
            "grid_template_rows": null,
            "height": null,
            "justify_content": null,
            "justify_items": null,
            "left": null,
            "margin": null,
            "max_height": null,
            "max_width": null,
            "min_height": null,
            "min_width": null,
            "object_fit": null,
            "object_position": null,
            "order": null,
            "overflow": null,
            "overflow_x": null,
            "overflow_y": null,
            "padding": null,
            "right": null,
            "top": null,
            "visibility": null,
            "width": null
          }
        },
        "7756d58c200347148b3730df08d84b4a": {
          "model_module": "@jupyter-widgets/controls",
          "model_name": "DescriptionStyleModel",
          "model_module_version": "1.5.0",
          "state": {
            "_model_module": "@jupyter-widgets/controls",
            "_model_module_version": "1.5.0",
            "_model_name": "DescriptionStyleModel",
            "_view_count": null,
            "_view_module": "@jupyter-widgets/base",
            "_view_module_version": "1.2.0",
            "_view_name": "StyleView",
            "description_width": ""
          }
        },
        "cc9451fd9e824181b7078db82b3ebaac": {
          "model_module": "@jupyter-widgets/base",
          "model_name": "LayoutModel",
          "model_module_version": "1.2.0",
          "state": {
            "_model_module": "@jupyter-widgets/base",
            "_model_module_version": "1.2.0",
            "_model_name": "LayoutModel",
            "_view_count": null,
            "_view_module": "@jupyter-widgets/base",
            "_view_module_version": "1.2.0",
            "_view_name": "LayoutView",
            "align_content": null,
            "align_items": null,
            "align_self": null,
            "border": null,
            "bottom": null,
            "display": null,
            "flex": null,
            "flex_flow": null,
            "grid_area": null,
            "grid_auto_columns": null,
            "grid_auto_flow": null,
            "grid_auto_rows": null,
            "grid_column": null,
            "grid_gap": null,
            "grid_row": null,
            "grid_template_areas": null,
            "grid_template_columns": null,
            "grid_template_rows": null,
            "height": null,
            "justify_content": null,
            "justify_items": null,
            "left": null,
            "margin": null,
            "max_height": null,
            "max_width": null,
            "min_height": null,
            "min_width": null,
            "object_fit": null,
            "object_position": null,
            "order": null,
            "overflow": null,
            "overflow_x": null,
            "overflow_y": null,
            "padding": null,
            "right": null,
            "top": null,
            "visibility": null,
            "width": null
          }
        },
        "d76ab619479c4f219e681ed67e86491e": {
          "model_module": "@jupyter-widgets/controls",
          "model_name": "ProgressStyleModel",
          "model_module_version": "1.5.0",
          "state": {
            "_model_module": "@jupyter-widgets/controls",
            "_model_module_version": "1.5.0",
            "_model_name": "ProgressStyleModel",
            "_view_count": null,
            "_view_module": "@jupyter-widgets/base",
            "_view_module_version": "1.2.0",
            "_view_name": "StyleView",
            "bar_color": null,
            "description_width": ""
          }
        },
        "214bc16a89dc42cbbb2530f9f1f3adc6": {
          "model_module": "@jupyter-widgets/base",
          "model_name": "LayoutModel",
          "model_module_version": "1.2.0",
          "state": {
            "_model_module": "@jupyter-widgets/base",
            "_model_module_version": "1.2.0",
            "_model_name": "LayoutModel",
            "_view_count": null,
            "_view_module": "@jupyter-widgets/base",
            "_view_module_version": "1.2.0",
            "_view_name": "LayoutView",
            "align_content": null,
            "align_items": null,
            "align_self": null,
            "border": null,
            "bottom": null,
            "display": null,
            "flex": null,
            "flex_flow": null,
            "grid_area": null,
            "grid_auto_columns": null,
            "grid_auto_flow": null,
            "grid_auto_rows": null,
            "grid_column": null,
            "grid_gap": null,
            "grid_row": null,
            "grid_template_areas": null,
            "grid_template_columns": null,
            "grid_template_rows": null,
            "height": null,
            "justify_content": null,
            "justify_items": null,
            "left": null,
            "margin": null,
            "max_height": null,
            "max_width": null,
            "min_height": null,
            "min_width": null,
            "object_fit": null,
            "object_position": null,
            "order": null,
            "overflow": null,
            "overflow_x": null,
            "overflow_y": null,
            "padding": null,
            "right": null,
            "top": null,
            "visibility": null,
            "width": null
          }
        },
        "fd52349ae66f4c05a11303694ff60afe": {
          "model_module": "@jupyter-widgets/controls",
          "model_name": "DescriptionStyleModel",
          "model_module_version": "1.5.0",
          "state": {
            "_model_module": "@jupyter-widgets/controls",
            "_model_module_version": "1.5.0",
            "_model_name": "DescriptionStyleModel",
            "_view_count": null,
            "_view_module": "@jupyter-widgets/base",
            "_view_module_version": "1.2.0",
            "_view_name": "StyleView",
            "description_width": ""
          }
        },
        "e869faef6f1b4514bee5e04cd92b83d5": {
          "model_module": "@jupyter-widgets/controls",
          "model_name": "HBoxModel",
          "model_module_version": "1.5.0",
          "state": {
            "_dom_classes": [],
            "_model_module": "@jupyter-widgets/controls",
            "_model_module_version": "1.5.0",
            "_model_name": "HBoxModel",
            "_view_count": null,
            "_view_module": "@jupyter-widgets/controls",
            "_view_module_version": "1.5.0",
            "_view_name": "HBoxView",
            "box_style": "",
            "children": [
              "IPY_MODEL_0a0870af9b404a05808525cc2124d48f",
              "IPY_MODEL_b77e1ea55e3d4b8081fb061346d57742",
              "IPY_MODEL_715f76c942824e45906df93d27f05b43"
            ],
            "layout": "IPY_MODEL_b8c82019766c446c9db87a21084da01e"
          }
        },
        "0a0870af9b404a05808525cc2124d48f": {
          "model_module": "@jupyter-widgets/controls",
          "model_name": "HTMLModel",
          "model_module_version": "1.5.0",
          "state": {
            "_dom_classes": [],
            "_model_module": "@jupyter-widgets/controls",
            "_model_module_version": "1.5.0",
            "_model_name": "HTMLModel",
            "_view_count": null,
            "_view_module": "@jupyter-widgets/controls",
            "_view_module_version": "1.5.0",
            "_view_name": "HTMLView",
            "description": "",
            "description_tooltip": null,
            "layout": "IPY_MODEL_f37fd62212e04b4e885c482319aa8f59",
            "placeholder": "​",
            "style": "IPY_MODEL_ba7325aef01240cc92d2cd73d6b5211c",
            "value": "100%"
          }
        },
        "b77e1ea55e3d4b8081fb061346d57742": {
          "model_module": "@jupyter-widgets/controls",
          "model_name": "FloatProgressModel",
          "model_module_version": "1.5.0",
          "state": {
            "_dom_classes": [],
            "_model_module": "@jupyter-widgets/controls",
            "_model_module_version": "1.5.0",
            "_model_name": "FloatProgressModel",
            "_view_count": null,
            "_view_module": "@jupyter-widgets/controls",
            "_view_module_version": "1.5.0",
            "_view_name": "ProgressView",
            "bar_style": "success",
            "description": "",
            "description_tooltip": null,
            "layout": "IPY_MODEL_0f0b584476b344678663d345a69a89f6",
            "max": 1,
            "min": 0,
            "orientation": "horizontal",
            "style": "IPY_MODEL_29a4362d04944fa4935bcede83c1a288",
            "value": 1
          }
        },
        "715f76c942824e45906df93d27f05b43": {
          "model_module": "@jupyter-widgets/controls",
          "model_name": "HTMLModel",
          "model_module_version": "1.5.0",
          "state": {
            "_dom_classes": [],
            "_model_module": "@jupyter-widgets/controls",
            "_model_module_version": "1.5.0",
            "_model_name": "HTMLModel",
            "_view_count": null,
            "_view_module": "@jupyter-widgets/controls",
            "_view_module_version": "1.5.0",
            "_view_name": "HTMLView",
            "description": "",
            "description_tooltip": null,
            "layout": "IPY_MODEL_1576085603e8430a8843869822d69422",
            "placeholder": "​",
            "style": "IPY_MODEL_785a4119eb544c0596008e03994dd20b",
            "value": " 1/1 [00:00&lt;00:00,  2.10ba/s]"
          }
        },
        "b8c82019766c446c9db87a21084da01e": {
          "model_module": "@jupyter-widgets/base",
          "model_name": "LayoutModel",
          "model_module_version": "1.2.0",
          "state": {
            "_model_module": "@jupyter-widgets/base",
            "_model_module_version": "1.2.0",
            "_model_name": "LayoutModel",
            "_view_count": null,
            "_view_module": "@jupyter-widgets/base",
            "_view_module_version": "1.2.0",
            "_view_name": "LayoutView",
            "align_content": null,
            "align_items": null,
            "align_self": null,
            "border": null,
            "bottom": null,
            "display": null,
            "flex": null,
            "flex_flow": null,
            "grid_area": null,
            "grid_auto_columns": null,
            "grid_auto_flow": null,
            "grid_auto_rows": null,
            "grid_column": null,
            "grid_gap": null,
            "grid_row": null,
            "grid_template_areas": null,
            "grid_template_columns": null,
            "grid_template_rows": null,
            "height": null,
            "justify_content": null,
            "justify_items": null,
            "left": null,
            "margin": null,
            "max_height": null,
            "max_width": null,
            "min_height": null,
            "min_width": null,
            "object_fit": null,
            "object_position": null,
            "order": null,
            "overflow": null,
            "overflow_x": null,
            "overflow_y": null,
            "padding": null,
            "right": null,
            "top": null,
            "visibility": null,
            "width": null
          }
        },
        "f37fd62212e04b4e885c482319aa8f59": {
          "model_module": "@jupyter-widgets/base",
          "model_name": "LayoutModel",
          "model_module_version": "1.2.0",
          "state": {
            "_model_module": "@jupyter-widgets/base",
            "_model_module_version": "1.2.0",
            "_model_name": "LayoutModel",
            "_view_count": null,
            "_view_module": "@jupyter-widgets/base",
            "_view_module_version": "1.2.0",
            "_view_name": "LayoutView",
            "align_content": null,
            "align_items": null,
            "align_self": null,
            "border": null,
            "bottom": null,
            "display": null,
            "flex": null,
            "flex_flow": null,
            "grid_area": null,
            "grid_auto_columns": null,
            "grid_auto_flow": null,
            "grid_auto_rows": null,
            "grid_column": null,
            "grid_gap": null,
            "grid_row": null,
            "grid_template_areas": null,
            "grid_template_columns": null,
            "grid_template_rows": null,
            "height": null,
            "justify_content": null,
            "justify_items": null,
            "left": null,
            "margin": null,
            "max_height": null,
            "max_width": null,
            "min_height": null,
            "min_width": null,
            "object_fit": null,
            "object_position": null,
            "order": null,
            "overflow": null,
            "overflow_x": null,
            "overflow_y": null,
            "padding": null,
            "right": null,
            "top": null,
            "visibility": null,
            "width": null
          }
        },
        "ba7325aef01240cc92d2cd73d6b5211c": {
          "model_module": "@jupyter-widgets/controls",
          "model_name": "DescriptionStyleModel",
          "model_module_version": "1.5.0",
          "state": {
            "_model_module": "@jupyter-widgets/controls",
            "_model_module_version": "1.5.0",
            "_model_name": "DescriptionStyleModel",
            "_view_count": null,
            "_view_module": "@jupyter-widgets/base",
            "_view_module_version": "1.2.0",
            "_view_name": "StyleView",
            "description_width": ""
          }
        },
        "0f0b584476b344678663d345a69a89f6": {
          "model_module": "@jupyter-widgets/base",
          "model_name": "LayoutModel",
          "model_module_version": "1.2.0",
          "state": {
            "_model_module": "@jupyter-widgets/base",
            "_model_module_version": "1.2.0",
            "_model_name": "LayoutModel",
            "_view_count": null,
            "_view_module": "@jupyter-widgets/base",
            "_view_module_version": "1.2.0",
            "_view_name": "LayoutView",
            "align_content": null,
            "align_items": null,
            "align_self": null,
            "border": null,
            "bottom": null,
            "display": null,
            "flex": null,
            "flex_flow": null,
            "grid_area": null,
            "grid_auto_columns": null,
            "grid_auto_flow": null,
            "grid_auto_rows": null,
            "grid_column": null,
            "grid_gap": null,
            "grid_row": null,
            "grid_template_areas": null,
            "grid_template_columns": null,
            "grid_template_rows": null,
            "height": null,
            "justify_content": null,
            "justify_items": null,
            "left": null,
            "margin": null,
            "max_height": null,
            "max_width": null,
            "min_height": null,
            "min_width": null,
            "object_fit": null,
            "object_position": null,
            "order": null,
            "overflow": null,
            "overflow_x": null,
            "overflow_y": null,
            "padding": null,
            "right": null,
            "top": null,
            "visibility": null,
            "width": null
          }
        },
        "29a4362d04944fa4935bcede83c1a288": {
          "model_module": "@jupyter-widgets/controls",
          "model_name": "ProgressStyleModel",
          "model_module_version": "1.5.0",
          "state": {
            "_model_module": "@jupyter-widgets/controls",
            "_model_module_version": "1.5.0",
            "_model_name": "ProgressStyleModel",
            "_view_count": null,
            "_view_module": "@jupyter-widgets/base",
            "_view_module_version": "1.2.0",
            "_view_name": "StyleView",
            "bar_color": null,
            "description_width": ""
          }
        },
        "1576085603e8430a8843869822d69422": {
          "model_module": "@jupyter-widgets/base",
          "model_name": "LayoutModel",
          "model_module_version": "1.2.0",
          "state": {
            "_model_module": "@jupyter-widgets/base",
            "_model_module_version": "1.2.0",
            "_model_name": "LayoutModel",
            "_view_count": null,
            "_view_module": "@jupyter-widgets/base",
            "_view_module_version": "1.2.0",
            "_view_name": "LayoutView",
            "align_content": null,
            "align_items": null,
            "align_self": null,
            "border": null,
            "bottom": null,
            "display": null,
            "flex": null,
            "flex_flow": null,
            "grid_area": null,
            "grid_auto_columns": null,
            "grid_auto_flow": null,
            "grid_auto_rows": null,
            "grid_column": null,
            "grid_gap": null,
            "grid_row": null,
            "grid_template_areas": null,
            "grid_template_columns": null,
            "grid_template_rows": null,
            "height": null,
            "justify_content": null,
            "justify_items": null,
            "left": null,
            "margin": null,
            "max_height": null,
            "max_width": null,
            "min_height": null,
            "min_width": null,
            "object_fit": null,
            "object_position": null,
            "order": null,
            "overflow": null,
            "overflow_x": null,
            "overflow_y": null,
            "padding": null,
            "right": null,
            "top": null,
            "visibility": null,
            "width": null
          }
        },
        "785a4119eb544c0596008e03994dd20b": {
          "model_module": "@jupyter-widgets/controls",
          "model_name": "DescriptionStyleModel",
          "model_module_version": "1.5.0",
          "state": {
            "_model_module": "@jupyter-widgets/controls",
            "_model_module_version": "1.5.0",
            "_model_name": "DescriptionStyleModel",
            "_view_count": null,
            "_view_module": "@jupyter-widgets/base",
            "_view_module_version": "1.2.0",
            "_view_name": "StyleView",
            "description_width": ""
          }
        },
        "12bfad1e4aa24d1587dc6a9936bf92fa": {
          "model_module": "@jupyter-widgets/controls",
          "model_name": "HBoxModel",
          "model_module_version": "1.5.0",
          "state": {
            "_dom_classes": [],
            "_model_module": "@jupyter-widgets/controls",
            "_model_module_version": "1.5.0",
            "_model_name": "HBoxModel",
            "_view_count": null,
            "_view_module": "@jupyter-widgets/controls",
            "_view_module_version": "1.5.0",
            "_view_name": "HBoxView",
            "box_style": "",
            "children": [
              "IPY_MODEL_08b8b938ab884987a96043063f936d2d",
              "IPY_MODEL_7584fbd95fcc4c648524a9034c286a1c",
              "IPY_MODEL_2cdf3574ec7e43dfbdfc095e17d937e4"
            ],
            "layout": "IPY_MODEL_d0a6bb62cb4349cf83c0e03efcdcf36a"
          }
        },
        "08b8b938ab884987a96043063f936d2d": {
          "model_module": "@jupyter-widgets/controls",
          "model_name": "HTMLModel",
          "model_module_version": "1.5.0",
          "state": {
            "_dom_classes": [],
            "_model_module": "@jupyter-widgets/controls",
            "_model_module_version": "1.5.0",
            "_model_name": "HTMLModel",
            "_view_count": null,
            "_view_module": "@jupyter-widgets/controls",
            "_view_module_version": "1.5.0",
            "_view_name": "HTMLView",
            "description": "",
            "description_tooltip": null,
            "layout": "IPY_MODEL_bf53b4c4d25c4e7dbc18601d9c303314",
            "placeholder": "​",
            "style": "IPY_MODEL_39d30aab5fc84214b5885530ddeadd88",
            "value": "100%"
          }
        },
        "7584fbd95fcc4c648524a9034c286a1c": {
          "model_module": "@jupyter-widgets/controls",
          "model_name": "FloatProgressModel",
          "model_module_version": "1.5.0",
          "state": {
            "_dom_classes": [],
            "_model_module": "@jupyter-widgets/controls",
            "_model_module_version": "1.5.0",
            "_model_name": "FloatProgressModel",
            "_view_count": null,
            "_view_module": "@jupyter-widgets/controls",
            "_view_module_version": "1.5.0",
            "_view_name": "ProgressView",
            "bar_style": "success",
            "description": "",
            "description_tooltip": null,
            "layout": "IPY_MODEL_12e9fcaf014b448aafcff4a6b2f4cde7",
            "max": 1,
            "min": 0,
            "orientation": "horizontal",
            "style": "IPY_MODEL_0c238778935d4e8e8f5161b4efab8909",
            "value": 1
          }
        },
        "2cdf3574ec7e43dfbdfc095e17d937e4": {
          "model_module": "@jupyter-widgets/controls",
          "model_name": "HTMLModel",
          "model_module_version": "1.5.0",
          "state": {
            "_dom_classes": [],
            "_model_module": "@jupyter-widgets/controls",
            "_model_module_version": "1.5.0",
            "_model_name": "HTMLModel",
            "_view_count": null,
            "_view_module": "@jupyter-widgets/controls",
            "_view_module_version": "1.5.0",
            "_view_name": "HTMLView",
            "description": "",
            "description_tooltip": null,
            "layout": "IPY_MODEL_decff325a3e146db874cd187ce996d71",
            "placeholder": "​",
            "style": "IPY_MODEL_a57919dcba484390a02e58c5eb63fa37",
            "value": " 1/1 [00:00&lt;00:00,  1.56ba/s]"
          }
        },
        "d0a6bb62cb4349cf83c0e03efcdcf36a": {
          "model_module": "@jupyter-widgets/base",
          "model_name": "LayoutModel",
          "model_module_version": "1.2.0",
          "state": {
            "_model_module": "@jupyter-widgets/base",
            "_model_module_version": "1.2.0",
            "_model_name": "LayoutModel",
            "_view_count": null,
            "_view_module": "@jupyter-widgets/base",
            "_view_module_version": "1.2.0",
            "_view_name": "LayoutView",
            "align_content": null,
            "align_items": null,
            "align_self": null,
            "border": null,
            "bottom": null,
            "display": null,
            "flex": null,
            "flex_flow": null,
            "grid_area": null,
            "grid_auto_columns": null,
            "grid_auto_flow": null,
            "grid_auto_rows": null,
            "grid_column": null,
            "grid_gap": null,
            "grid_row": null,
            "grid_template_areas": null,
            "grid_template_columns": null,
            "grid_template_rows": null,
            "height": null,
            "justify_content": null,
            "justify_items": null,
            "left": null,
            "margin": null,
            "max_height": null,
            "max_width": null,
            "min_height": null,
            "min_width": null,
            "object_fit": null,
            "object_position": null,
            "order": null,
            "overflow": null,
            "overflow_x": null,
            "overflow_y": null,
            "padding": null,
            "right": null,
            "top": null,
            "visibility": null,
            "width": null
          }
        },
        "bf53b4c4d25c4e7dbc18601d9c303314": {
          "model_module": "@jupyter-widgets/base",
          "model_name": "LayoutModel",
          "model_module_version": "1.2.0",
          "state": {
            "_model_module": "@jupyter-widgets/base",
            "_model_module_version": "1.2.0",
            "_model_name": "LayoutModel",
            "_view_count": null,
            "_view_module": "@jupyter-widgets/base",
            "_view_module_version": "1.2.0",
            "_view_name": "LayoutView",
            "align_content": null,
            "align_items": null,
            "align_self": null,
            "border": null,
            "bottom": null,
            "display": null,
            "flex": null,
            "flex_flow": null,
            "grid_area": null,
            "grid_auto_columns": null,
            "grid_auto_flow": null,
            "grid_auto_rows": null,
            "grid_column": null,
            "grid_gap": null,
            "grid_row": null,
            "grid_template_areas": null,
            "grid_template_columns": null,
            "grid_template_rows": null,
            "height": null,
            "justify_content": null,
            "justify_items": null,
            "left": null,
            "margin": null,
            "max_height": null,
            "max_width": null,
            "min_height": null,
            "min_width": null,
            "object_fit": null,
            "object_position": null,
            "order": null,
            "overflow": null,
            "overflow_x": null,
            "overflow_y": null,
            "padding": null,
            "right": null,
            "top": null,
            "visibility": null,
            "width": null
          }
        },
        "39d30aab5fc84214b5885530ddeadd88": {
          "model_module": "@jupyter-widgets/controls",
          "model_name": "DescriptionStyleModel",
          "model_module_version": "1.5.0",
          "state": {
            "_model_module": "@jupyter-widgets/controls",
            "_model_module_version": "1.5.0",
            "_model_name": "DescriptionStyleModel",
            "_view_count": null,
            "_view_module": "@jupyter-widgets/base",
            "_view_module_version": "1.2.0",
            "_view_name": "StyleView",
            "description_width": ""
          }
        },
        "12e9fcaf014b448aafcff4a6b2f4cde7": {
          "model_module": "@jupyter-widgets/base",
          "model_name": "LayoutModel",
          "model_module_version": "1.2.0",
          "state": {
            "_model_module": "@jupyter-widgets/base",
            "_model_module_version": "1.2.0",
            "_model_name": "LayoutModel",
            "_view_count": null,
            "_view_module": "@jupyter-widgets/base",
            "_view_module_version": "1.2.0",
            "_view_name": "LayoutView",
            "align_content": null,
            "align_items": null,
            "align_self": null,
            "border": null,
            "bottom": null,
            "display": null,
            "flex": null,
            "flex_flow": null,
            "grid_area": null,
            "grid_auto_columns": null,
            "grid_auto_flow": null,
            "grid_auto_rows": null,
            "grid_column": null,
            "grid_gap": null,
            "grid_row": null,
            "grid_template_areas": null,
            "grid_template_columns": null,
            "grid_template_rows": null,
            "height": null,
            "justify_content": null,
            "justify_items": null,
            "left": null,
            "margin": null,
            "max_height": null,
            "max_width": null,
            "min_height": null,
            "min_width": null,
            "object_fit": null,
            "object_position": null,
            "order": null,
            "overflow": null,
            "overflow_x": null,
            "overflow_y": null,
            "padding": null,
            "right": null,
            "top": null,
            "visibility": null,
            "width": null
          }
        },
        "0c238778935d4e8e8f5161b4efab8909": {
          "model_module": "@jupyter-widgets/controls",
          "model_name": "ProgressStyleModel",
          "model_module_version": "1.5.0",
          "state": {
            "_model_module": "@jupyter-widgets/controls",
            "_model_module_version": "1.5.0",
            "_model_name": "ProgressStyleModel",
            "_view_count": null,
            "_view_module": "@jupyter-widgets/base",
            "_view_module_version": "1.2.0",
            "_view_name": "StyleView",
            "bar_color": null,
            "description_width": ""
          }
        },
        "decff325a3e146db874cd187ce996d71": {
          "model_module": "@jupyter-widgets/base",
          "model_name": "LayoutModel",
          "model_module_version": "1.2.0",
          "state": {
            "_model_module": "@jupyter-widgets/base",
            "_model_module_version": "1.2.0",
            "_model_name": "LayoutModel",
            "_view_count": null,
            "_view_module": "@jupyter-widgets/base",
            "_view_module_version": "1.2.0",
            "_view_name": "LayoutView",
            "align_content": null,
            "align_items": null,
            "align_self": null,
            "border": null,
            "bottom": null,
            "display": null,
            "flex": null,
            "flex_flow": null,
            "grid_area": null,
            "grid_auto_columns": null,
            "grid_auto_flow": null,
            "grid_auto_rows": null,
            "grid_column": null,
            "grid_gap": null,
            "grid_row": null,
            "grid_template_areas": null,
            "grid_template_columns": null,
            "grid_template_rows": null,
            "height": null,
            "justify_content": null,
            "justify_items": null,
            "left": null,
            "margin": null,
            "max_height": null,
            "max_width": null,
            "min_height": null,
            "min_width": null,
            "object_fit": null,
            "object_position": null,
            "order": null,
            "overflow": null,
            "overflow_x": null,
            "overflow_y": null,
            "padding": null,
            "right": null,
            "top": null,
            "visibility": null,
            "width": null
          }
        },
        "a57919dcba484390a02e58c5eb63fa37": {
          "model_module": "@jupyter-widgets/controls",
          "model_name": "DescriptionStyleModel",
          "model_module_version": "1.5.0",
          "state": {
            "_model_module": "@jupyter-widgets/controls",
            "_model_module_version": "1.5.0",
            "_model_name": "DescriptionStyleModel",
            "_view_count": null,
            "_view_module": "@jupyter-widgets/base",
            "_view_module_version": "1.2.0",
            "_view_name": "StyleView",
            "description_width": ""
          }
        },
        "7d4d708dedfd4618aed2b0390e37f55d": {
          "model_module": "@jupyter-widgets/controls",
          "model_name": "HBoxModel",
          "model_module_version": "1.5.0",
          "state": {
            "_dom_classes": [],
            "_model_module": "@jupyter-widgets/controls",
            "_model_module_version": "1.5.0",
            "_model_name": "HBoxModel",
            "_view_count": null,
            "_view_module": "@jupyter-widgets/controls",
            "_view_module_version": "1.5.0",
            "_view_name": "HBoxView",
            "box_style": "",
            "children": [
              "IPY_MODEL_6e4fbe5e83ed4ddf9d55c3b79d9681cd",
              "IPY_MODEL_a9f7afb85b3a49a58dcbe99df15702bd",
              "IPY_MODEL_92979933b8ca4058a07c15f72363e4bc"
            ],
            "layout": "IPY_MODEL_22a4f76cb6d64cdcb239575bef19a9ab"
          }
        },
        "6e4fbe5e83ed4ddf9d55c3b79d9681cd": {
          "model_module": "@jupyter-widgets/controls",
          "model_name": "HTMLModel",
          "model_module_version": "1.5.0",
          "state": {
            "_dom_classes": [],
            "_model_module": "@jupyter-widgets/controls",
            "_model_module_version": "1.5.0",
            "_model_name": "HTMLModel",
            "_view_count": null,
            "_view_module": "@jupyter-widgets/controls",
            "_view_module_version": "1.5.0",
            "_view_name": "HTMLView",
            "description": "",
            "description_tooltip": null,
            "layout": "IPY_MODEL_484cf1a077fa4e03942cb969c0f7277e",
            "placeholder": "​",
            "style": "IPY_MODEL_92e249f2d74742fca314655147327899",
            "value": "Downloading: 100%"
          }
        },
        "a9f7afb85b3a49a58dcbe99df15702bd": {
          "model_module": "@jupyter-widgets/controls",
          "model_name": "FloatProgressModel",
          "model_module_version": "1.5.0",
          "state": {
            "_dom_classes": [],
            "_model_module": "@jupyter-widgets/controls",
            "_model_module_version": "1.5.0",
            "_model_name": "FloatProgressModel",
            "_view_count": null,
            "_view_module": "@jupyter-widgets/controls",
            "_view_module_version": "1.5.0",
            "_view_name": "ProgressView",
            "bar_style": "success",
            "description": "",
            "description_tooltip": null,
            "layout": "IPY_MODEL_1c874da8b465494789e388175c59c8e6",
            "max": 445018508,
            "min": 0,
            "orientation": "horizontal",
            "style": "IPY_MODEL_036bd89eb4e2485cb4df201660409ad0",
            "value": 445018508
          }
        },
        "92979933b8ca4058a07c15f72363e4bc": {
          "model_module": "@jupyter-widgets/controls",
          "model_name": "HTMLModel",
          "model_module_version": "1.5.0",
          "state": {
            "_dom_classes": [],
            "_model_module": "@jupyter-widgets/controls",
            "_model_module_version": "1.5.0",
            "_model_name": "HTMLModel",
            "_view_count": null,
            "_view_module": "@jupyter-widgets/controls",
            "_view_module_version": "1.5.0",
            "_view_name": "HTMLView",
            "description": "",
            "description_tooltip": null,
            "layout": "IPY_MODEL_5e05575dd7204059bc7359e112a68c82",
            "placeholder": "​",
            "style": "IPY_MODEL_d1114f4cd9544186887736cbe483766f",
            "value": " 424M/424M [00:09&lt;00:00, 55.2MB/s]"
          }
        },
        "22a4f76cb6d64cdcb239575bef19a9ab": {
          "model_module": "@jupyter-widgets/base",
          "model_name": "LayoutModel",
          "model_module_version": "1.2.0",
          "state": {
            "_model_module": "@jupyter-widgets/base",
            "_model_module_version": "1.2.0",
            "_model_name": "LayoutModel",
            "_view_count": null,
            "_view_module": "@jupyter-widgets/base",
            "_view_module_version": "1.2.0",
            "_view_name": "LayoutView",
            "align_content": null,
            "align_items": null,
            "align_self": null,
            "border": null,
            "bottom": null,
            "display": null,
            "flex": null,
            "flex_flow": null,
            "grid_area": null,
            "grid_auto_columns": null,
            "grid_auto_flow": null,
            "grid_auto_rows": null,
            "grid_column": null,
            "grid_gap": null,
            "grid_row": null,
            "grid_template_areas": null,
            "grid_template_columns": null,
            "grid_template_rows": null,
            "height": null,
            "justify_content": null,
            "justify_items": null,
            "left": null,
            "margin": null,
            "max_height": null,
            "max_width": null,
            "min_height": null,
            "min_width": null,
            "object_fit": null,
            "object_position": null,
            "order": null,
            "overflow": null,
            "overflow_x": null,
            "overflow_y": null,
            "padding": null,
            "right": null,
            "top": null,
            "visibility": null,
            "width": null
          }
        },
        "484cf1a077fa4e03942cb969c0f7277e": {
          "model_module": "@jupyter-widgets/base",
          "model_name": "LayoutModel",
          "model_module_version": "1.2.0",
          "state": {
            "_model_module": "@jupyter-widgets/base",
            "_model_module_version": "1.2.0",
            "_model_name": "LayoutModel",
            "_view_count": null,
            "_view_module": "@jupyter-widgets/base",
            "_view_module_version": "1.2.0",
            "_view_name": "LayoutView",
            "align_content": null,
            "align_items": null,
            "align_self": null,
            "border": null,
            "bottom": null,
            "display": null,
            "flex": null,
            "flex_flow": null,
            "grid_area": null,
            "grid_auto_columns": null,
            "grid_auto_flow": null,
            "grid_auto_rows": null,
            "grid_column": null,
            "grid_gap": null,
            "grid_row": null,
            "grid_template_areas": null,
            "grid_template_columns": null,
            "grid_template_rows": null,
            "height": null,
            "justify_content": null,
            "justify_items": null,
            "left": null,
            "margin": null,
            "max_height": null,
            "max_width": null,
            "min_height": null,
            "min_width": null,
            "object_fit": null,
            "object_position": null,
            "order": null,
            "overflow": null,
            "overflow_x": null,
            "overflow_y": null,
            "padding": null,
            "right": null,
            "top": null,
            "visibility": null,
            "width": null
          }
        },
        "92e249f2d74742fca314655147327899": {
          "model_module": "@jupyter-widgets/controls",
          "model_name": "DescriptionStyleModel",
          "model_module_version": "1.5.0",
          "state": {
            "_model_module": "@jupyter-widgets/controls",
            "_model_module_version": "1.5.0",
            "_model_name": "DescriptionStyleModel",
            "_view_count": null,
            "_view_module": "@jupyter-widgets/base",
            "_view_module_version": "1.2.0",
            "_view_name": "StyleView",
            "description_width": ""
          }
        },
        "1c874da8b465494789e388175c59c8e6": {
          "model_module": "@jupyter-widgets/base",
          "model_name": "LayoutModel",
          "model_module_version": "1.2.0",
          "state": {
            "_model_module": "@jupyter-widgets/base",
            "_model_module_version": "1.2.0",
            "_model_name": "LayoutModel",
            "_view_count": null,
            "_view_module": "@jupyter-widgets/base",
            "_view_module_version": "1.2.0",
            "_view_name": "LayoutView",
            "align_content": null,
            "align_items": null,
            "align_self": null,
            "border": null,
            "bottom": null,
            "display": null,
            "flex": null,
            "flex_flow": null,
            "grid_area": null,
            "grid_auto_columns": null,
            "grid_auto_flow": null,
            "grid_auto_rows": null,
            "grid_column": null,
            "grid_gap": null,
            "grid_row": null,
            "grid_template_areas": null,
            "grid_template_columns": null,
            "grid_template_rows": null,
            "height": null,
            "justify_content": null,
            "justify_items": null,
            "left": null,
            "margin": null,
            "max_height": null,
            "max_width": null,
            "min_height": null,
            "min_width": null,
            "object_fit": null,
            "object_position": null,
            "order": null,
            "overflow": null,
            "overflow_x": null,
            "overflow_y": null,
            "padding": null,
            "right": null,
            "top": null,
            "visibility": null,
            "width": null
          }
        },
        "036bd89eb4e2485cb4df201660409ad0": {
          "model_module": "@jupyter-widgets/controls",
          "model_name": "ProgressStyleModel",
          "model_module_version": "1.5.0",
          "state": {
            "_model_module": "@jupyter-widgets/controls",
            "_model_module_version": "1.5.0",
            "_model_name": "ProgressStyleModel",
            "_view_count": null,
            "_view_module": "@jupyter-widgets/base",
            "_view_module_version": "1.2.0",
            "_view_name": "StyleView",
            "bar_color": null,
            "description_width": ""
          }
        },
        "5e05575dd7204059bc7359e112a68c82": {
          "model_module": "@jupyter-widgets/base",
          "model_name": "LayoutModel",
          "model_module_version": "1.2.0",
          "state": {
            "_model_module": "@jupyter-widgets/base",
            "_model_module_version": "1.2.0",
            "_model_name": "LayoutModel",
            "_view_count": null,
            "_view_module": "@jupyter-widgets/base",
            "_view_module_version": "1.2.0",
            "_view_name": "LayoutView",
            "align_content": null,
            "align_items": null,
            "align_self": null,
            "border": null,
            "bottom": null,
            "display": null,
            "flex": null,
            "flex_flow": null,
            "grid_area": null,
            "grid_auto_columns": null,
            "grid_auto_flow": null,
            "grid_auto_rows": null,
            "grid_column": null,
            "grid_gap": null,
            "grid_row": null,
            "grid_template_areas": null,
            "grid_template_columns": null,
            "grid_template_rows": null,
            "height": null,
            "justify_content": null,
            "justify_items": null,
            "left": null,
            "margin": null,
            "max_height": null,
            "max_width": null,
            "min_height": null,
            "min_width": null,
            "object_fit": null,
            "object_position": null,
            "order": null,
            "overflow": null,
            "overflow_x": null,
            "overflow_y": null,
            "padding": null,
            "right": null,
            "top": null,
            "visibility": null,
            "width": null
          }
        },
        "d1114f4cd9544186887736cbe483766f": {
          "model_module": "@jupyter-widgets/controls",
          "model_name": "DescriptionStyleModel",
          "model_module_version": "1.5.0",
          "state": {
            "_model_module": "@jupyter-widgets/controls",
            "_model_module_version": "1.5.0",
            "_model_name": "DescriptionStyleModel",
            "_view_count": null,
            "_view_module": "@jupyter-widgets/base",
            "_view_module_version": "1.2.0",
            "_view_name": "StyleView",
            "description_width": ""
          }
        }
      }
    }
  },
  "cells": [
    {
      "cell_type": "markdown",
      "metadata": {
        "id": "view-in-github",
        "colab_type": "text"
      },
      "source": [
        "<a href=\"https://colab.research.google.com/github/abdulmajee/news_data_augmetation/blob/main/3009_doc_Fine_tuning_BERT_(dbmdz_bert_base_turkish_cased)_for_multi_label_text_classification.ipynb\" target=\"_parent\"><img src=\"https://colab.research.google.com/assets/colab-badge.svg\" alt=\"Open In Colab\"/></a>"
      ]
    },
    {
      "cell_type": "markdown",
      "metadata": {
        "id": "kLB3I4FKZ5Lr"
      },
      "source": [
        "# Fine-tuning BERT (and friends) for multi-label text classification\n",
        "\n",
        "In this notebook, we are going to fine-tune BERT to predict one or more labels for a given piece of text. Note that this notebook illustrates how to fine-tune a bert-base-uncased model, but you can also fine-tune a RoBERTa, DeBERTa, DistilBERT, CANINE, ... checkpoint in the same way. \n",
        "\n",
        "All of those work in the same way: they add a linear layer on top of the base model, which is used to produce a tensor of shape (batch_size, num_labels), indicating the unnormalized scores for a number of labels for every example in the batch.\n",
        "\n",
        "\n",
        "\n",
        "## Set-up environment\n",
        "\n",
        "First, we install the libraries which we'll use: HuggingFace Transformers and Datasets."
      ]
    },
    {
      "cell_type": "code",
      "metadata": {
        "id": "4wxY3x-ZZz8h"
      },
      "source": [
        "!pip install -q transformers datasets"
      ],
      "execution_count": 1,
      "outputs": []
    },
    {
      "cell_type": "markdown",
      "metadata": {
        "id": "bIH9NP0MZ6-O"
      },
      "source": [
        "## Load dataset\n",
        "\n",
        "Next, let's download a multi-label text classification dataset from the [hub](https://huggingface.co/).\n",
        "\n",
        "At the time of writing, I picked a random one as follows:   \n",
        "\n",
        "* first, go to the \"datasets\" tab on huggingface.co\n",
        "* next, select the \"multi-label-classification\" tag on the left as well as the the \"1k<10k\" tag (fo find a relatively small dataset).\n",
        "\n",
        "Note that you can also easily load your local data (i.e. csv files, txt files, Parquet files, JSON, ...) as explained [here](https://huggingface.co/docs/datasets/loading.html#local-and-remote-files).\n",
        "\n"
      ]
    },
    {
      "cell_type": "code",
      "source": [
        "from google.colab import drive\n",
        "drive.mount('/content/drive')"
      ],
      "metadata": {
        "colab": {
          "base_uri": "https://localhost:8080/"
        },
        "id": "Gkz4-ShpEdRo",
        "outputId": "29303605-ad7c-490f-9b26-34c1ed06374f"
      },
      "execution_count": 2,
      "outputs": [
        {
          "output_type": "stream",
          "name": "stdout",
          "text": [
            "Drive already mounted at /content/drive; to attempt to forcibly remount, call drive.mount(\"/content/drive\", force_remount=True).\n"
          ]
        }
      ]
    },
    {
      "cell_type": "code",
      "metadata": {
        "colab": {
          "base_uri": "https://localhost:8080/"
        },
        "id": "sd1LiXGjZ420",
        "outputId": "2f7eb39f-13af-4664-9c25-3572cf72618a"
      },
      "source": [
        "import datasets\n",
        "from datasets import load_dataset, DatasetDict\n",
        "\n",
        "\n",
        "# Load original daasets from google drive\n",
        "dataset = load_dataset('csv', data_files='/content/drive/MyDrive/Colab Notebooks/metin_dosyasi_dataframe.csv', split = 'train')"
      ],
      "execution_count": 3,
      "outputs": [
        {
          "output_type": "stream",
          "name": "stderr",
          "text": [
            "Using custom data configuration default-1b738122277497e5\n",
            "Reusing dataset csv (/root/.cache/huggingface/datasets/csv/default-1b738122277497e5/0.0.0/51cce309a08df9c4d82ffd9363bbe090bf173197fc01a71b034e8594995a1a58)\n"
          ]
        }
      ]
    },
    {
      "cell_type": "markdown",
      "metadata": {
        "id": "QCL02vQgxYTO"
      },
      "source": [
        "As we can see, the dataset contains 3 splits: one for training, one for validation and one for testing."
      ]
    },
    {
      "cell_type": "code",
      "metadata": {
        "colab": {
          "base_uri": "https://localhost:8080/"
        },
        "id": "pRd1kXQZjYIY",
        "outputId": "98d99edb-ce0e-48ba-81eb-456781180f07"
      },
      "source": [
        "dataset"
      ],
      "execution_count": 4,
      "outputs": [
        {
          "output_type": "execute_result",
          "data": {
            "text/plain": [
              "Dataset({\n",
              "    features: ['text', 'Careers', 'Personal_Finance', 'Religion_&_Spirituality', 'Travel', 'Science', 'Food_&_Drink', 'Events_and_Attractions', 'Real_Estate', 'Family_and_Relationships', 'Sports', 'Healthy_Living', 'Shopping', 'News_and_Politics', 'Television', 'Movies', 'Pop_Culture', 'Hobbies_&_Interests', 'Home_&_Garden', 'Pets', 'Automotive', 'Medical_Health', 'Books_and_Literature', 'Style_&_Fashion', 'Fine_Art', 'Technology_&_Computing', 'Music_and_Audio', 'Business_and_Finance', 'Video_Gaming', 'Education'],\n",
              "    num_rows: 3009\n",
              "})"
            ]
          },
          "metadata": {},
          "execution_count": 4
        }
      ]
    },
    {
      "cell_type": "code",
      "source": [
        "# dataset = dataset.remove_columns(\"bilgilHealthy_Living\")"
      ],
      "metadata": {
        "id": "cyA2RKoe8d0e"
      },
      "execution_count": 5,
      "outputs": []
    },
    {
      "cell_type": "code",
      "source": [
        "metin_train_devtest = dataset.train_test_split(shuffle = True, seed = 200, test_size=0.1)\n",
        "metin_dev_test = metin_train_devtest['test'].train_test_split(shuffle = True, seed = 200, test_size=0.50)\n",
        "dataset = DatasetDict({\n",
        "    'train': metin_train_devtest['train'],\n",
        "    'test': metin_dev_test['test'],\n",
        "    'dev': metin_dev_test['train']})"
      ],
      "metadata": {
        "colab": {
          "base_uri": "https://localhost:8080/"
        },
        "id": "0CYmfaOah_Ji",
        "outputId": "57e823f8-a777-43ab-e986-ef798b6e351f"
      },
      "execution_count": 6,
      "outputs": [
        {
          "output_type": "stream",
          "name": "stderr",
          "text": [
            "Loading cached split indices for dataset at /root/.cache/huggingface/datasets/csv/default-1b738122277497e5/0.0.0/51cce309a08df9c4d82ffd9363bbe090bf173197fc01a71b034e8594995a1a58/cache-3540db54bb0d9bc0.arrow and /root/.cache/huggingface/datasets/csv/default-1b738122277497e5/0.0.0/51cce309a08df9c4d82ffd9363bbe090bf173197fc01a71b034e8594995a1a58/cache-6375d2882b0ad4bd.arrow\n",
            "Loading cached split indices for dataset at /root/.cache/huggingface/datasets/csv/default-1b738122277497e5/0.0.0/51cce309a08df9c4d82ffd9363bbe090bf173197fc01a71b034e8594995a1a58/cache-70e4598fcddf3b19.arrow and /root/.cache/huggingface/datasets/csv/default-1b738122277497e5/0.0.0/51cce309a08df9c4d82ffd9363bbe090bf173197fc01a71b034e8594995a1a58/cache-ca8ef2e4bdd92296.arrow\n"
          ]
        }
      ]
    },
    {
      "cell_type": "markdown",
      "metadata": {
        "id": "PgS0wMWExcqP"
      },
      "source": [
        "Let's check the first example of the training split:"
      ]
    },
    {
      "cell_type": "code",
      "source": [
        "dataset"
      ],
      "metadata": {
        "colab": {
          "base_uri": "https://localhost:8080/"
        },
        "id": "pdY2ZfOnmYn8",
        "outputId": "3020ee96-c100-48f3-82a5-01d5de4ae393"
      },
      "execution_count": 7,
      "outputs": [
        {
          "output_type": "execute_result",
          "data": {
            "text/plain": [
              "DatasetDict({\n",
              "    train: Dataset({\n",
              "        features: ['text', 'Careers', 'Personal_Finance', 'Religion_&_Spirituality', 'Travel', 'Science', 'Food_&_Drink', 'Events_and_Attractions', 'Real_Estate', 'Family_and_Relationships', 'Sports', 'Healthy_Living', 'Shopping', 'News_and_Politics', 'Television', 'Movies', 'Pop_Culture', 'Hobbies_&_Interests', 'Home_&_Garden', 'Pets', 'Automotive', 'Medical_Health', 'Books_and_Literature', 'Style_&_Fashion', 'Fine_Art', 'Technology_&_Computing', 'Music_and_Audio', 'Business_and_Finance', 'Video_Gaming', 'Education'],\n",
              "        num_rows: 2708\n",
              "    })\n",
              "    test: Dataset({\n",
              "        features: ['text', 'Careers', 'Personal_Finance', 'Religion_&_Spirituality', 'Travel', 'Science', 'Food_&_Drink', 'Events_and_Attractions', 'Real_Estate', 'Family_and_Relationships', 'Sports', 'Healthy_Living', 'Shopping', 'News_and_Politics', 'Television', 'Movies', 'Pop_Culture', 'Hobbies_&_Interests', 'Home_&_Garden', 'Pets', 'Automotive', 'Medical_Health', 'Books_and_Literature', 'Style_&_Fashion', 'Fine_Art', 'Technology_&_Computing', 'Music_and_Audio', 'Business_and_Finance', 'Video_Gaming', 'Education'],\n",
              "        num_rows: 151\n",
              "    })\n",
              "    dev: Dataset({\n",
              "        features: ['text', 'Careers', 'Personal_Finance', 'Religion_&_Spirituality', 'Travel', 'Science', 'Food_&_Drink', 'Events_and_Attractions', 'Real_Estate', 'Family_and_Relationships', 'Sports', 'Healthy_Living', 'Shopping', 'News_and_Politics', 'Television', 'Movies', 'Pop_Culture', 'Hobbies_&_Interests', 'Home_&_Garden', 'Pets', 'Automotive', 'Medical_Health', 'Books_and_Literature', 'Style_&_Fashion', 'Fine_Art', 'Technology_&_Computing', 'Music_and_Audio', 'Business_and_Finance', 'Video_Gaming', 'Education'],\n",
              "        num_rows: 150\n",
              "    })\n",
              "})"
            ]
          },
          "metadata": {},
          "execution_count": 7
        }
      ]
    },
    {
      "cell_type": "code",
      "metadata": {
        "colab": {
          "base_uri": "https://localhost:8080/"
        },
        "id": "unjuTtKUjZI3",
        "outputId": "03bbfc8f-5c45-46de-dffa-273c4ec524ca"
      },
      "source": [
        "example = dataset['train'][0]\n",
        "example"
      ],
      "execution_count": 8,
      "outputs": [
        {
          "output_type": "execute_result",
          "data": {
            "text/plain": [
              "{'Automotive': 0,\n",
              " 'Books_and_Literature': 0,\n",
              " 'Business_and_Finance': 0,\n",
              " 'Careers': 0,\n",
              " 'Education': 0,\n",
              " 'Events_and_Attractions': 0,\n",
              " 'Family_and_Relationships': 0,\n",
              " 'Fine_Art': 0,\n",
              " 'Food_&_Drink': 0,\n",
              " 'Healthy_Living': 0,\n",
              " 'Hobbies_&_Interests': 0,\n",
              " 'Home_&_Garden': 0,\n",
              " 'Medical_Health': 0,\n",
              " 'Movies': 0,\n",
              " 'Music_and_Audio': 0,\n",
              " 'News_and_Politics': 0,\n",
              " 'Personal_Finance': 0,\n",
              " 'Pets': 0,\n",
              " 'Pop_Culture': 0,\n",
              " 'Real_Estate': 1,\n",
              " 'Religion_&_Spirituality': 0,\n",
              " 'Science': 0,\n",
              " 'Shopping': 0,\n",
              " 'Sports': 0,\n",
              " 'Style_&_Fashion': 0,\n",
              " 'Technology_&_Computing': 0,\n",
              " 'Television': 0,\n",
              " 'Travel': 0,\n",
              " 'Video_Gaming': 0,\n",
              " 'text': 'portville portville kiralık villa portville göcek i̇çeriğe atla holiday villas turkey vacation rentals vacation lettings gocek fethiye turkey menü kiralık göcek kiralık evler gökçeovacık kiralık evler i̇nlice kiralık evler sarıgerme kiralık evler sultaniye kiralık evler kiralık daireler kiralık doğa evleri kiralık villalar portville portville göcek kiralık portville göcek satılık satılık villa daire doğa evi arsa arazi ticari tekne kiralık tekne kiralık lobster tekne reggae kiralık yelkenli bavaria 36 kiralık motoryat rınker 27 kiralık motoryat imera gulet kiralama despina 18m kbn azura 24m kbn brutus 23m kbn satılık tekne konsiyerj bodrum havaalanı transferi antalya havaalanı transferi dalaman havaalanı transferi araç kiralama sss hakkımızda kiralık evler kiralık tekneler satılık emlak blog tatil evleri göcek sarıgerme türkiye merak edilenler festival mutlaka yapılması gerekenler turist rehberi ara ara kiralık göcek kiralık evler gökçeovacık kiralık evler i̇nlice kiralık evler sarıgerme kiralık evler sultaniye kiralık evler kiralık daireler kiralık doğa evleri kiralık villalar portville portville göcek kiralık portville göcek satılık satılık villa daire doğa evi arsa arazi ticari tekne kiralık tekne kiralık lobster tekne reggae kiralık yelkenli bavaria 36 kiralık motoryat rınker 27 kiralık motoryat imera gulet kiralama despina 18m kbn azura 24m kbn brutus 23m kbn satılık tekne konsiyerj bodrum havaalanı transferi antalya havaalanı transferi dalaman havaalanı transferi araç kiralama sss hakkımızda kiralık evler kiralık tekneler satılık emlak blog tatil evleri göcek sarıgerme türkiye merak edilenler festival mutlaka yapılması gerekenler turist rehberi göcek villalar portville göcek portville sitesi kiralık havuzlu villa göcek portville sitesi kiralık villa dila salon terastan havuzu özel plaj erişimi lüks dekorasyonu denize merkeze yakın mükemmel konumu sizlere hayallerinizin ötesinde bir tatil vaad ediyor dünya çapında ünlü amerikan firması watg tarafından tasarlanan özellikle deniz tekne tutkunlarına hitap eden portville sitesi göcek en prestijli en şık tasarımlı sitelerinin başında gelir resort hotel marin arasında yer alan portville sitesi konum olarak denizle iç içe 46bin m² lik alan üzerine kuruludur portville sitesi içerisinde yer alan 130 villanın 51 site boyunca devam eden uzun yüzme havuzu çevrelenirken diğer 79 villanın kanallarla deniz bağlantısı bulunmaktadır havuzla çevrelenen her villanın bahçesinden havuza doğrudan erişimi vardır söz konusu kiralık villa portville dila sitenin havuz çevrelenmiş villalarındandır portville sitesinde brüt 130m² net 115m² büyüklüğündeki kiralık villa giriş katında aydınlık teras çıkışlı salona yarı kapalı tam donanımlı mutfağa tuvalete sahiptir villa dila mutfağı tamamen siemens beyaz eşyalarla donatılmıştır salona kullanışlı servis penceresi bağlanır salondan teraslı bahçeye havuza kayar kapılı çıkış bulunmaktadır terasta konukların rahat edecekleri oturma grubu güneşlenme şezlongları bulunmaktadır ayrıca terastan ortak havuza doğrudan giriş mümkündür üst katta adet fransız balkonlu yatak odası ortak banyosu olan villanın dekorasyonunda birinci sınıf malzemelere beyaz renge ağırlık verilmiştir yatak odalarından biri master yatak odasıdır master yatak odasının özel banyosu giyinme odası vardır portville sitesi kiralık villa dila konukları marin içerisinde yer alan resort oteline ait göcek tek özel plajı olan blue point plajına 75 indirimle giriş hakkına sahip olurlar ayrıca site tarafından sağlanan golf aracı yaz döneminde site sakinlerinin plaja marinalara ulaşımını sağlamaktadır göcek merkezdeki marina restoran market çarşılara bir kaç dakikalık yürüyüş mesafesinde olan portville sitesi dalaman havalimanına araçla sadece 20 dakikalık mesafededir portville sitesi kiralık villa temel özellikleri portville sitesi kiralık villa dila göcek merkezinde bulunması sebebiyle çarşıya marketlere marinalara plaja yürüyerek ulaşım fırsatı verir portville sitesinin havuzlu kısmında yer alan kiralık villa biri ebeveyn banyolu toplam yatak odası tam donanımlı mutfak ortak banyo ortak wc havuz erişimli terasa sahiptir tamamı kaliteli birinci sınıf malzemelerle donatılmış olan villa konuklarına göcek tüm güzelliklerini konforlu bir şekilde yaşama fırsatı sunar merkezde bulunan kiralık villa dalaman havaalanı fethiye 20 25 dakika sürüş mesafesindedir sadece ilk girişte ihtiyaç olunan tuvalet kağıdı sabun gibi banyo ihtiyaçları mevcuttur talep üzerine ekstra ev temizliği sağlanabilir evcil hayvan kabul edilmez evin içinde sigara içilmez hijyen sanitasyon göcek en elit bölgelerinden portville sitesinde yer alan kiralık villa diğer tüm kiralık evlerimiz gibi nano gümüş ion teknolojili dezenfektan kullanılarak ulv makinasıyla dezenfekte edilmektedir yatak takımlarımız havlularımız 90 derecede yıkanmaktadır dilerseniz kendi havlu yatak takımlarınızı getirebilirsiniz ayrıca talebinize göre siz gelmeden yeni yatak takımı havlu satın alıp sizler için hazır bulundurabiliriz portville sitesinde kiralık villa için i̇ndirim fırsatlar 90 gün önceden rezervasyon yapmanız durumunda erken rezervasyon i̇ndirimi konaklamanızdan en fazla gün önce rezervasyon yapmanız durumunda son dakika i̇ndirimi evlerimizde hafta daha uzun kalmanız durumunda 10 uzun konaklama i̇ndirimi portville sitesinde kiralık villa dila haziran 15 eylül 13 tarihleri arasında geceden kısa konaklamalar kabul edilmemektedir ayrıcalıklı tatil hizmetleri araç kiralama portville sitesindeki kiralık villa göcek merkezine dakika yürüyüş mesafesinde bulunmaktadır merkeze erişim için araç ihtiyacınız bulunmamakla birlikte tatiliniz süresince hem göcek fethiye içindeki ulaşımınız hem fethiye çevresinde yer alan birbirinden eşsiz beldeleri antik yunan harabelerini keyifle gezip dolaşmanız için araba kiralamanızı öneririz göcek rentals olarak araç kiralama iş ortaklarımız sayesinde günlüğü sadece 350tl bakımlı yeni model araçları kullanımınıza sunuyoruz arzu ederseniz kiralık aracınızla sizi dalaman havalimanı ndan alıp dönüş gününüzde tekrar havaalanına ücretsiz bırakıyoruz ayrıntılar için arayınız konsiyerj hizmetleri kişiye özel tasarlanan dünya standartlarında konsiyerj hizmetlerini pazardaki en rekabetçi fiyatlarla gün 24 saat sunuyoruz her konuda uzman tatil konsiyerj ekibimiz iş ortaklarımızla seyahatinizi ömür boyu keyifle hatırlayacağınız eşsiz bir tatil deneyimine dönüştürmek için bekliyoruz portville sitesindeki havuzlu kiralık villa dila kaldığınızda yararlanabileceğiniz iş ortaklarımızla birlikte sunduğumuz ayrıcalıklı konsiyerj hizmetlerimizin bazıları şunlardır göcek araç kiralama dalaman bodrum and antalya havaalanı transferi seyahat planlaması villa otel rezervasyonları fethiye yat kiralama günlük tekne turları göcek portville sitesinde kiralık satılık villa konsiyerj hizmetleri göcek rentals olarak akdeniz en güzel tatil beldesi göcek portville sitesi çevresinde kiralık villa satılık daire tekne konsiyerj hizmetleri sunuyoruz i̇ster satılık deniz manzaralı müstakil villalar ister kiralık marina manzaralı daireler ister doğanın koynunda romantik bir köy evi isterseniz evinizi kendi zevkinize göre inşa edebileceğiniz deniz yada doğa manzaralı arsalar her zevke bütçeye uygun geniş emlak seçeneklerimiz seçkin tatil çözümlerimizle sizleri bekliyoruz bizi hemen arayın tatil deneyiminizi beraber tasarlayalım portville sitesi kiralık villa i̇çin hemen rezervasyon yapmak i̇ster misiniz rezervasyonunuzu hemen aşağıda bulunan rezervasyon formunu doldurarak yapabilirsiniz detaylar misafirler kolaylıklar klima balkon deniz kenarı ebeveyn banyolu yatak odası ücretsiz otopark ücretsiz wifi lüks dekorasyon havuz manzaralı ortak havuzlu teraslı düz ekran tv amerikan mutfak yemek alanı bulaşık makinası çamaşır makinası dubleks güvenlik 24 uydu yayını küvet jakuzi güvenlik kamerası merkezde site i̇çinde sofra gereçleri mutfak aletleri araç kiralama havaalanı transferi ücretli merkezi konum görüntüle havuz bahçe doğa boyut 130m² yatak tipi çift kişilik tek kişilik yatak kategoriler göcek villalar portville göcek ücretten itibaren 348 48 gecelik müsaitlik please contact us for reservation yazı dolaşımı önceki önceki gönderi venedik evleri kiralık villa stella sonraki sonraki gönderi portville sitesi kiralık villa detayli bi̇lgi̇ alin please enable javascript your browser to complete this form i̇sim mail telefon numaranız size nasıl yardımcı olabiliriz gönder blog konuları sarıgerme türkiye tatil evleri göcek mutlaka yapılması gerekenler festival uncategorized tr turist rehberi tekne göcek etkinlikleri kiralık tatil evleri doğa evleri merak edilenler satılık yazlık ev search ara ara hakkımızda gocek rentals akdeniz en güzel koyu fethiye göcek te villa kiralama satılık emlak konsiyerj sermaye gayrımenkul yatırım danışmanlığı hizmetleri sunmaktadır gocek rentals blog akdeniz en prestijli yaşam alanı portville villaları göcek hakkında merak edilenler göcek hakkında merak edilenler kiralık doğa evi koronavirüs sonrası turizm sektörü göcek te ne yapılır nerelere gidilir bizimle i̇letişime geçin telefon 90 850 885 3448 telefon 90 252 400 0948 email email protected çarşıyolu cd no 21 göcek fethiye 48310 muğla turkey yasal uyari gocek rentals yazılı izni olmadan herhangi bir içerik kısmen tamamen kopyalanamaz dağıtılamaz yayınlanamaz kullanılamaz holiday villas turkey 2019 çerez politikası i̇letişim eur try loading comments you must be logged to post comment we use cookies to ensure that we give you the best experience on our website if you continue to use this site we will assume that you are happy with it ok\\n'}"
            ]
          },
          "metadata": {},
          "execution_count": 8
        }
      ]
    },
    {
      "cell_type": "markdown",
      "metadata": {
        "id": "6DV0Rtetxgd4"
      },
      "source": [
        "The dataset consists of text documents, labeled with one or more categories. \n",
        "\n",
        "Let's create a list that contains the labels, as well as 2 dictionaries that map labels to integers and back."
      ]
    },
    {
      "cell_type": "code",
      "metadata": {
        "colab": {
          "base_uri": "https://localhost:8080/"
        },
        "id": "e5vZhQpvkE8s",
        "outputId": "626004af-6ee8-4581-8dcc-10a81a388125"
      },
      "source": [
        "labels = [label for label in dataset['train'].features.keys() if label not in ['text']]\n",
        "id2label = {idx:label for idx, label in enumerate(labels)}\n",
        "label2id = {label:idx for idx, label in enumerate(labels)}\n",
        "labels"
      ],
      "execution_count": 9,
      "outputs": [
        {
          "output_type": "execute_result",
          "data": {
            "text/plain": [
              "['Careers',\n",
              " 'Personal_Finance',\n",
              " 'Religion_&_Spirituality',\n",
              " 'Travel',\n",
              " 'Science',\n",
              " 'Food_&_Drink',\n",
              " 'Events_and_Attractions',\n",
              " 'Real_Estate',\n",
              " 'Family_and_Relationships',\n",
              " 'Sports',\n",
              " 'Healthy_Living',\n",
              " 'Shopping',\n",
              " 'News_and_Politics',\n",
              " 'Television',\n",
              " 'Movies',\n",
              " 'Pop_Culture',\n",
              " 'Hobbies_&_Interests',\n",
              " 'Home_&_Garden',\n",
              " 'Pets',\n",
              " 'Automotive',\n",
              " 'Medical_Health',\n",
              " 'Books_and_Literature',\n",
              " 'Style_&_Fashion',\n",
              " 'Fine_Art',\n",
              " 'Technology_&_Computing',\n",
              " 'Music_and_Audio',\n",
              " 'Business_and_Finance',\n",
              " 'Video_Gaming',\n",
              " 'Education']"
            ]
          },
          "metadata": {},
          "execution_count": 9
        }
      ]
    },
    {
      "cell_type": "markdown",
      "metadata": {
        "id": "nJ3Teyjmank2"
      },
      "source": [
        "## Preprocess data\n",
        "\n",
        "As models like BERT don't expect text as direct input, but rather `input_ids`, etc., we tokenize the text using the tokenizer. Here I'm using the `AutoTokenizer` API, which will automatically load the appropriate tokenizer based on the checkpoint on the hub.\n",
        "\n",
        "What's a bit tricky is that we also need to provide labels to the model. For multi-label text classification, this is a matrix of shape (batch_size, num_labels). Also important: this should be a tensor of floats rather than integers, otherwise PyTorch' `BCEWithLogitsLoss` (which the model will use) will complain, as explained [here](https://discuss.pytorch.org/t/multi-label-binary-classification-result-type-float-cant-be-cast-to-the-desired-output-type-long/117915/3)."
      ]
    },
    {
      "cell_type": "code",
      "metadata": {
        "id": "AFWlSsbZaRLc",
        "colab": {
          "base_uri": "https://localhost:8080/",
          "height": 113,
          "referenced_widgets": [
            "979efd70403845dd868f9f9e1a6a8873",
            "3ec4e0a578774a01a1a8672fb5923109",
            "78184b536b7e42f6861cdc77e4b455e7",
            "cdaa788761734a56a952c6dc323e4707",
            "c19c5fd97f4b4204add1a265238a3288",
            "24e19163b08a4e6591dfd9647c51a239",
            "89a68ca506d74b79ac8f3f99bfb2cb63",
            "069209eff27b4bc5bb1ea917e05e30b4",
            "8d9db6bff7d34c409385789afdc493e0",
            "00dca7e0e9c149d7b3ed22219bc5a0f2",
            "43cfb2e09f1849e49e5c6853d69caab2",
            "25dd01255aef4acc888b9ba42a685782",
            "bc9b5768598f409185c55285e2882bc0",
            "6346ccb89fba4194887e15a9c6dd103a",
            "74608c553f504574a3df4eaad35e3ba6",
            "2d3459e59da84a518d676735d1618b14",
            "bcbed9f4d4aa406985898028561d1152",
            "2d41ea7ac6454ac79e0ce781bb8a2440",
            "322a8b9b2ad444eab693f1693fa7cb7f",
            "20cb3243db584c669a74fdede20b9c05",
            "82c35ea900d74130a367080889a2223b",
            "1297109f64274bb3a19ed787329311d1",
            "32a332afd754417bab31980cead97d71",
            "1abe483c9e3b48b4b0c398779b2a2c64",
            "1d65fc949f304323863c0bfb4aec3d92",
            "fb378f1a9dbd4112a759737d8f253671",
            "b77617a848fa4136b6eb9a6725cfceea",
            "09ccf9ae84db43ee83b593a738e34c05",
            "d25fbf9170854687b84f78bf1aa6f05c",
            "ca33d578658a454eb491ed4f93c1a2b5",
            "d29c6248a77c4022a7da6f121cf4eb90",
            "a1b60ae2f1614b5b89a1600a15a16bcb",
            "87243b17eb2a40baaf2b05db8fede720"
          ]
        },
        "outputId": "5a80cf4b-8d27-4f86-920e-00ca55380a19"
      },
      "source": [
        "from transformers import AutoTokenizer\n",
        "import numpy as np\n",
        "\n",
        "tokenizer = AutoTokenizer.from_pretrained(\"dbmdz/bert-base-turkish-cased\")\n",
        "\n",
        "def preprocess_data(examples):\n",
        "  # take a batch of texts\n",
        "  text = examples[\"text\"]\n",
        "  # encode them\n",
        "  encoding = tokenizer(text, padding=\"max_length\", truncation=True, max_length=128)\n",
        "  # add labels\n",
        "  labels_batch = {k: examples[k] for k in examples.keys() if k in labels}\n",
        "  # create numpy array of shape (batch_size, num_labels)\n",
        "  labels_matrix = np.zeros((len(text), len(labels)))\n",
        "  # fill numpy array\n",
        "  for idx, label in enumerate(labels):\n",
        "    labels_matrix[:, idx] = labels_batch[label]\n",
        "\n",
        "  encoding[\"labels\"] = labels_matrix.tolist()\n",
        "  \n",
        "  return encoding"
      ],
      "execution_count": 10,
      "outputs": [
        {
          "output_type": "display_data",
          "data": {
            "text/plain": [
              "Downloading:   0%|          | 0.00/60.0 [00:00<?, ?B/s]"
            ],
            "application/vnd.jupyter.widget-view+json": {
              "version_major": 2,
              "version_minor": 0,
              "model_id": "979efd70403845dd868f9f9e1a6a8873"
            }
          },
          "metadata": {}
        },
        {
          "output_type": "display_data",
          "data": {
            "text/plain": [
              "Downloading:   0%|          | 0.00/385 [00:00<?, ?B/s]"
            ],
            "application/vnd.jupyter.widget-view+json": {
              "version_major": 2,
              "version_minor": 0,
              "model_id": "25dd01255aef4acc888b9ba42a685782"
            }
          },
          "metadata": {}
        },
        {
          "output_type": "display_data",
          "data": {
            "text/plain": [
              "Downloading:   0%|          | 0.00/245k [00:00<?, ?B/s]"
            ],
            "application/vnd.jupyter.widget-view+json": {
              "version_major": 2,
              "version_minor": 0,
              "model_id": "32a332afd754417bab31980cead97d71"
            }
          },
          "metadata": {}
        }
      ]
    },
    {
      "cell_type": "code",
      "metadata": {
        "colab": {
          "base_uri": "https://localhost:8080/",
          "height": 150,
          "referenced_widgets": [
            "a0e3de248cc64e40a958eafbb5241308",
            "c35a6496ae2043feb630d954c6edf210",
            "76cb25a124594f64919c91fc764d79db",
            "3463370c6a874076809fdf087294838e",
            "5c701be5fda04c059518d769277993d2",
            "dbc4368a5c3c4b6590a86965fc4c5fdc",
            "7756d58c200347148b3730df08d84b4a",
            "cc9451fd9e824181b7078db82b3ebaac",
            "d76ab619479c4f219e681ed67e86491e",
            "214bc16a89dc42cbbb2530f9f1f3adc6",
            "fd52349ae66f4c05a11303694ff60afe",
            "e869faef6f1b4514bee5e04cd92b83d5",
            "0a0870af9b404a05808525cc2124d48f",
            "b77e1ea55e3d4b8081fb061346d57742",
            "715f76c942824e45906df93d27f05b43",
            "b8c82019766c446c9db87a21084da01e",
            "f37fd62212e04b4e885c482319aa8f59",
            "ba7325aef01240cc92d2cd73d6b5211c",
            "0f0b584476b344678663d345a69a89f6",
            "29a4362d04944fa4935bcede83c1a288",
            "1576085603e8430a8843869822d69422",
            "785a4119eb544c0596008e03994dd20b",
            "12bfad1e4aa24d1587dc6a9936bf92fa",
            "08b8b938ab884987a96043063f936d2d",
            "7584fbd95fcc4c648524a9034c286a1c",
            "2cdf3574ec7e43dfbdfc095e17d937e4",
            "d0a6bb62cb4349cf83c0e03efcdcf36a",
            "bf53b4c4d25c4e7dbc18601d9c303314",
            "39d30aab5fc84214b5885530ddeadd88",
            "12e9fcaf014b448aafcff4a6b2f4cde7",
            "0c238778935d4e8e8f5161b4efab8909",
            "decff325a3e146db874cd187ce996d71",
            "a57919dcba484390a02e58c5eb63fa37"
          ]
        },
        "id": "i4ENBTdulBEI",
        "outputId": "c17f0325-1a8f-4aff-de7a-18e5a313d65e"
      },
      "source": [
        "encoded_dataset = dataset.map(preprocess_data, batched=True, remove_columns=dataset['train'].column_names)"
      ],
      "execution_count": 11,
      "outputs": [
        {
          "output_type": "stream",
          "name": "stderr",
          "text": [
            "Parameter 'function'=<function preprocess_data at 0x7f2383c894d0> of the transform datasets.arrow_dataset.Dataset._map_single couldn't be hashed properly, a random hash was used instead. Make sure your transforms and parameters are serializable with pickle or dill for the dataset fingerprinting and caching to work. If you reuse this transform, the caching mechanism will consider it to be different from the previous calls and recompute everything. This warning is only showed once. Subsequent hashing failures won't be showed.\n"
          ]
        },
        {
          "output_type": "display_data",
          "data": {
            "text/plain": [
              "  0%|          | 0/3 [00:00<?, ?ba/s]"
            ],
            "application/vnd.jupyter.widget-view+json": {
              "version_major": 2,
              "version_minor": 0,
              "model_id": "a0e3de248cc64e40a958eafbb5241308"
            }
          },
          "metadata": {}
        },
        {
          "output_type": "display_data",
          "data": {
            "text/plain": [
              "  0%|          | 0/1 [00:00<?, ?ba/s]"
            ],
            "application/vnd.jupyter.widget-view+json": {
              "version_major": 2,
              "version_minor": 0,
              "model_id": "e869faef6f1b4514bee5e04cd92b83d5"
            }
          },
          "metadata": {}
        },
        {
          "output_type": "display_data",
          "data": {
            "text/plain": [
              "  0%|          | 0/1 [00:00<?, ?ba/s]"
            ],
            "application/vnd.jupyter.widget-view+json": {
              "version_major": 2,
              "version_minor": 0,
              "model_id": "12bfad1e4aa24d1587dc6a9936bf92fa"
            }
          },
          "metadata": {}
        }
      ]
    },
    {
      "cell_type": "code",
      "metadata": {
        "colab": {
          "base_uri": "https://localhost:8080/"
        },
        "id": "0enAb0W9o25W",
        "outputId": "c9da6410-6332-4f6f-fa5e-b911327e42d7"
      },
      "source": [
        "example = encoded_dataset['train'][0]\n",
        "print(example.keys())"
      ],
      "execution_count": 12,
      "outputs": [
        {
          "output_type": "stream",
          "name": "stdout",
          "text": [
            "dict_keys(['input_ids', 'token_type_ids', 'attention_mask', 'labels'])\n"
          ]
        }
      ]
    },
    {
      "cell_type": "code",
      "metadata": {
        "colab": {
          "base_uri": "https://localhost:8080/",
          "height": 70
        },
        "id": "D0McCtJ8HRJY",
        "outputId": "d5be1707-2eb0-43ae-fd75-c7f86412f624"
      },
      "source": [
        "tokenizer.decode(example['input_ids'])"
      ],
      "execution_count": 13,
      "outputs": [
        {
          "output_type": "execute_result",
          "data": {
            "text/plain": [
              "'[CLS] portville portville kiralık villa portville göcek i̇çeriğe atla holiday villas turkey vacation rentals vacation lettings gocek fethiye turkey menü kiralık göcek kiralık evler gökçeovacık kiralık evler i̇nlice kiralık evler sarıgerme kiralık evler sultaniye kiralık evler kiralık daireler kiralık doğa evleri kiralık villalar portville portville göcek kiralık portville göcek satılık satılık villa daire doğa evi arsa arazi ticari tekne kiralık tekne kiralık lobster tekne reggae kiralık yelkenli bavaria 36 kiralık motoryat rınker 27 kiralık motoryat imera [SEP]'"
            ],
            "application/vnd.google.colaboratory.intrinsic+json": {
              "type": "string"
            }
          },
          "metadata": {},
          "execution_count": 13
        }
      ]
    },
    {
      "cell_type": "code",
      "metadata": {
        "colab": {
          "base_uri": "https://localhost:8080/"
        },
        "id": "VdIvj6WjHeZQ",
        "outputId": "de930093-df52-41bf-e08e-b2496629693c"
      },
      "source": [
        "example['labels']"
      ],
      "execution_count": 14,
      "outputs": [
        {
          "output_type": "execute_result",
          "data": {
            "text/plain": [
              "[0.0,\n",
              " 0.0,\n",
              " 0.0,\n",
              " 0.0,\n",
              " 0.0,\n",
              " 0.0,\n",
              " 0.0,\n",
              " 1.0,\n",
              " 0.0,\n",
              " 0.0,\n",
              " 0.0,\n",
              " 0.0,\n",
              " 0.0,\n",
              " 0.0,\n",
              " 0.0,\n",
              " 0.0,\n",
              " 0.0,\n",
              " 0.0,\n",
              " 0.0,\n",
              " 0.0,\n",
              " 0.0,\n",
              " 0.0,\n",
              " 0.0,\n",
              " 0.0,\n",
              " 0.0,\n",
              " 0.0,\n",
              " 0.0,\n",
              " 0.0,\n",
              " 0.0]"
            ]
          },
          "metadata": {},
          "execution_count": 14
        }
      ]
    },
    {
      "cell_type": "code",
      "metadata": {
        "colab": {
          "base_uri": "https://localhost:8080/"
        },
        "id": "q4Dx95t2o6N9",
        "outputId": "80678ee1-83b0-4785-c0e9-90f3f6a55da8"
      },
      "source": [
        "[id2label[idx] for idx, label in enumerate(example['labels']) if label == 1.0]"
      ],
      "execution_count": 15,
      "outputs": [
        {
          "output_type": "execute_result",
          "data": {
            "text/plain": [
              "['Real_Estate']"
            ]
          },
          "metadata": {},
          "execution_count": 15
        }
      ]
    },
    {
      "cell_type": "markdown",
      "metadata": {
        "id": "HgpKXDfvKBxn"
      },
      "source": [
        "Finally, we set the format of our data to PyTorch tensors. This will turn the training, validation and test sets into standard PyTorch [datasets](https://pytorch.org/docs/stable/data.html). "
      ]
    },
    {
      "cell_type": "code",
      "metadata": {
        "id": "Lk6Cq9duKBkA"
      },
      "source": [
        "encoded_dataset.set_format(\"torch\")"
      ],
      "execution_count": 16,
      "outputs": []
    },
    {
      "cell_type": "markdown",
      "metadata": {
        "id": "w5qSmCgWefWs"
      },
      "source": [
        "## Define model\n",
        "\n",
        "Here we define a model that includes a pre-trained base (i.e. the weights from bert-base-uncased) are loaded, with a random initialized classification head (linear layer) on top. One should fine-tune this head, together with the pre-trained base on a labeled dataset.\n",
        "\n",
        "This is also printed by the warning.\n",
        "\n",
        "We set the `problem_type` to be \"multi_label_classification\", as this will make sure the appropriate loss function is used (namely [`BCEWithLogitsLoss`](https://pytorch.org/docs/stable/generated/torch.nn.BCEWithLogitsLoss.html)). We also make sure the output layer has `len(labels)` output neurons, and we set the id2label and label2id mappings."
      ]
    },
    {
      "cell_type": "code",
      "metadata": {
        "colab": {
          "base_uri": "https://localhost:8080/",
          "height": 156,
          "referenced_widgets": [
            "7d4d708dedfd4618aed2b0390e37f55d",
            "6e4fbe5e83ed4ddf9d55c3b79d9681cd",
            "a9f7afb85b3a49a58dcbe99df15702bd",
            "92979933b8ca4058a07c15f72363e4bc",
            "22a4f76cb6d64cdcb239575bef19a9ab",
            "484cf1a077fa4e03942cb969c0f7277e",
            "92e249f2d74742fca314655147327899",
            "1c874da8b465494789e388175c59c8e6",
            "036bd89eb4e2485cb4df201660409ad0",
            "5e05575dd7204059bc7359e112a68c82",
            "d1114f4cd9544186887736cbe483766f"
          ]
        },
        "id": "6XPL1Z_RegBF",
        "outputId": "8f3b415f-1f65-4fa5-d9ef-0d29d92b282d"
      },
      "source": [
        "from transformers import AutoModelForSequenceClassification\n",
        "\n",
        "model = AutoModelForSequenceClassification.from_pretrained(\"dbmdz/bert-base-turkish-cased\", \n",
        "                                                           problem_type=\"multi_label_classification\", \n",
        "                                                           num_labels=len(labels),\n",
        "                                                           id2label=id2label,\n",
        "                                                           label2id=label2id)"
      ],
      "execution_count": 17,
      "outputs": [
        {
          "output_type": "display_data",
          "data": {
            "text/plain": [
              "Downloading:   0%|          | 0.00/424M [00:00<?, ?B/s]"
            ],
            "application/vnd.jupyter.widget-view+json": {
              "version_major": 2,
              "version_minor": 0,
              "model_id": "7d4d708dedfd4618aed2b0390e37f55d"
            }
          },
          "metadata": {}
        },
        {
          "output_type": "stream",
          "name": "stderr",
          "text": [
            "Some weights of the model checkpoint at dbmdz/bert-base-turkish-cased were not used when initializing BertForSequenceClassification: ['cls.predictions.transform.LayerNorm.weight', 'cls.predictions.bias', 'cls.predictions.decoder.bias', 'cls.predictions.decoder.weight', 'cls.seq_relationship.weight', 'cls.predictions.transform.LayerNorm.bias', 'cls.predictions.transform.dense.weight', 'cls.seq_relationship.bias', 'cls.predictions.transform.dense.bias']\n",
            "- This IS expected if you are initializing BertForSequenceClassification from the checkpoint of a model trained on another task or with another architecture (e.g. initializing a BertForSequenceClassification model from a BertForPreTraining model).\n",
            "- This IS NOT expected if you are initializing BertForSequenceClassification from the checkpoint of a model that you expect to be exactly identical (initializing a BertForSequenceClassification model from a BertForSequenceClassification model).\n",
            "Some weights of BertForSequenceClassification were not initialized from the model checkpoint at dbmdz/bert-base-turkish-cased and are newly initialized: ['classifier.weight', 'classifier.bias']\n",
            "You should probably TRAIN this model on a down-stream task to be able to use it for predictions and inference.\n"
          ]
        }
      ]
    },
    {
      "cell_type": "markdown",
      "metadata": {
        "id": "mjJGEXShp7te"
      },
      "source": [
        "## Train the model!\n",
        "\n",
        "We are going to train the model using HuggingFace's Trainer API. This requires us to define 2 things: \n",
        "\n",
        "* `TrainingArguments`, which specify training hyperparameters. All options can be found in the [docs](https://huggingface.co/transformers/main_classes/trainer.html#trainingarguments). Below, we for example specify that we want to evaluate after every epoch of training, we would like to save the model every epoch, we set the learning rate, the batch size to use for training/evaluation, how many epochs to train for, and so on.\n",
        "* a `Trainer` object (docs can be found [here](https://huggingface.co/transformers/main_classes/trainer.html#id1))."
      ]
    },
    {
      "cell_type": "code",
      "metadata": {
        "id": "K5a8_vIKqr7P"
      },
      "source": [
        "batch_size = 8\n",
        "metric_name = \"f1\""
      ],
      "execution_count": 18,
      "outputs": []
    },
    {
      "cell_type": "code",
      "metadata": {
        "id": "dR2GmpvDqbuZ"
      },
      "source": [
        "from transformers import TrainingArguments, Trainer\n",
        "\n",
        "args = TrainingArguments(\n",
        "    f\"bert-base-turkish-cased-finetuned-3009metin-dosya-turkish\",\n",
        "    evaluation_strategy = \"epoch\",\n",
        "    save_strategy = \"epoch\",\n",
        "    learning_rate=2e-5,\n",
        "    per_device_train_batch_size=batch_size,\n",
        "    per_device_eval_batch_size=batch_size,\n",
        "    num_train_epochs=5,\n",
        "    weight_decay=0.01,\n",
        "    load_best_model_at_end=True,\n",
        "    metric_for_best_model=metric_name,\n",
        "    # push_to_hub=True,\n",
        ")"
      ],
      "execution_count": 20,
      "outputs": []
    },
    {
      "cell_type": "markdown",
      "metadata": {
        "id": "1_v2fPFFJ3-v"
      },
      "source": [
        "We are also going to compute metrics while training. For this, we need to define a `compute_metrics` function, that returns a dictionary with the desired metric values."
      ]
    },
    {
      "cell_type": "code",
      "metadata": {
        "id": "797b2WHJqUgZ"
      },
      "source": [
        "from sklearn.metrics import f1_score, roc_auc_score, accuracy_score\n",
        "from transformers import EvalPrediction\n",
        "import torch\n",
        "    \n",
        "# source: https://jesusleal.io/2021/04/21/Longformer-multilabel-classification/\n",
        "def multi_label_metrics(predictions, labels, threshold=0.5):\n",
        "    # first, apply sigmoid on predictions which are of shape (batch_size, num_labels)\n",
        "    sigmoid = torch.nn.Sigmoid()\n",
        "    probs = sigmoid(torch.Tensor(predictions))\n",
        "    # next, use threshold to turn them into integer predictions\n",
        "    y_pred = np.zeros(probs.shape)\n",
        "    y_pred[np.where(probs >= threshold)] = 1\n",
        "    # finally, compute metrics\n",
        "    y_true = labels\n",
        "    f1_micro_average = f1_score(y_true=y_true, y_pred=y_pred, average='micro')\n",
        "    roc_auc = roc_auc_score(y_true, y_pred, average = 'micro')\n",
        "    accuracy = accuracy_score(y_true, y_pred)\n",
        "    # return as dictionary\n",
        "    metrics = {'f1': f1_micro_average,\n",
        "               'roc_auc': roc_auc,\n",
        "               'accuracy': accuracy}\n",
        "    return metrics\n",
        "\n",
        "def compute_metrics(p: EvalPrediction):\n",
        "    preds = p.predictions[0] if isinstance(p.predictions, \n",
        "            tuple) else p.predictions\n",
        "    result = multi_label_metrics(\n",
        "        predictions=preds, \n",
        "        labels=p.label_ids)\n",
        "    return result"
      ],
      "execution_count": 21,
      "outputs": []
    },
    {
      "cell_type": "markdown",
      "metadata": {
        "id": "fxNo4_TsvzDm"
      },
      "source": [
        "Let's verify a batch as well as a forward pass:"
      ]
    },
    {
      "cell_type": "code",
      "metadata": {
        "colab": {
          "base_uri": "https://localhost:8080/",
          "height": 35
        },
        "id": "IlOgGiojuWwG",
        "outputId": "421ff4f8-6cb2-49e5-f62f-22e0e928c854"
      },
      "source": [
        "encoded_dataset['train'][0]['labels'].type()"
      ],
      "execution_count": 22,
      "outputs": [
        {
          "output_type": "execute_result",
          "data": {
            "text/plain": [
              "'torch.FloatTensor'"
            ],
            "application/vnd.google.colaboratory.intrinsic+json": {
              "type": "string"
            }
          },
          "metadata": {},
          "execution_count": 22
        }
      ]
    },
    {
      "cell_type": "code",
      "metadata": {
        "colab": {
          "base_uri": "https://localhost:8080/"
        },
        "id": "Y41Kre_jvD7x",
        "outputId": "ed169ac4-2db3-40a7-bd0f-44309bca25ee"
      },
      "source": [
        "encoded_dataset['train']['input_ids'][0]"
      ],
      "execution_count": 23,
      "outputs": [
        {
          "output_type": "execute_result",
          "data": {
            "text/plain": [
              "tensor([    2,  8589, 24967,  8589, 24967,  9256, 16866,  8589, 24967,  2036,\n",
              "         2966,    77,  1305, 19777, 10338,  2582,  1971, 18559,  8465,  1032,\n",
              "        16866,  1022, 14335,  2018,  8263, 24156, 14495, 16092,  2008,  1022,\n",
              "         8263, 24156, 14495,  6181, 26080, 19643,  9153,  2966, 15116,  2092,\n",
              "        14335,  2018, 13916,  9256,  2036,  2966,  9256, 16303,  7052,  2581,\n",
              "         4115,  5794,  9256, 16303,    77,  1305,  1009, 17285,  1025,  9256,\n",
              "        16303,  6657,  5134,  2078,  9256, 16303, 17387,  2092,  9256, 16303,\n",
              "         9256, 23276,  9256,  9691, 16130,  9256, 16866,  1980,  8589, 24967,\n",
              "         8589, 24967,  2036,  2966,  9256,  8589, 24967,  2036,  2966, 11544,\n",
              "        11544, 16866,  9420,  9691,  8536, 13332, 12353,  6675, 16245,  9256,\n",
              "        16245,  9256, 20702,  2405, 16245, 18880,  3624,  1025,  9256, 18349,\n",
              "         2031,  3862, 26890,  1006,  5577,  9256,  4866, 11060,    86,  1976,\n",
              "         6933,  4377,  9256,  4866, 11060,  2697,  5004,     3])"
            ]
          },
          "metadata": {},
          "execution_count": 23
        }
      ]
    },
    {
      "cell_type": "code",
      "metadata": {
        "colab": {
          "base_uri": "https://localhost:8080/"
        },
        "id": "sxWcnZ8ku12V",
        "outputId": "6c15ecde-50a7-4840-dd7f-dd2406fbce5e"
      },
      "source": [
        "#forward pass\n",
        "outputs = model(input_ids=encoded_dataset['train']['input_ids'][0].unsqueeze(0), labels=encoded_dataset['train'][0]['labels'].unsqueeze(0))\n",
        "outputs"
      ],
      "execution_count": 24,
      "outputs": [
        {
          "output_type": "execute_result",
          "data": {
            "text/plain": [
              "SequenceClassifierOutput([('loss',\n",
              "                           tensor(0.7253, grad_fn=<BinaryCrossEntropyWithLogitsBackward0>)),\n",
              "                          ('logits',\n",
              "                           tensor([[-0.1711,  0.1353, -0.3556, -0.3489, -0.5810,  0.3280,  0.7590,  0.8785,\n",
              "                                     0.1871,  0.1319, -0.3137, -0.2073, -0.0723,  0.1970,  0.1933, -0.1610,\n",
              "                                     0.1579,  0.5345, -0.1100,  0.1389, -0.8697,  0.8899,  0.0530, -0.6766,\n",
              "                                     0.2165,  0.3625,  0.6660,  0.0812,  0.2483]],\n",
              "                                  grad_fn=<AddmmBackward0>))])"
            ]
          },
          "metadata": {},
          "execution_count": 24
        }
      ]
    },
    {
      "cell_type": "markdown",
      "metadata": {
        "id": "f-X2brZcv0X6"
      },
      "source": [
        "Let's start training!"
      ]
    },
    {
      "cell_type": "code",
      "metadata": {
        "id": "chq_3nUz73ib"
      },
      "source": [
        "trainer = Trainer(\n",
        "    model,\n",
        "    args,\n",
        "    train_dataset=encoded_dataset[\"train\"],\n",
        "    eval_dataset=encoded_dataset[\"dev\"],\n",
        "    tokenizer=tokenizer,\n",
        "    compute_metrics=compute_metrics\n",
        ")"
      ],
      "execution_count": 25,
      "outputs": []
    },
    {
      "cell_type": "code",
      "metadata": {
        "colab": {
          "base_uri": "https://localhost:8080/",
          "height": 1000
        },
        "id": "KXmFds8js6P8",
        "outputId": "700fd1e1-d61d-4dce-aac5-c63f1253f480"
      },
      "source": [
        "trainer.train()"
      ],
      "execution_count": 26,
      "outputs": [
        {
          "output_type": "stream",
          "name": "stderr",
          "text": [
            "/usr/local/lib/python3.7/dist-packages/transformers/optimization.py:309: FutureWarning: This implementation of AdamW is deprecated and will be removed in a future version. Use the PyTorch implementation torch.optim.AdamW instead, or set `no_deprecation_warning=True` to disable this warning\n",
            "  FutureWarning,\n",
            "***** Running training *****\n",
            "  Num examples = 2708\n",
            "  Num Epochs = 5\n",
            "  Instantaneous batch size per device = 8\n",
            "  Total train batch size (w. parallel, distributed & accumulation) = 8\n",
            "  Gradient Accumulation steps = 1\n",
            "  Total optimization steps = 1695\n"
          ]
        },
        {
          "output_type": "display_data",
          "data": {
            "text/plain": [
              "<IPython.core.display.HTML object>"
            ],
            "text/html": [
              "\n",
              "    <div>\n",
              "      \n",
              "      <progress value='1695' max='1695' style='width:300px; height:20px; vertical-align: middle;'></progress>\n",
              "      [1695/1695 06:23, Epoch 5/5]\n",
              "    </div>\n",
              "    <table border=\"1\" class=\"dataframe\">\n",
              "  <thead>\n",
              " <tr style=\"text-align: left;\">\n",
              "      <th>Epoch</th>\n",
              "      <th>Training Loss</th>\n",
              "      <th>Validation Loss</th>\n",
              "      <th>F1</th>\n",
              "      <th>Roc Auc</th>\n",
              "      <th>Accuracy</th>\n",
              "    </tr>\n",
              "  </thead>\n",
              "  <tbody>\n",
              "    <tr>\n",
              "      <td>1</td>\n",
              "      <td>No log</td>\n",
              "      <td>0.157244</td>\n",
              "      <td>0.073059</td>\n",
              "      <td>0.518788</td>\n",
              "      <td>0.000000</td>\n",
              "    </tr>\n",
              "    <tr>\n",
              "      <td>2</td>\n",
              "      <td>0.192100</td>\n",
              "      <td>0.104241</td>\n",
              "      <td>0.519031</td>\n",
              "      <td>0.681841</td>\n",
              "      <td>0.293333</td>\n",
              "    </tr>\n",
              "    <tr>\n",
              "      <td>3</td>\n",
              "      <td>0.095600</td>\n",
              "      <td>0.084933</td>\n",
              "      <td>0.722388</td>\n",
              "      <td>0.794036</td>\n",
              "      <td>0.526667</td>\n",
              "    </tr>\n",
              "    <tr>\n",
              "      <td>4</td>\n",
              "      <td>0.095600</td>\n",
              "      <td>0.075452</td>\n",
              "      <td>0.782857</td>\n",
              "      <td>0.833181</td>\n",
              "      <td>0.600000</td>\n",
              "    </tr>\n",
              "    <tr>\n",
              "      <td>5</td>\n",
              "      <td>0.066700</td>\n",
              "      <td>0.072883</td>\n",
              "      <td>0.780627</td>\n",
              "      <td>0.833061</td>\n",
              "      <td>0.593333</td>\n",
              "    </tr>\n",
              "  </tbody>\n",
              "</table><p>"
            ]
          },
          "metadata": {}
        },
        {
          "output_type": "stream",
          "name": "stderr",
          "text": [
            "***** Running Evaluation *****\n",
            "  Num examples = 150\n",
            "  Batch size = 8\n",
            "Saving model checkpoint to bert-base-turkish-cased-finetuned-3009metin-dosya-turkish/checkpoint-339\n",
            "Configuration saved in bert-base-turkish-cased-finetuned-3009metin-dosya-turkish/checkpoint-339/config.json\n",
            "Model weights saved in bert-base-turkish-cased-finetuned-3009metin-dosya-turkish/checkpoint-339/pytorch_model.bin\n",
            "tokenizer config file saved in bert-base-turkish-cased-finetuned-3009metin-dosya-turkish/checkpoint-339/tokenizer_config.json\n",
            "Special tokens file saved in bert-base-turkish-cased-finetuned-3009metin-dosya-turkish/checkpoint-339/special_tokens_map.json\n",
            "***** Running Evaluation *****\n",
            "  Num examples = 150\n",
            "  Batch size = 8\n",
            "Saving model checkpoint to bert-base-turkish-cased-finetuned-3009metin-dosya-turkish/checkpoint-678\n",
            "Configuration saved in bert-base-turkish-cased-finetuned-3009metin-dosya-turkish/checkpoint-678/config.json\n",
            "Model weights saved in bert-base-turkish-cased-finetuned-3009metin-dosya-turkish/checkpoint-678/pytorch_model.bin\n",
            "tokenizer config file saved in bert-base-turkish-cased-finetuned-3009metin-dosya-turkish/checkpoint-678/tokenizer_config.json\n",
            "Special tokens file saved in bert-base-turkish-cased-finetuned-3009metin-dosya-turkish/checkpoint-678/special_tokens_map.json\n",
            "***** Running Evaluation *****\n",
            "  Num examples = 150\n",
            "  Batch size = 8\n",
            "Saving model checkpoint to bert-base-turkish-cased-finetuned-3009metin-dosya-turkish/checkpoint-1017\n",
            "Configuration saved in bert-base-turkish-cased-finetuned-3009metin-dosya-turkish/checkpoint-1017/config.json\n",
            "Model weights saved in bert-base-turkish-cased-finetuned-3009metin-dosya-turkish/checkpoint-1017/pytorch_model.bin\n",
            "tokenizer config file saved in bert-base-turkish-cased-finetuned-3009metin-dosya-turkish/checkpoint-1017/tokenizer_config.json\n",
            "Special tokens file saved in bert-base-turkish-cased-finetuned-3009metin-dosya-turkish/checkpoint-1017/special_tokens_map.json\n",
            "***** Running Evaluation *****\n",
            "  Num examples = 150\n",
            "  Batch size = 8\n",
            "Saving model checkpoint to bert-base-turkish-cased-finetuned-3009metin-dosya-turkish/checkpoint-1356\n",
            "Configuration saved in bert-base-turkish-cased-finetuned-3009metin-dosya-turkish/checkpoint-1356/config.json\n",
            "Model weights saved in bert-base-turkish-cased-finetuned-3009metin-dosya-turkish/checkpoint-1356/pytorch_model.bin\n",
            "tokenizer config file saved in bert-base-turkish-cased-finetuned-3009metin-dosya-turkish/checkpoint-1356/tokenizer_config.json\n",
            "Special tokens file saved in bert-base-turkish-cased-finetuned-3009metin-dosya-turkish/checkpoint-1356/special_tokens_map.json\n",
            "***** Running Evaluation *****\n",
            "  Num examples = 150\n",
            "  Batch size = 8\n",
            "Saving model checkpoint to bert-base-turkish-cased-finetuned-3009metin-dosya-turkish/checkpoint-1695\n",
            "Configuration saved in bert-base-turkish-cased-finetuned-3009metin-dosya-turkish/checkpoint-1695/config.json\n",
            "Model weights saved in bert-base-turkish-cased-finetuned-3009metin-dosya-turkish/checkpoint-1695/pytorch_model.bin\n",
            "tokenizer config file saved in bert-base-turkish-cased-finetuned-3009metin-dosya-turkish/checkpoint-1695/tokenizer_config.json\n",
            "Special tokens file saved in bert-base-turkish-cased-finetuned-3009metin-dosya-turkish/checkpoint-1695/special_tokens_map.json\n",
            "\n",
            "\n",
            "Training completed. Do not forget to share your model on huggingface.co/models =)\n",
            "\n",
            "\n",
            "Loading best model from bert-base-turkish-cased-finetuned-3009metin-dosya-turkish/checkpoint-1356 (score: 0.7828571428571429).\n"
          ]
        },
        {
          "output_type": "execute_result",
          "data": {
            "text/plain": [
              "TrainOutput(global_step=1695, training_loss=0.11134828663153634, metrics={'train_runtime': 383.9382, 'train_samples_per_second': 35.266, 'train_steps_per_second': 4.415, 'total_flos': 890846831016960.0, 'train_loss': 0.11134828663153634, 'epoch': 5.0})"
            ]
          },
          "metadata": {},
          "execution_count": 26
        }
      ]
    },
    {
      "cell_type": "markdown",
      "metadata": {
        "id": "hiloh9eMK91o"
      },
      "source": [
        "## Evaluate\n",
        "\n",
        "After training, we evaluate our model on the validation set."
      ]
    },
    {
      "cell_type": "code",
      "metadata": {
        "colab": {
          "base_uri": "https://localhost:8080/",
          "height": 228
        },
        "id": "cMlebJ83LRYG",
        "outputId": "5dff958d-a75f-4e77-f67f-b4dca9d17e91"
      },
      "source": [
        "trainer.evaluate()"
      ],
      "execution_count": 27,
      "outputs": [
        {
          "output_type": "stream",
          "name": "stderr",
          "text": [
            "***** Running Evaluation *****\n",
            "  Num examples = 150\n",
            "  Batch size = 8\n"
          ]
        },
        {
          "output_type": "display_data",
          "data": {
            "text/plain": [
              "<IPython.core.display.HTML object>"
            ],
            "text/html": [
              "\n",
              "    <div>\n",
              "      \n",
              "      <progress value='19' max='19' style='width:300px; height:20px; vertical-align: middle;'></progress>\n",
              "      [19/19 00:01]\n",
              "    </div>\n",
              "    "
            ]
          },
          "metadata": {}
        },
        {
          "output_type": "execute_result",
          "data": {
            "text/plain": [
              "{'epoch': 5.0,\n",
              " 'eval_accuracy': 0.6,\n",
              " 'eval_f1': 0.7828571428571429,\n",
              " 'eval_loss': 0.07545159012079239,\n",
              " 'eval_roc_auc': 0.8331813233693255,\n",
              " 'eval_runtime': 1.2345,\n",
              " 'eval_samples_per_second': 121.508,\n",
              " 'eval_steps_per_second': 15.391}"
            ]
          },
          "metadata": {},
          "execution_count": 27
        }
      ]
    },
    {
      "cell_type": "markdown",
      "metadata": {
        "id": "3nmvJp0pLq-3"
      },
      "source": [
        "## Inference\n",
        "\n",
        "Let's test the model on a new sentence:"
      ]
    },
    {
      "cell_type": "code",
      "metadata": {
        "id": "3fxjfr8PLD42"
      },
      "source": [
        "text = \"Koca, Twitter hesabından yaptığı paylaşımda,Şoför arkadaşımız arzusu üzerine misafirim oldu. Hasta nakil aracıyla naklini yaptığı hastanın Ankara Şehir Hastanesi aciline yatışını sağladıktan 2,5 saat sonra aracıyla bakanlık binası önüne park edişinden başladık, çok şey konuştuk. Ama bazı şeyler konuşulduğu yerde kalmalı\"\n",
        "\n",
        "encoding = tokenizer(text, return_tensors=\"pt\")\n",
        "encoding = {k: v.to(trainer.model.device) for k,v in encoding.items()}\n",
        "\n",
        "outputs = trainer.model(**encoding)"
      ],
      "execution_count": 31,
      "outputs": []
    },
    {
      "cell_type": "markdown",
      "metadata": {
        "id": "8THm5-XgNHPm"
      },
      "source": [
        "The logits that come out of the model are of shape (batch_size, num_labels). As we are only forwarding a single sentence through the model, the `batch_size` equals 1. The logits is a tensor that contains the (unnormalized) scores for every individual label."
      ]
    },
    {
      "cell_type": "code",
      "metadata": {
        "colab": {
          "base_uri": "https://localhost:8080/"
        },
        "id": "KOBosj4UL2tU",
        "outputId": "d70de5b9-f5bf-4616-e480-972054e2bcdb"
      },
      "source": [
        "logits = outputs.logits\n",
        "logits.shape"
      ],
      "execution_count": 32,
      "outputs": [
        {
          "output_type": "execute_result",
          "data": {
            "text/plain": [
              "torch.Size([1, 29])"
            ]
          },
          "metadata": {},
          "execution_count": 32
        }
      ]
    },
    {
      "cell_type": "markdown",
      "metadata": {
        "id": "DC4XdDaHNVcd"
      },
      "source": [
        "To turn them into actual predicted labels, we first apply a sigmoid function independently to every score, such that every score is turned into a number between 0 and 1, that can be interpreted as a \"probability\" for how certain the model is that a given class belongs to the input text.\n",
        "\n",
        "Next, we use a threshold (typically, 0.5) to turn every probability into either a 1 (which means, we predict the label for the given example) or a 0 (which means, we don't predict the label for the given example)."
      ]
    },
    {
      "cell_type": "code",
      "metadata": {
        "colab": {
          "base_uri": "https://localhost:8080/"
        },
        "id": "mEkAQleMMT0k",
        "outputId": "0ae05ec2-b5a5-4162-bcae-89137aab6084"
      },
      "source": [
        "# apply sigmoid + threshold\n",
        "sigmoid = torch.nn.Sigmoid()\n",
        "probs = sigmoid(logits.squeeze().cpu())\n",
        "predictions = np.zeros(probs.shape)\n",
        "predictions[np.where(probs >= 0.5)] = 1\n",
        "# turn predicted id's into actual label names\n",
        "predicted_labels = [id2label[idx] for idx, label in enumerate(predictions) if label == 1.0]\n",
        "print(predicted_labels)"
      ],
      "execution_count": 33,
      "outputs": [
        {
          "output_type": "stream",
          "name": "stdout",
          "text": [
            "[]\n"
          ]
        }
      ]
    },
    {
      "cell_type": "code",
      "source": [
        ""
      ],
      "metadata": {
        "id": "MDQFlP69VDmS"
      },
      "execution_count": null,
      "outputs": []
    }
  ]
}