{
 "cells": [
  {
   "cell_type": "code",
   "execution_count": 38,
   "outputs": [],
   "source": [
    "import fasttext"
   ],
   "metadata": {
    "collapsed": false,
    "pycharm": {
     "name": "#%%\n"
    }
   }
  },
  {
   "cell_type": "code",
   "execution_count": null,
   "outputs": [
    {
     "name": "stderr",
     "output_type": "stream",
     "text": [
      "Warning : `load_model` does not return WordVectorModel or SupervisedModel any more, but a `FastText` object which is very similar.\n"
     ]
    },
    {
     "ename": "KeyboardInterrupt",
     "evalue": "",
     "output_type": "error",
     "traceback": [
      "\u001B[0;31m---------------------------------------------------------------------------\u001B[0m",
      "\u001B[0;31mKeyboardInterrupt\u001B[0m                         Traceback (most recent call last)",
      "Input \u001B[0;32mIn [39]\u001B[0m, in \u001B[0;36m<cell line: 1>\u001B[0;34m()\u001B[0m\n\u001B[0;32m----> 1\u001B[0m model \u001B[38;5;241m=\u001B[39m \u001B[43mfasttext\u001B[49m\u001B[38;5;241;43m.\u001B[39;49m\u001B[43mload_model\u001B[49m\u001B[43m(\u001B[49m\u001B[38;5;124;43mr\u001B[39;49m\u001B[38;5;124;43m'\u001B[39;49m\u001B[38;5;124;43mcc.tr.300.bin\u001B[39;49m\u001B[38;5;124;43m'\u001B[39;49m\u001B[43m)\u001B[49m\n",
      "File \u001B[0;32m~/PycharmProjects/TextDataAug/venv/lib/python3.8/site-packages/fasttext/FastText.py:441\u001B[0m, in \u001B[0;36mload_model\u001B[0;34m(path)\u001B[0m\n\u001B[1;32m    439\u001B[0m \u001B[38;5;124;03m\"\"\"Load a model given a filepath and return a model object.\"\"\"\u001B[39;00m\n\u001B[1;32m    440\u001B[0m eprint(\u001B[38;5;124m\"\u001B[39m\u001B[38;5;124mWarning : `load_model` does not return WordVectorModel or SupervisedModel any more, but a `FastText` object which is very similar.\u001B[39m\u001B[38;5;124m\"\u001B[39m)\n\u001B[0;32m--> 441\u001B[0m \u001B[38;5;28;01mreturn\u001B[39;00m \u001B[43m_FastText\u001B[49m\u001B[43m(\u001B[49m\u001B[43mmodel_path\u001B[49m\u001B[38;5;241;43m=\u001B[39;49m\u001B[43mpath\u001B[49m\u001B[43m)\u001B[49m\n",
      "File \u001B[0;32m~/PycharmProjects/TextDataAug/venv/lib/python3.8/site-packages/fasttext/FastText.py:98\u001B[0m, in \u001B[0;36m_FastText.__init__\u001B[0;34m(self, model_path, args)\u001B[0m\n\u001B[1;32m     96\u001B[0m \u001B[38;5;28mself\u001B[39m\u001B[38;5;241m.\u001B[39mf \u001B[38;5;241m=\u001B[39m fasttext\u001B[38;5;241m.\u001B[39mfasttext()\n\u001B[1;32m     97\u001B[0m \u001B[38;5;28;01mif\u001B[39;00m model_path \u001B[38;5;129;01mis\u001B[39;00m \u001B[38;5;129;01mnot\u001B[39;00m \u001B[38;5;28;01mNone\u001B[39;00m:\n\u001B[0;32m---> 98\u001B[0m     \u001B[38;5;28;43mself\u001B[39;49m\u001B[38;5;241;43m.\u001B[39;49m\u001B[43mf\u001B[49m\u001B[38;5;241;43m.\u001B[39;49m\u001B[43mloadModel\u001B[49m\u001B[43m(\u001B[49m\u001B[43mmodel_path\u001B[49m\u001B[43m)\u001B[49m\n\u001B[1;32m     99\u001B[0m \u001B[38;5;28mself\u001B[39m\u001B[38;5;241m.\u001B[39m_words \u001B[38;5;241m=\u001B[39m \u001B[38;5;28;01mNone\u001B[39;00m\n\u001B[1;32m    100\u001B[0m \u001B[38;5;28mself\u001B[39m\u001B[38;5;241m.\u001B[39m_labels \u001B[38;5;241m=\u001B[39m \u001B[38;5;28;01mNone\u001B[39;00m\n",
      "\u001B[0;31mKeyboardInterrupt\u001B[0m: "
     ]
    }
   ],
   "source": [
    "model = fasttext.load_model(r'cc.tr.300.bin')"
   ],
   "metadata": {
    "collapsed": false,
    "pycharm": {
     "name": "#%%\n"
    }
   }
  },
  {
   "cell_type": "code",
   "execution_count": null,
   "outputs": [],
   "source": [
    "nearest_neighbors = model.get_nearest_neighbors('okul', k = 1)\n",
    "nearest_neighbors"
   ],
   "metadata": {
    "collapsed": false,
    "pycharm": {
     "name": "#%%\n"
    }
   }
  },
  {
   "cell_type": "code",
   "execution_count": null,
   "outputs": [],
   "source": [
    "!wc metin_dosyasi.txt"
   ],
   "metadata": {
    "collapsed": false,
    "pycharm": {
     "name": "#%%\n"
    }
   }
  },
  {
   "cell_type": "code",
   "execution_count": 15,
   "outputs": [],
   "source": [
    "!head -n 2509 metin_dosyasi.txt > metin_dosyasi.train\n",
    "!tail -n 500 metin_dosyasi.txt > metin_dosyasi.valid"
   ],
   "metadata": {
    "collapsed": false,
    "pycharm": {
     "name": "#%%\n"
    }
   }
  },
  {
   "cell_type": "code",
   "execution_count": 32,
   "outputs": [
    {
     "name": "stderr",
     "output_type": "stream",
     "text": [
      "Read 3M words\n",
      "Number of words:  180944\n",
      "Number of labels: 29\n",
      "Progress: 100.0% words/sec/thread: 1671930 lr:  0.000000 avg.loss:  3.314281 ETA:   0h 0m 0s\n"
     ]
    }
   ],
   "source": [
    "new_model = fasttext.train_supervised(input=\"metin_dosyasi.train\", lr=0.5, epoch=25, wordNgrams=2, bucket=200000, dim=50, loss='ova')"
   ],
   "metadata": {
    "collapsed": false,
    "pycharm": {
     "name": "#%%\n"
    }
   }
  },
  {
   "cell_type": "code",
   "execution_count": 33,
   "outputs": [
    {
     "data": {
      "text/plain": "(500, 0.04544827586206897, 1.0)"
     },
     "execution_count": 33,
     "metadata": {},
     "output_type": "execute_result"
    }
   ],
   "source": [
    "new_model.test('metin_dosyasi.valid', k=-1)"
   ],
   "metadata": {
    "collapsed": false,
    "pycharm": {
     "name": "#%%\n"
    }
   }
  },
  {
   "cell_type": "code",
   "execution_count": null,
   "outputs": [],
   "source": [
    "# __label__Fine_Art\n",
    "test_doc = 'anasayfa türk musikisi vakfı menu anasayfa yönetim yönetim kurulu geçmiş yönetim kurulları vakıf senedi faaliyetlerimiz ortak yön arama toplantısı tm oya etkinliklerimiz üyelerimiz mevcut üyelerimiz vefat eden üyelerimiz müzisyen mezarlıkları feriköy mezarlığı karacaahmet mezarlığı kozlu mezarlığı merkezefendi mezarlığı şişli ermeni mezarlığı ulus mezarlığı zincirlikuyu mezarlığı yayınlar i̇letişim onların mirasını yaşatıyoruz sayısız bestekarımızın türk musikîsi için ürettiği eserleri yarılara taşımak için var gücümüzle çalışıyoruz eğitim sistemimizde müziğin hayati önemi müzik insanlık tarihinde her kültür için dil aynı önemde olduğu kabul teslim edilen bir vazgeçilmezliği ifade eder her kültür müziği değerler manzumesinin en önemli unsuru olarak adlandırır çünkü müzik bir kültür için müşterek düşünme hissetme paylaşmanın en önemli aracıdır milli kültürümüz ilim geleneğimiz kapsamında ise müziğin bir eğlence aracı değil hikmete dâir fen olduğu vurgulanarak ondan ne anlaşılması ne murad edilmesi gerektiğine dikkat çekilir i̇lim eğitim varlığın kâinatın hakikatlerine ulaşan yol olduğuna göre musiki hikmete dâir fendir tarihi perspektifinin altını çizdiği varlığı eşyayı hadiseleri anlama kavrama çabasının kılavuzu olduğuna dikkat çekilen müziğin kendisine atfedilen derin geniş önem ölçüsünde eğitim sisteminde yol gösterici kimliğiyle yer alması gerektiği kendiliğinden ortaya çıkar bizim kültürümüzün müziği ise dünyadaki diğer müziklerden çok daha renkli derin temellere dayanır çünkü tarihi geçmişimiz itibarıyla çok farklı dil din ırklara mensup insanların kültürlerin bileşkesinden oluşan bir yapısal geleneğimiz vardır bu gerçek müzik kültürümüzün alabildiğine zengin derin geniş karakterini oluşturmuştur bu renkten zenginlikten derinlikten genişlikten eğitim sistemimizde yararlanmamak düşünülemez son dönem faaliyetlerimiz ali ufki eserlerinden oluşan konserler hizmetlerinden oluşan paneller düzenlendi istanbul 2010 30 mayis 2010 crr konser salonunda münir nureddin eserleri konseri düzenlendi istanbul 2010 tmkoro ismli bir sivil toplum kurulusunun olusumuna onculuk edildi istanbul 2010 tüm faaliyetler beste köşesi aheste çek kürekleri mehtap uyanmasın bir alemi hayale dalan ab uyanmasın aguş nevbaharda habidedir cihan sürsün sabah haşre kadar hab uyanmasın dursun bu musiki semavi içinde saz leyl tarabda bir dahi mızrab uyanmasın aman ey gül sükuta varmayı emreyle bülbüle gülşende mest zevk olan ahbab uyanmasın değmez kemal uyanmaya ikmal ömriçün aman varsın bu uykudan dil bi tab uyanmasın ah uyanmasın münir nurettin selçuk aheste çek kürekleri türk musikisi vakfı web tasarım byc media\n",
    "'"
   ],
   "metadata": {
    "collapsed": false,
    "pycharm": {
     "name": "#%%\n"
    }
   }
  },
  {
   "cell_type": "code",
   "execution_count": 37,
   "outputs": [
    {
     "data": {
      "text/plain": "(('__label__Music_and_Audio',), array([0.01855657]))"
     },
     "execution_count": 37,
     "metadata": {},
     "output_type": "execute_result"
    }
   ],
   "source": [
    "new_model.predict(test_doc, k = -1)"
   ],
   "metadata": {
    "collapsed": false,
    "pycharm": {
     "name": "#%%\n"
    }
   }
  }
 ],
 "metadata": {
  "kernelspec": {
   "display_name": "Python 3",
   "language": "python",
   "name": "python3"
  },
  "language_info": {
   "codemirror_mode": {
    "name": "ipython",
    "version": 2
   },
   "file_extension": ".py",
   "mimetype": "text/x-python",
   "name": "python",
   "nbconvert_exporter": "python",
   "pygments_lexer": "ipython2",
   "version": "2.7.6"
  }
 },
 "nbformat": 4,
 "nbformat_minor": 0
}