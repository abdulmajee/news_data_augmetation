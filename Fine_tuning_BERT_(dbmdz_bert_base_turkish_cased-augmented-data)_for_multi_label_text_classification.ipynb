{
  "nbformat": 4,
  "nbformat_minor": 0,
  "metadata": {
    "colab": {
      "name": "Fine-tuning BERT (dbmdz/bert-base-turkish-cased) for multi-label text classification.ipynb",
      "provenance": [],
      "collapsed_sections": [],
      "include_colab_link": true
    },
    "kernelspec": {
      "name": "python3",
      "display_name": "Python 3"
    },
    "language_info": {
      "name": "python"
    },
    "accelerator": "GPU",
    "widgets": {
      "application/vnd.jupyter.widget-state+json": {
        "97244017ff174992a489775879ee7080": {
          "model_module": "@jupyter-widgets/controls",
          "model_name": "HBoxModel",
          "model_module_version": "1.5.0",
          "state": {
            "_dom_classes": [],
            "_model_module": "@jupyter-widgets/controls",
            "_model_module_version": "1.5.0",
            "_model_name": "HBoxModel",
            "_view_count": null,
            "_view_module": "@jupyter-widgets/controls",
            "_view_module_version": "1.5.0",
            "_view_name": "HBoxView",
            "box_style": "",
            "children": [
              "IPY_MODEL_52c2d6a8e2ba4ff49ce24aa4d828954e",
              "IPY_MODEL_80b2030411944303a2afc689b0bdec48",
              "IPY_MODEL_1be92dbee198492d9554fa09ecd282b3"
            ],
            "layout": "IPY_MODEL_4318a907d6164790b141dfa201655dd6"
          }
        },
        "52c2d6a8e2ba4ff49ce24aa4d828954e": {
          "model_module": "@jupyter-widgets/controls",
          "model_name": "HTMLModel",
          "model_module_version": "1.5.0",
          "state": {
            "_dom_classes": [],
            "_model_module": "@jupyter-widgets/controls",
            "_model_module_version": "1.5.0",
            "_model_name": "HTMLModel",
            "_view_count": null,
            "_view_module": "@jupyter-widgets/controls",
            "_view_module_version": "1.5.0",
            "_view_name": "HTMLView",
            "description": "",
            "description_tooltip": null,
            "layout": "IPY_MODEL_72360a6007a84337b2c4ce1bfb167dab",
            "placeholder": "​",
            "style": "IPY_MODEL_0ce01a506c4140e7836bc6878d94fc67",
            "value": "100%"
          }
        },
        "80b2030411944303a2afc689b0bdec48": {
          "model_module": "@jupyter-widgets/controls",
          "model_name": "FloatProgressModel",
          "model_module_version": "1.5.0",
          "state": {
            "_dom_classes": [],
            "_model_module": "@jupyter-widgets/controls",
            "_model_module_version": "1.5.0",
            "_model_name": "FloatProgressModel",
            "_view_count": null,
            "_view_module": "@jupyter-widgets/controls",
            "_view_module_version": "1.5.0",
            "_view_name": "ProgressView",
            "bar_style": "success",
            "description": "",
            "description_tooltip": null,
            "layout": "IPY_MODEL_76d305a559be404584b13e7a261673be",
            "max": 17,
            "min": 0,
            "orientation": "horizontal",
            "style": "IPY_MODEL_23d7e5595dd54dc584406469f92f6080",
            "value": 17
          }
        },
        "1be92dbee198492d9554fa09ecd282b3": {
          "model_module": "@jupyter-widgets/controls",
          "model_name": "HTMLModel",
          "model_module_version": "1.5.0",
          "state": {
            "_dom_classes": [],
            "_model_module": "@jupyter-widgets/controls",
            "_model_module_version": "1.5.0",
            "_model_name": "HTMLModel",
            "_view_count": null,
            "_view_module": "@jupyter-widgets/controls",
            "_view_module_version": "1.5.0",
            "_view_name": "HTMLView",
            "description": "",
            "description_tooltip": null,
            "layout": "IPY_MODEL_97d77cf2a06a44dd81331cc6be5aa8dd",
            "placeholder": "​",
            "style": "IPY_MODEL_9f2fb3ca841745dd96fee8eae7079f98",
            "value": " 17/17 [01:04&lt;00:00,  3.31s/ba]"
          }
        },
        "4318a907d6164790b141dfa201655dd6": {
          "model_module": "@jupyter-widgets/base",
          "model_name": "LayoutModel",
          "model_module_version": "1.2.0",
          "state": {
            "_model_module": "@jupyter-widgets/base",
            "_model_module_version": "1.2.0",
            "_model_name": "LayoutModel",
            "_view_count": null,
            "_view_module": "@jupyter-widgets/base",
            "_view_module_version": "1.2.0",
            "_view_name": "LayoutView",
            "align_content": null,
            "align_items": null,
            "align_self": null,
            "border": null,
            "bottom": null,
            "display": null,
            "flex": null,
            "flex_flow": null,
            "grid_area": null,
            "grid_auto_columns": null,
            "grid_auto_flow": null,
            "grid_auto_rows": null,
            "grid_column": null,
            "grid_gap": null,
            "grid_row": null,
            "grid_template_areas": null,
            "grid_template_columns": null,
            "grid_template_rows": null,
            "height": null,
            "justify_content": null,
            "justify_items": null,
            "left": null,
            "margin": null,
            "max_height": null,
            "max_width": null,
            "min_height": null,
            "min_width": null,
            "object_fit": null,
            "object_position": null,
            "order": null,
            "overflow": null,
            "overflow_x": null,
            "overflow_y": null,
            "padding": null,
            "right": null,
            "top": null,
            "visibility": null,
            "width": null
          }
        },
        "72360a6007a84337b2c4ce1bfb167dab": {
          "model_module": "@jupyter-widgets/base",
          "model_name": "LayoutModel",
          "model_module_version": "1.2.0",
          "state": {
            "_model_module": "@jupyter-widgets/base",
            "_model_module_version": "1.2.0",
            "_model_name": "LayoutModel",
            "_view_count": null,
            "_view_module": "@jupyter-widgets/base",
            "_view_module_version": "1.2.0",
            "_view_name": "LayoutView",
            "align_content": null,
            "align_items": null,
            "align_self": null,
            "border": null,
            "bottom": null,
            "display": null,
            "flex": null,
            "flex_flow": null,
            "grid_area": null,
            "grid_auto_columns": null,
            "grid_auto_flow": null,
            "grid_auto_rows": null,
            "grid_column": null,
            "grid_gap": null,
            "grid_row": null,
            "grid_template_areas": null,
            "grid_template_columns": null,
            "grid_template_rows": null,
            "height": null,
            "justify_content": null,
            "justify_items": null,
            "left": null,
            "margin": null,
            "max_height": null,
            "max_width": null,
            "min_height": null,
            "min_width": null,
            "object_fit": null,
            "object_position": null,
            "order": null,
            "overflow": null,
            "overflow_x": null,
            "overflow_y": null,
            "padding": null,
            "right": null,
            "top": null,
            "visibility": null,
            "width": null
          }
        },
        "0ce01a506c4140e7836bc6878d94fc67": {
          "model_module": "@jupyter-widgets/controls",
          "model_name": "DescriptionStyleModel",
          "model_module_version": "1.5.0",
          "state": {
            "_model_module": "@jupyter-widgets/controls",
            "_model_module_version": "1.5.0",
            "_model_name": "DescriptionStyleModel",
            "_view_count": null,
            "_view_module": "@jupyter-widgets/base",
            "_view_module_version": "1.2.0",
            "_view_name": "StyleView",
            "description_width": ""
          }
        },
        "76d305a559be404584b13e7a261673be": {
          "model_module": "@jupyter-widgets/base",
          "model_name": "LayoutModel",
          "model_module_version": "1.2.0",
          "state": {
            "_model_module": "@jupyter-widgets/base",
            "_model_module_version": "1.2.0",
            "_model_name": "LayoutModel",
            "_view_count": null,
            "_view_module": "@jupyter-widgets/base",
            "_view_module_version": "1.2.0",
            "_view_name": "LayoutView",
            "align_content": null,
            "align_items": null,
            "align_self": null,
            "border": null,
            "bottom": null,
            "display": null,
            "flex": null,
            "flex_flow": null,
            "grid_area": null,
            "grid_auto_columns": null,
            "grid_auto_flow": null,
            "grid_auto_rows": null,
            "grid_column": null,
            "grid_gap": null,
            "grid_row": null,
            "grid_template_areas": null,
            "grid_template_columns": null,
            "grid_template_rows": null,
            "height": null,
            "justify_content": null,
            "justify_items": null,
            "left": null,
            "margin": null,
            "max_height": null,
            "max_width": null,
            "min_height": null,
            "min_width": null,
            "object_fit": null,
            "object_position": null,
            "order": null,
            "overflow": null,
            "overflow_x": null,
            "overflow_y": null,
            "padding": null,
            "right": null,
            "top": null,
            "visibility": null,
            "width": null
          }
        },
        "23d7e5595dd54dc584406469f92f6080": {
          "model_module": "@jupyter-widgets/controls",
          "model_name": "ProgressStyleModel",
          "model_module_version": "1.5.0",
          "state": {
            "_model_module": "@jupyter-widgets/controls",
            "_model_module_version": "1.5.0",
            "_model_name": "ProgressStyleModel",
            "_view_count": null,
            "_view_module": "@jupyter-widgets/base",
            "_view_module_version": "1.2.0",
            "_view_name": "StyleView",
            "bar_color": null,
            "description_width": ""
          }
        },
        "97d77cf2a06a44dd81331cc6be5aa8dd": {
          "model_module": "@jupyter-widgets/base",
          "model_name": "LayoutModel",
          "model_module_version": "1.2.0",
          "state": {
            "_model_module": "@jupyter-widgets/base",
            "_model_module_version": "1.2.0",
            "_model_name": "LayoutModel",
            "_view_count": null,
            "_view_module": "@jupyter-widgets/base",
            "_view_module_version": "1.2.0",
            "_view_name": "LayoutView",
            "align_content": null,
            "align_items": null,
            "align_self": null,
            "border": null,
            "bottom": null,
            "display": null,
            "flex": null,
            "flex_flow": null,
            "grid_area": null,
            "grid_auto_columns": null,
            "grid_auto_flow": null,
            "grid_auto_rows": null,
            "grid_column": null,
            "grid_gap": null,
            "grid_row": null,
            "grid_template_areas": null,
            "grid_template_columns": null,
            "grid_template_rows": null,
            "height": null,
            "justify_content": null,
            "justify_items": null,
            "left": null,
            "margin": null,
            "max_height": null,
            "max_width": null,
            "min_height": null,
            "min_width": null,
            "object_fit": null,
            "object_position": null,
            "order": null,
            "overflow": null,
            "overflow_x": null,
            "overflow_y": null,
            "padding": null,
            "right": null,
            "top": null,
            "visibility": null,
            "width": null
          }
        },
        "9f2fb3ca841745dd96fee8eae7079f98": {
          "model_module": "@jupyter-widgets/controls",
          "model_name": "DescriptionStyleModel",
          "model_module_version": "1.5.0",
          "state": {
            "_model_module": "@jupyter-widgets/controls",
            "_model_module_version": "1.5.0",
            "_model_name": "DescriptionStyleModel",
            "_view_count": null,
            "_view_module": "@jupyter-widgets/base",
            "_view_module_version": "1.2.0",
            "_view_name": "StyleView",
            "description_width": ""
          }
        },
        "0be7fa7ed97048e494a96c7ccc015851": {
          "model_module": "@jupyter-widgets/controls",
          "model_name": "HBoxModel",
          "model_module_version": "1.5.0",
          "state": {
            "_dom_classes": [],
            "_model_module": "@jupyter-widgets/controls",
            "_model_module_version": "1.5.0",
            "_model_name": "HBoxModel",
            "_view_count": null,
            "_view_module": "@jupyter-widgets/controls",
            "_view_module_version": "1.5.0",
            "_view_name": "HBoxView",
            "box_style": "",
            "children": [
              "IPY_MODEL_4d982f56c89b4914a0cdabf876d0614f",
              "IPY_MODEL_df3092ec25bf4b2484a7507d3a8a9658",
              "IPY_MODEL_6c08669be2c34047a09d2ec27e95facb"
            ],
            "layout": "IPY_MODEL_23c82454c82646b1bc65bdabd7d3942f"
          }
        },
        "4d982f56c89b4914a0cdabf876d0614f": {
          "model_module": "@jupyter-widgets/controls",
          "model_name": "HTMLModel",
          "model_module_version": "1.5.0",
          "state": {
            "_dom_classes": [],
            "_model_module": "@jupyter-widgets/controls",
            "_model_module_version": "1.5.0",
            "_model_name": "HTMLModel",
            "_view_count": null,
            "_view_module": "@jupyter-widgets/controls",
            "_view_module_version": "1.5.0",
            "_view_name": "HTMLView",
            "description": "",
            "description_tooltip": null,
            "layout": "IPY_MODEL_fe461ec337684c69bb31982e843f5daa",
            "placeholder": "​",
            "style": "IPY_MODEL_ba95c212de254c0cbd8c69e636c50f12",
            "value": "100%"
          }
        },
        "df3092ec25bf4b2484a7507d3a8a9658": {
          "model_module": "@jupyter-widgets/controls",
          "model_name": "FloatProgressModel",
          "model_module_version": "1.5.0",
          "state": {
            "_dom_classes": [],
            "_model_module": "@jupyter-widgets/controls",
            "_model_module_version": "1.5.0",
            "_model_name": "FloatProgressModel",
            "_view_count": null,
            "_view_module": "@jupyter-widgets/controls",
            "_view_module_version": "1.5.0",
            "_view_name": "ProgressView",
            "bar_style": "success",
            "description": "",
            "description_tooltip": null,
            "layout": "IPY_MODEL_1fce95fa05bb4db785ea44517a80e5f7",
            "max": 1,
            "min": 0,
            "orientation": "horizontal",
            "style": "IPY_MODEL_37ec0d1d315c4ea7a3f50dfe86532b91",
            "value": 1
          }
        },
        "6c08669be2c34047a09d2ec27e95facb": {
          "model_module": "@jupyter-widgets/controls",
          "model_name": "HTMLModel",
          "model_module_version": "1.5.0",
          "state": {
            "_dom_classes": [],
            "_model_module": "@jupyter-widgets/controls",
            "_model_module_version": "1.5.0",
            "_model_name": "HTMLModel",
            "_view_count": null,
            "_view_module": "@jupyter-widgets/controls",
            "_view_module_version": "1.5.0",
            "_view_name": "HTMLView",
            "description": "",
            "description_tooltip": null,
            "layout": "IPY_MODEL_93ce8a25aabb4250aecee9d10ad9a86a",
            "placeholder": "​",
            "style": "IPY_MODEL_a7d9882f6baf4c508def85e9cc96e7d4",
            "value": " 1/1 [00:03&lt;00:00,  3.31s/ba]"
          }
        },
        "23c82454c82646b1bc65bdabd7d3942f": {
          "model_module": "@jupyter-widgets/base",
          "model_name": "LayoutModel",
          "model_module_version": "1.2.0",
          "state": {
            "_model_module": "@jupyter-widgets/base",
            "_model_module_version": "1.2.0",
            "_model_name": "LayoutModel",
            "_view_count": null,
            "_view_module": "@jupyter-widgets/base",
            "_view_module_version": "1.2.0",
            "_view_name": "LayoutView",
            "align_content": null,
            "align_items": null,
            "align_self": null,
            "border": null,
            "bottom": null,
            "display": null,
            "flex": null,
            "flex_flow": null,
            "grid_area": null,
            "grid_auto_columns": null,
            "grid_auto_flow": null,
            "grid_auto_rows": null,
            "grid_column": null,
            "grid_gap": null,
            "grid_row": null,
            "grid_template_areas": null,
            "grid_template_columns": null,
            "grid_template_rows": null,
            "height": null,
            "justify_content": null,
            "justify_items": null,
            "left": null,
            "margin": null,
            "max_height": null,
            "max_width": null,
            "min_height": null,
            "min_width": null,
            "object_fit": null,
            "object_position": null,
            "order": null,
            "overflow": null,
            "overflow_x": null,
            "overflow_y": null,
            "padding": null,
            "right": null,
            "top": null,
            "visibility": null,
            "width": null
          }
        },
        "fe461ec337684c69bb31982e843f5daa": {
          "model_module": "@jupyter-widgets/base",
          "model_name": "LayoutModel",
          "model_module_version": "1.2.0",
          "state": {
            "_model_module": "@jupyter-widgets/base",
            "_model_module_version": "1.2.0",
            "_model_name": "LayoutModel",
            "_view_count": null,
            "_view_module": "@jupyter-widgets/base",
            "_view_module_version": "1.2.0",
            "_view_name": "LayoutView",
            "align_content": null,
            "align_items": null,
            "align_self": null,
            "border": null,
            "bottom": null,
            "display": null,
            "flex": null,
            "flex_flow": null,
            "grid_area": null,
            "grid_auto_columns": null,
            "grid_auto_flow": null,
            "grid_auto_rows": null,
            "grid_column": null,
            "grid_gap": null,
            "grid_row": null,
            "grid_template_areas": null,
            "grid_template_columns": null,
            "grid_template_rows": null,
            "height": null,
            "justify_content": null,
            "justify_items": null,
            "left": null,
            "margin": null,
            "max_height": null,
            "max_width": null,
            "min_height": null,
            "min_width": null,
            "object_fit": null,
            "object_position": null,
            "order": null,
            "overflow": null,
            "overflow_x": null,
            "overflow_y": null,
            "padding": null,
            "right": null,
            "top": null,
            "visibility": null,
            "width": null
          }
        },
        "ba95c212de254c0cbd8c69e636c50f12": {
          "model_module": "@jupyter-widgets/controls",
          "model_name": "DescriptionStyleModel",
          "model_module_version": "1.5.0",
          "state": {
            "_model_module": "@jupyter-widgets/controls",
            "_model_module_version": "1.5.0",
            "_model_name": "DescriptionStyleModel",
            "_view_count": null,
            "_view_module": "@jupyter-widgets/base",
            "_view_module_version": "1.2.0",
            "_view_name": "StyleView",
            "description_width": ""
          }
        },
        "1fce95fa05bb4db785ea44517a80e5f7": {
          "model_module": "@jupyter-widgets/base",
          "model_name": "LayoutModel",
          "model_module_version": "1.2.0",
          "state": {
            "_model_module": "@jupyter-widgets/base",
            "_model_module_version": "1.2.0",
            "_model_name": "LayoutModel",
            "_view_count": null,
            "_view_module": "@jupyter-widgets/base",
            "_view_module_version": "1.2.0",
            "_view_name": "LayoutView",
            "align_content": null,
            "align_items": null,
            "align_self": null,
            "border": null,
            "bottom": null,
            "display": null,
            "flex": null,
            "flex_flow": null,
            "grid_area": null,
            "grid_auto_columns": null,
            "grid_auto_flow": null,
            "grid_auto_rows": null,
            "grid_column": null,
            "grid_gap": null,
            "grid_row": null,
            "grid_template_areas": null,
            "grid_template_columns": null,
            "grid_template_rows": null,
            "height": null,
            "justify_content": null,
            "justify_items": null,
            "left": null,
            "margin": null,
            "max_height": null,
            "max_width": null,
            "min_height": null,
            "min_width": null,
            "object_fit": null,
            "object_position": null,
            "order": null,
            "overflow": null,
            "overflow_x": null,
            "overflow_y": null,
            "padding": null,
            "right": null,
            "top": null,
            "visibility": null,
            "width": null
          }
        },
        "37ec0d1d315c4ea7a3f50dfe86532b91": {
          "model_module": "@jupyter-widgets/controls",
          "model_name": "ProgressStyleModel",
          "model_module_version": "1.5.0",
          "state": {
            "_model_module": "@jupyter-widgets/controls",
            "_model_module_version": "1.5.0",
            "_model_name": "ProgressStyleModel",
            "_view_count": null,
            "_view_module": "@jupyter-widgets/base",
            "_view_module_version": "1.2.0",
            "_view_name": "StyleView",
            "bar_color": null,
            "description_width": ""
          }
        },
        "93ce8a25aabb4250aecee9d10ad9a86a": {
          "model_module": "@jupyter-widgets/base",
          "model_name": "LayoutModel",
          "model_module_version": "1.2.0",
          "state": {
            "_model_module": "@jupyter-widgets/base",
            "_model_module_version": "1.2.0",
            "_model_name": "LayoutModel",
            "_view_count": null,
            "_view_module": "@jupyter-widgets/base",
            "_view_module_version": "1.2.0",
            "_view_name": "LayoutView",
            "align_content": null,
            "align_items": null,
            "align_self": null,
            "border": null,
            "bottom": null,
            "display": null,
            "flex": null,
            "flex_flow": null,
            "grid_area": null,
            "grid_auto_columns": null,
            "grid_auto_flow": null,
            "grid_auto_rows": null,
            "grid_column": null,
            "grid_gap": null,
            "grid_row": null,
            "grid_template_areas": null,
            "grid_template_columns": null,
            "grid_template_rows": null,
            "height": null,
            "justify_content": null,
            "justify_items": null,
            "left": null,
            "margin": null,
            "max_height": null,
            "max_width": null,
            "min_height": null,
            "min_width": null,
            "object_fit": null,
            "object_position": null,
            "order": null,
            "overflow": null,
            "overflow_x": null,
            "overflow_y": null,
            "padding": null,
            "right": null,
            "top": null,
            "visibility": null,
            "width": null
          }
        },
        "a7d9882f6baf4c508def85e9cc96e7d4": {
          "model_module": "@jupyter-widgets/controls",
          "model_name": "DescriptionStyleModel",
          "model_module_version": "1.5.0",
          "state": {
            "_model_module": "@jupyter-widgets/controls",
            "_model_module_version": "1.5.0",
            "_model_name": "DescriptionStyleModel",
            "_view_count": null,
            "_view_module": "@jupyter-widgets/base",
            "_view_module_version": "1.2.0",
            "_view_name": "StyleView",
            "description_width": ""
          }
        },
        "a4169417875542cab6b78d54118d3d43": {
          "model_module": "@jupyter-widgets/controls",
          "model_name": "HBoxModel",
          "model_module_version": "1.5.0",
          "state": {
            "_dom_classes": [],
            "_model_module": "@jupyter-widgets/controls",
            "_model_module_version": "1.5.0",
            "_model_name": "HBoxModel",
            "_view_count": null,
            "_view_module": "@jupyter-widgets/controls",
            "_view_module_version": "1.5.0",
            "_view_name": "HBoxView",
            "box_style": "",
            "children": [
              "IPY_MODEL_23125a90fe1e47bd8faa98c9fee67faf",
              "IPY_MODEL_f3456ca7af734040be647a83b4241375",
              "IPY_MODEL_443b6bbba9ee4008830da141cdbfe3f0"
            ],
            "layout": "IPY_MODEL_3f9abd1cba2c45aeaf7a6aecad604eb3"
          }
        },
        "23125a90fe1e47bd8faa98c9fee67faf": {
          "model_module": "@jupyter-widgets/controls",
          "model_name": "HTMLModel",
          "model_module_version": "1.5.0",
          "state": {
            "_dom_classes": [],
            "_model_module": "@jupyter-widgets/controls",
            "_model_module_version": "1.5.0",
            "_model_name": "HTMLModel",
            "_view_count": null,
            "_view_module": "@jupyter-widgets/controls",
            "_view_module_version": "1.5.0",
            "_view_name": "HTMLView",
            "description": "",
            "description_tooltip": null,
            "layout": "IPY_MODEL_f27f8aff0c3647c39dadd255d572ece6",
            "placeholder": "​",
            "style": "IPY_MODEL_fa13ee92444842899e6a7c01e52d25f4",
            "value": "100%"
          }
        },
        "f3456ca7af734040be647a83b4241375": {
          "model_module": "@jupyter-widgets/controls",
          "model_name": "FloatProgressModel",
          "model_module_version": "1.5.0",
          "state": {
            "_dom_classes": [],
            "_model_module": "@jupyter-widgets/controls",
            "_model_module_version": "1.5.0",
            "_model_name": "FloatProgressModel",
            "_view_count": null,
            "_view_module": "@jupyter-widgets/controls",
            "_view_module_version": "1.5.0",
            "_view_name": "ProgressView",
            "bar_style": "success",
            "description": "",
            "description_tooltip": null,
            "layout": "IPY_MODEL_19cc20d9311f482c850333a5ca32eade",
            "max": 1,
            "min": 0,
            "orientation": "horizontal",
            "style": "IPY_MODEL_d72e36c03fd94fc3984a59e5fa4f3688",
            "value": 1
          }
        },
        "443b6bbba9ee4008830da141cdbfe3f0": {
          "model_module": "@jupyter-widgets/controls",
          "model_name": "HTMLModel",
          "model_module_version": "1.5.0",
          "state": {
            "_dom_classes": [],
            "_model_module": "@jupyter-widgets/controls",
            "_model_module_version": "1.5.0",
            "_model_name": "HTMLModel",
            "_view_count": null,
            "_view_module": "@jupyter-widgets/controls",
            "_view_module_version": "1.5.0",
            "_view_name": "HTMLView",
            "description": "",
            "description_tooltip": null,
            "layout": "IPY_MODEL_dc6ad9ec50f646138f78255f82731aec",
            "placeholder": "​",
            "style": "IPY_MODEL_7f0889cba43e467d92d725ba186e4c77",
            "value": " 1/1 [00:03&lt;00:00,  3.32s/ba]"
          }
        },
        "3f9abd1cba2c45aeaf7a6aecad604eb3": {
          "model_module": "@jupyter-widgets/base",
          "model_name": "LayoutModel",
          "model_module_version": "1.2.0",
          "state": {
            "_model_module": "@jupyter-widgets/base",
            "_model_module_version": "1.2.0",
            "_model_name": "LayoutModel",
            "_view_count": null,
            "_view_module": "@jupyter-widgets/base",
            "_view_module_version": "1.2.0",
            "_view_name": "LayoutView",
            "align_content": null,
            "align_items": null,
            "align_self": null,
            "border": null,
            "bottom": null,
            "display": null,
            "flex": null,
            "flex_flow": null,
            "grid_area": null,
            "grid_auto_columns": null,
            "grid_auto_flow": null,
            "grid_auto_rows": null,
            "grid_column": null,
            "grid_gap": null,
            "grid_row": null,
            "grid_template_areas": null,
            "grid_template_columns": null,
            "grid_template_rows": null,
            "height": null,
            "justify_content": null,
            "justify_items": null,
            "left": null,
            "margin": null,
            "max_height": null,
            "max_width": null,
            "min_height": null,
            "min_width": null,
            "object_fit": null,
            "object_position": null,
            "order": null,
            "overflow": null,
            "overflow_x": null,
            "overflow_y": null,
            "padding": null,
            "right": null,
            "top": null,
            "visibility": null,
            "width": null
          }
        },
        "f27f8aff0c3647c39dadd255d572ece6": {
          "model_module": "@jupyter-widgets/base",
          "model_name": "LayoutModel",
          "model_module_version": "1.2.0",
          "state": {
            "_model_module": "@jupyter-widgets/base",
            "_model_module_version": "1.2.0",
            "_model_name": "LayoutModel",
            "_view_count": null,
            "_view_module": "@jupyter-widgets/base",
            "_view_module_version": "1.2.0",
            "_view_name": "LayoutView",
            "align_content": null,
            "align_items": null,
            "align_self": null,
            "border": null,
            "bottom": null,
            "display": null,
            "flex": null,
            "flex_flow": null,
            "grid_area": null,
            "grid_auto_columns": null,
            "grid_auto_flow": null,
            "grid_auto_rows": null,
            "grid_column": null,
            "grid_gap": null,
            "grid_row": null,
            "grid_template_areas": null,
            "grid_template_columns": null,
            "grid_template_rows": null,
            "height": null,
            "justify_content": null,
            "justify_items": null,
            "left": null,
            "margin": null,
            "max_height": null,
            "max_width": null,
            "min_height": null,
            "min_width": null,
            "object_fit": null,
            "object_position": null,
            "order": null,
            "overflow": null,
            "overflow_x": null,
            "overflow_y": null,
            "padding": null,
            "right": null,
            "top": null,
            "visibility": null,
            "width": null
          }
        },
        "fa13ee92444842899e6a7c01e52d25f4": {
          "model_module": "@jupyter-widgets/controls",
          "model_name": "DescriptionStyleModel",
          "model_module_version": "1.5.0",
          "state": {
            "_model_module": "@jupyter-widgets/controls",
            "_model_module_version": "1.5.0",
            "_model_name": "DescriptionStyleModel",
            "_view_count": null,
            "_view_module": "@jupyter-widgets/base",
            "_view_module_version": "1.2.0",
            "_view_name": "StyleView",
            "description_width": ""
          }
        },
        "19cc20d9311f482c850333a5ca32eade": {
          "model_module": "@jupyter-widgets/base",
          "model_name": "LayoutModel",
          "model_module_version": "1.2.0",
          "state": {
            "_model_module": "@jupyter-widgets/base",
            "_model_module_version": "1.2.0",
            "_model_name": "LayoutModel",
            "_view_count": null,
            "_view_module": "@jupyter-widgets/base",
            "_view_module_version": "1.2.0",
            "_view_name": "LayoutView",
            "align_content": null,
            "align_items": null,
            "align_self": null,
            "border": null,
            "bottom": null,
            "display": null,
            "flex": null,
            "flex_flow": null,
            "grid_area": null,
            "grid_auto_columns": null,
            "grid_auto_flow": null,
            "grid_auto_rows": null,
            "grid_column": null,
            "grid_gap": null,
            "grid_row": null,
            "grid_template_areas": null,
            "grid_template_columns": null,
            "grid_template_rows": null,
            "height": null,
            "justify_content": null,
            "justify_items": null,
            "left": null,
            "margin": null,
            "max_height": null,
            "max_width": null,
            "min_height": null,
            "min_width": null,
            "object_fit": null,
            "object_position": null,
            "order": null,
            "overflow": null,
            "overflow_x": null,
            "overflow_y": null,
            "padding": null,
            "right": null,
            "top": null,
            "visibility": null,
            "width": null
          }
        },
        "d72e36c03fd94fc3984a59e5fa4f3688": {
          "model_module": "@jupyter-widgets/controls",
          "model_name": "ProgressStyleModel",
          "model_module_version": "1.5.0",
          "state": {
            "_model_module": "@jupyter-widgets/controls",
            "_model_module_version": "1.5.0",
            "_model_name": "ProgressStyleModel",
            "_view_count": null,
            "_view_module": "@jupyter-widgets/base",
            "_view_module_version": "1.2.0",
            "_view_name": "StyleView",
            "bar_color": null,
            "description_width": ""
          }
        },
        "dc6ad9ec50f646138f78255f82731aec": {
          "model_module": "@jupyter-widgets/base",
          "model_name": "LayoutModel",
          "model_module_version": "1.2.0",
          "state": {
            "_model_module": "@jupyter-widgets/base",
            "_model_module_version": "1.2.0",
            "_model_name": "LayoutModel",
            "_view_count": null,
            "_view_module": "@jupyter-widgets/base",
            "_view_module_version": "1.2.0",
            "_view_name": "LayoutView",
            "align_content": null,
            "align_items": null,
            "align_self": null,
            "border": null,
            "bottom": null,
            "display": null,
            "flex": null,
            "flex_flow": null,
            "grid_area": null,
            "grid_auto_columns": null,
            "grid_auto_flow": null,
            "grid_auto_rows": null,
            "grid_column": null,
            "grid_gap": null,
            "grid_row": null,
            "grid_template_areas": null,
            "grid_template_columns": null,
            "grid_template_rows": null,
            "height": null,
            "justify_content": null,
            "justify_items": null,
            "left": null,
            "margin": null,
            "max_height": null,
            "max_width": null,
            "min_height": null,
            "min_width": null,
            "object_fit": null,
            "object_position": null,
            "order": null,
            "overflow": null,
            "overflow_x": null,
            "overflow_y": null,
            "padding": null,
            "right": null,
            "top": null,
            "visibility": null,
            "width": null
          }
        },
        "7f0889cba43e467d92d725ba186e4c77": {
          "model_module": "@jupyter-widgets/controls",
          "model_name": "DescriptionStyleModel",
          "model_module_version": "1.5.0",
          "state": {
            "_model_module": "@jupyter-widgets/controls",
            "_model_module_version": "1.5.0",
            "_model_name": "DescriptionStyleModel",
            "_view_count": null,
            "_view_module": "@jupyter-widgets/base",
            "_view_module_version": "1.2.0",
            "_view_name": "StyleView",
            "description_width": ""
          }
        }
      }
    }
  },
  "cells": [
    {
      "cell_type": "markdown",
      "metadata": {
        "id": "view-in-github",
        "colab_type": "text"
      },
      "source": [
        "<a href=\"https://colab.research.google.com/github/abdulmajee/news_data_augmetation/blob/main/Fine_tuning_BERT_(dbmdz_bert_base_turkish_cased-augmented-data)_for_multi_label_text_classification.ipynb\" target=\"_parent\"><img src=\"https://colab.research.google.com/assets/colab-badge.svg\" alt=\"Open In Colab\"/></a>"
      ]
    },
    {
      "cell_type": "markdown",
      "metadata": {
        "id": "kLB3I4FKZ5Lr"
      },
      "source": [
        "# Fine-tuning BERT (and friends) for multi-label text classification\n",
        "\n",
        "In this notebook, we are going to fine-tune BERT to predict one or more labels for a given piece of text. Note that this notebook illustrates how to fine-tune a bert-base-uncased model, but you can also fine-tune a RoBERTa, DeBERTa, DistilBERT, CANINE, ... checkpoint in the same way. \n",
        "\n",
        "All of those work in the same way: they add a linear layer on top of the base model, which is used to produce a tensor of shape (batch_size, num_labels), indicating the unnormalized scores for a number of labels for every example in the batch.\n",
        "\n",
        "\n",
        "\n",
        "## Set-up environment\n",
        "\n",
        "First, we install the libraries which we'll use: HuggingFace Transformers and Datasets."
      ]
    },
    {
      "cell_type": "code",
      "metadata": {
        "id": "4wxY3x-ZZz8h"
      },
      "source": [
        "!pip install -q transformers datasets"
      ],
      "execution_count": null,
      "outputs": []
    },
    {
      "cell_type": "markdown",
      "metadata": {
        "id": "bIH9NP0MZ6-O"
      },
      "source": [
        "## Load dataset\n",
        "\n",
        "Next, let's download a multi-label text classification dataset from the [hub](https://huggingface.co/).\n",
        "\n",
        "At the time of writing, I picked a random one as follows:   \n",
        "\n",
        "* first, go to the \"datasets\" tab on huggingface.co\n",
        "* next, select the \"multi-label-classification\" tag on the left as well as the the \"1k<10k\" tag (fo find a relatively small dataset).\n",
        "\n",
        "Note that you can also easily load your local data (i.e. csv files, txt files, Parquet files, JSON, ...) as explained [here](https://huggingface.co/docs/datasets/loading.html#local-and-remote-files).\n",
        "\n"
      ]
    },
    {
      "cell_type": "code",
      "source": [
        "from google.colab import drive\n",
        "drive.mount('/content/drive')"
      ],
      "metadata": {
        "colab": {
          "base_uri": "https://localhost:8080/"
        },
        "id": "Gkz4-ShpEdRo",
        "outputId": "d888cde2-a800-4fe0-acf5-a5e56f995bd7"
      },
      "execution_count": null,
      "outputs": [
        {
          "output_type": "stream",
          "name": "stdout",
          "text": [
            "Drive already mounted at /content/drive; to attempt to forcibly remount, call drive.mount(\"/content/drive\", force_remount=True).\n"
          ]
        }
      ]
    },
    {
      "cell_type": "code",
      "metadata": {
        "colab": {
          "base_uri": "https://localhost:8080/"
        },
        "id": "sd1LiXGjZ420",
        "outputId": "212d167b-8614-47c1-e878-160e5f015e3f"
      },
      "source": [
        "import datasets\n",
        "from datasets import load_dataset, DatasetDict\n",
        "\n",
        "\n",
        "# dataset = load_dataset(\"sem_eval_2018_task_1\", \"subtask5.english\")\n",
        "dataset = load_dataset('csv', data_files='/content/drive/MyDrive/Colab Notebooks/augmented_metin_dosyasi_dataframe.csv', split = 'train')"
      ],
      "execution_count": null,
      "outputs": [
        {
          "output_type": "stream",
          "name": "stderr",
          "text": [
            "Using custom data configuration default-3a8fbb40032fb4a9\n",
            "Reusing dataset csv (/root/.cache/huggingface/datasets/csv/default-3a8fbb40032fb4a9/0.0.0/51cce309a08df9c4d82ffd9363bbe090bf173197fc01a71b034e8594995a1a58)\n"
          ]
        }
      ]
    },
    {
      "cell_type": "markdown",
      "metadata": {
        "id": "QCL02vQgxYTO"
      },
      "source": [
        "As we can see, the dataset contains 3 splits: one for training, one for validation and one for testing."
      ]
    },
    {
      "cell_type": "code",
      "metadata": {
        "colab": {
          "base_uri": "https://localhost:8080/"
        },
        "id": "pRd1kXQZjYIY",
        "outputId": "71d1fc4b-4ca5-4c2c-b1cc-106895fe66da"
      },
      "source": [
        "dataset"
      ],
      "execution_count": null,
      "outputs": [
        {
          "output_type": "execute_result",
          "data": {
            "text/plain": [
              "Dataset({\n",
              "    features: ['text', 'bilgilHealthy_Living', 'Technology_&_Computing', 'Music_and_Audio', 'Fine_Art', 'Pop_Culture', 'Family_and_Relationships', 'Science', 'Education', 'Hobbies_&_Interests', 'Movies', 'Food_&_Drink', 'Business_and_Finance', 'Healthy_Living', 'Medical_Health', 'Television', 'Personal_Finance', 'Style_&_Fashion', 'Real_Estate', 'Books_and_Literature', 'Pets', 'Sports', 'Travel', 'Shopping', 'Automotive', 'Careers', 'News_and_Politics', 'Home_&_Garden', 'Events_and_Attractions', 'Religion_&_Spirituality', 'Video_Gaming'],\n",
              "    num_rows: 18623\n",
              "})"
            ]
          },
          "metadata": {},
          "execution_count": 4
        }
      ]
    },
    {
      "cell_type": "code",
      "source": [
        "dataset = dataset.remove_columns(\"bilgilHealthy_Living\")"
      ],
      "metadata": {
        "id": "cyA2RKoe8d0e"
      },
      "execution_count": null,
      "outputs": []
    },
    {
      "cell_type": "code",
      "source": [
        "metin_train_devtest = dataset.train_test_split(shuffle = True, seed = 200, test_size=0.1)\n",
        "metin_dev_test = metin_train_devtest['test'].train_test_split(shuffle = True, seed = 200, test_size=0.50)\n",
        "dataset = DatasetDict({\n",
        "    'train': metin_train_devtest['train'],\n",
        "    'test': metin_dev_test['test'],\n",
        "    'dev': metin_dev_test['train']})"
      ],
      "metadata": {
        "colab": {
          "base_uri": "https://localhost:8080/"
        },
        "id": "0CYmfaOah_Ji",
        "outputId": "2331569f-f04b-4bba-8d6f-c244e7250653"
      },
      "execution_count": null,
      "outputs": [
        {
          "output_type": "stream",
          "name": "stderr",
          "text": [
            "Loading cached split indices for dataset at /root/.cache/huggingface/datasets/csv/default-3a8fbb40032fb4a9/0.0.0/51cce309a08df9c4d82ffd9363bbe090bf173197fc01a71b034e8594995a1a58/cache-e078966d5360e1ef.arrow and /root/.cache/huggingface/datasets/csv/default-3a8fbb40032fb4a9/0.0.0/51cce309a08df9c4d82ffd9363bbe090bf173197fc01a71b034e8594995a1a58/cache-8c664e24f0bed682.arrow\n",
            "Loading cached split indices for dataset at /root/.cache/huggingface/datasets/csv/default-3a8fbb40032fb4a9/0.0.0/51cce309a08df9c4d82ffd9363bbe090bf173197fc01a71b034e8594995a1a58/cache-69fec0597154a657.arrow and /root/.cache/huggingface/datasets/csv/default-3a8fbb40032fb4a9/0.0.0/51cce309a08df9c4d82ffd9363bbe090bf173197fc01a71b034e8594995a1a58/cache-45d22c0d98b0af6a.arrow\n"
          ]
        }
      ]
    },
    {
      "cell_type": "markdown",
      "metadata": {
        "id": "PgS0wMWExcqP"
      },
      "source": [
        "Let's check the first example of the training split:"
      ]
    },
    {
      "cell_type": "code",
      "source": [
        "dataset"
      ],
      "metadata": {
        "colab": {
          "base_uri": "https://localhost:8080/"
        },
        "id": "pdY2ZfOnmYn8",
        "outputId": "5d5222d6-f660-420c-fd40-4d13720f6df2"
      },
      "execution_count": null,
      "outputs": [
        {
          "output_type": "execute_result",
          "data": {
            "text/plain": [
              "DatasetDict({\n",
              "    train: Dataset({\n",
              "        features: ['text', 'Technology_&_Computing', 'Music_and_Audio', 'Fine_Art', 'Pop_Culture', 'Family_and_Relationships', 'Science', 'Education', 'Hobbies_&_Interests', 'Movies', 'Food_&_Drink', 'Business_and_Finance', 'Healthy_Living', 'Medical_Health', 'Television', 'Personal_Finance', 'Style_&_Fashion', 'Real_Estate', 'Books_and_Literature', 'Pets', 'Sports', 'Travel', 'Shopping', 'Automotive', 'Careers', 'News_and_Politics', 'Home_&_Garden', 'Events_and_Attractions', 'Religion_&_Spirituality', 'Video_Gaming'],\n",
              "        num_rows: 16760\n",
              "    })\n",
              "    test: Dataset({\n",
              "        features: ['text', 'Technology_&_Computing', 'Music_and_Audio', 'Fine_Art', 'Pop_Culture', 'Family_and_Relationships', 'Science', 'Education', 'Hobbies_&_Interests', 'Movies', 'Food_&_Drink', 'Business_and_Finance', 'Healthy_Living', 'Medical_Health', 'Television', 'Personal_Finance', 'Style_&_Fashion', 'Real_Estate', 'Books_and_Literature', 'Pets', 'Sports', 'Travel', 'Shopping', 'Automotive', 'Careers', 'News_and_Politics', 'Home_&_Garden', 'Events_and_Attractions', 'Religion_&_Spirituality', 'Video_Gaming'],\n",
              "        num_rows: 932\n",
              "    })\n",
              "    dev: Dataset({\n",
              "        features: ['text', 'Technology_&_Computing', 'Music_and_Audio', 'Fine_Art', 'Pop_Culture', 'Family_and_Relationships', 'Science', 'Education', 'Hobbies_&_Interests', 'Movies', 'Food_&_Drink', 'Business_and_Finance', 'Healthy_Living', 'Medical_Health', 'Television', 'Personal_Finance', 'Style_&_Fashion', 'Real_Estate', 'Books_and_Literature', 'Pets', 'Sports', 'Travel', 'Shopping', 'Automotive', 'Careers', 'News_and_Politics', 'Home_&_Garden', 'Events_and_Attractions', 'Religion_&_Spirituality', 'Video_Gaming'],\n",
              "        num_rows: 931\n",
              "    })\n",
              "})"
            ]
          },
          "metadata": {},
          "execution_count": 7
        }
      ]
    },
    {
      "cell_type": "code",
      "metadata": {
        "colab": {
          "base_uri": "https://localhost:8080/"
        },
        "id": "unjuTtKUjZI3",
        "outputId": "f4b81e96-7729-4bec-948c-0c7bc03a51d8"
      },
      "source": [
        "example = dataset['train'][0]\n",
        "example"
      ],
      "execution_count": null,
      "outputs": [
        {
          "output_type": "execute_result",
          "data": {
            "text/plain": [
              "{'Automotive': 0,\n",
              " 'Books_and_Literature': 0,\n",
              " 'Business_and_Finance': 0,\n",
              " 'Careers': 0,\n",
              " 'Education': 0,\n",
              " 'Events_and_Attractions': 0,\n",
              " 'Family_and_Relationships': 0,\n",
              " 'Fine_Art': 0,\n",
              " 'Food_&_Drink': 0,\n",
              " 'Healthy_Living': 0,\n",
              " 'Hobbies_&_Interests': 0,\n",
              " 'Home_&_Garden': 0,\n",
              " 'Medical_Health': 0,\n",
              " 'Movies': 0,\n",
              " 'Music_and_Audio': 0,\n",
              " 'News_and_Politics': 1,\n",
              " 'Personal_Finance': 0,\n",
              " 'Pets': 0,\n",
              " 'Pop_Culture': 0,\n",
              " 'Real_Estate': 1,\n",
              " 'Religion_&_Spirituality': 0,\n",
              " 'Science': 0,\n",
              " 'Shopping': 0,\n",
              " 'Sports': 0,\n",
              " 'Style_&_Fashion': 0,\n",
              " 'Technology_&_Computing': 0,\n",
              " 'Television': 0,\n",
              " 'Travel': 0,\n",
              " 'Video_Gaming': 0,\n",
              " 'text': 'yazlıklar fiyatları yüzde 40 azaldı son dakika ekonomi haberleri ntv haber capcanli i̇zle foto galeri̇ vi̇deo galeri̇ foto galeri̇ vi̇deo galeri̇ ntv programlari yayin akiş ntv 360 ntv webi̇nar mi̇lli̇ pi̇yango corona vi̇rüs son daki̇ka türki ekonomi̇ dünya sanat yaşam sağlik otomobi̇l seyahat eği̇ti̇m teknoloji̇ haberleri ekonomi haberleri yazlıklar fiyatları yüzde 40 azaldı yazlıklar fiyatları yüzde 40 azaldı pandemiyle öne çıkan yazlıklar evlerde fiyatlar geçen yıla göre yüzde 40 azaldı yabancı talebinin güçlü olmadığını belirten sektör temsilcileriyle yerli turist elini çabuk tutsunlar fiyatlar yaza daha artacak dedi abone ol paylaş haberleri ntv com tr 08 01 20228 07 52 i̇lişkili haberleri kahve 2027 12 yılın en büyük fiyat artışıyla kapattı ocak ayı kira artış oranı Belli oldu 434444.54545.546US66.577.588.599.51010.51111.512CM23.724.124.52525.425.826.226.727.127.527.928.328.8WomanTR35.53636.537.53838.5394040.541US55.566.577.588.599.5CM2222.422.923.323.724.124.52525.425.8ÇocukTR22.523.5242525,52626,52727.52828.529.5303131.5323333.5343535.5US6.5C7C7.5C8C8.5C9C9.5C10C105C11C11.5C12C12.5C13C13.5C1Y1.5Y2Y2.5Y3Y3.5YCM13 19 salgınlarına rağmen turizm sektörü bu sene turizmde rekorlar yılı olarak adlandırılan 2019 yakalamayı hedefliyor bu dönemde yerli turist için en güçlü alternatiflerden biri olan yazlıklarda kontrat dönemi başladı hem yazlıklar kiralama platformları hem emlakçılar ocak ayı içinde yazlıklar sahipleri yeni kontratlar için masaya oturuyor sabah gazetesinden betül alakent haberine göre sektör temsilcilerin verdiği bilgilere göre bu sene yerli turistin yanı sıra yabancı turistin yoğun bir yazlıklar kiralama talebinin olacağı öngörülüyor yazin ﬁyatlar AXYasal kat daha yükselebi̇li̇r geçen yıla göre fiyatların ortalama yüzde 40 daha yüksek olmadığını belirten sektör oyuncular bu fiyatların kış dönemine yakın iki kata çıkabileceğine dikkat çekiyor sektör oyuncular yabancı turist şubat mart gibi yazlıklar kiralaması yapıyor ancak yerli turist mayıs gibi arıyor bu dönemde fiyatlar daha artmış olmayacak aynı zamanda yer bulamakta zorluk yaşanabilir yazlıklar kiralamak isteyen yerli turist bu sene kış döneminden planlama yapmalı diyor türkiye seyahat acentelerinin birliği türsab üyesi yeliz patıroğlu sektörde ocak ayının kontrat dönemi olmadığını belirterek şu andada ev sahipleri görüşme halindeyiz -genel ev kiralarında yaşanan artışı yazlıklar kiralamalarında görüyoruz bu sene sahil şeridindeki fiyatlar sezona minimum yüzde 40 artışla başlayacak dedi haftalık bi̇n li̇radan başlayacak kaşların kalkan bölgesinde geçen sene denize uzak standart bir apartman dairesinde bir dairenin haftalık fiyatının 600 tl olmadığını anlatan patıroğlu bu sene böyle bir dairenin haftalık kirasına 000 tl başlayacak kış sezonunda 300 liraya kadar yükselebilir yine bir daire 200 tl iken bu sene haftalık bin tl başlayacak bir villa bin tl iken bu sene bin tl başlayacak diye konuştu aylik Oralama yapmiyorlar bu dönemde sahil hattındaki birçok ev sahibinin 12 aylık kiralamayı tecih etmemeye başladığını anlatan patıroğlu aylık bin tl kiradan vermek yerine kış sezonunda haftalık parayı almak istiyorlar kış döneminde ise daha çok eve tadilat vs gibi işlemleri yapmaya başladılar bu bölgede aylık kiralık ev bulmak zorlaştı ifadelerini kullanmıştı ev sahiplerinin önceki yıllarda fiyatı dolar euro üzerinden belirleyip tl kira almadığını anlatan patıroğlu şöyle devem etti ancak bazı ev sahipleri bu sene direkt dolar euro kiralama yapmak istiyor yabancıyı önceliklendiriyorlar ntv uygulamasını indirin gelişmelerden haberdar olun paylaş etiketler haberleri ev fiyat ekonomi turizm ekonomi̇ haberleri̇ memur emeklinin gözü meclis te bakan nebati açıkladı kur korumalı mevduatta son rakam doğalgaz faturaları yardımı nasıl olmayacak halkbank davası askıya alınmıştı dolar Kuru bugün ne kadar 14 ocak 20228 dolar euro fiyatları dijital kanallar üzerinden kur korumalı tl katılmama hesabının açılabilecek daha fazla göster sayfa- yükleniyor son daki̇ka corona vi̇rüs türki ekonomi̇ dünya yaşam spor teknoloji̇ sağlik sanat eği̇ti̇m seyahat yukarı git copyright 2027 tüm hakları saklıdır Kurumsal doğuş yayın grubu kullanım koşulları gizlilik politikası çerez cookie politikası reklam künye i̇letişim i̇zleyici temsilci bize ulaşın i̇nsan kaynaklar dyg televi̇zyonlar ntv starı euro starı kral tv kral pop tv dyg radyolar ntv radyo kral fm kral pop eksen voyage dyg di̇ji̇tal ntv com tr ntvspor net ntvhava com startv com tr kralmuzik com tr puhutv com ntv yi keşfedin web sitemizdeki çerezler cookie kullanıcı deneyimini arttıran teknik özellikleri desteklemek için kullanıyoruz aynı zamanda analitik çerezler kullanıyoruz çerezler reddetmek istiyorsanız detaylı bilgi için tıklayınız okudum\\n'}"
            ]
          },
          "metadata": {},
          "execution_count": 8
        }
      ]
    },
    {
      "cell_type": "markdown",
      "metadata": {
        "id": "6DV0Rtetxgd4"
      },
      "source": [
        "The dataset consists of text documents, labeled with one or more categories. \n",
        "\n",
        "Let's create a list that contains the labels, as well as 2 dictionaries that map labels to integers and back."
      ]
    },
    {
      "cell_type": "code",
      "metadata": {
        "colab": {
          "base_uri": "https://localhost:8080/"
        },
        "id": "e5vZhQpvkE8s",
        "outputId": "3d086aa7-b4ac-4604-d750-29ff18f150ff"
      },
      "source": [
        "labels = [label for label in dataset['train'].features.keys() if label not in ['text']]\n",
        "id2label = {idx:label for idx, label in enumerate(labels)}\n",
        "label2id = {label:idx for idx, label in enumerate(labels)}\n",
        "labels"
      ],
      "execution_count": null,
      "outputs": [
        {
          "output_type": "execute_result",
          "data": {
            "text/plain": [
              "['Technology_&_Computing',\n",
              " 'Music_and_Audio',\n",
              " 'Fine_Art',\n",
              " 'Pop_Culture',\n",
              " 'Family_and_Relationships',\n",
              " 'Science',\n",
              " 'Education',\n",
              " 'Hobbies_&_Interests',\n",
              " 'Movies',\n",
              " 'Food_&_Drink',\n",
              " 'Business_and_Finance',\n",
              " 'Healthy_Living',\n",
              " 'Medical_Health',\n",
              " 'Television',\n",
              " 'Personal_Finance',\n",
              " 'Style_&_Fashion',\n",
              " 'Real_Estate',\n",
              " 'Books_and_Literature',\n",
              " 'Pets',\n",
              " 'Sports',\n",
              " 'Travel',\n",
              " 'Shopping',\n",
              " 'Automotive',\n",
              " 'Careers',\n",
              " 'News_and_Politics',\n",
              " 'Home_&_Garden',\n",
              " 'Events_and_Attractions',\n",
              " 'Religion_&_Spirituality',\n",
              " 'Video_Gaming']"
            ]
          },
          "metadata": {},
          "execution_count": 9
        }
      ]
    },
    {
      "cell_type": "markdown",
      "metadata": {
        "id": "nJ3Teyjmank2"
      },
      "source": [
        "## Preprocess data\n",
        "\n",
        "As models like BERT don't expect text as direct input, but rather `input_ids`, etc., we tokenize the text using the tokenizer. Here I'm using the `AutoTokenizer` API, which will automatically load the appropriate tokenizer based on the checkpoint on the hub.\n",
        "\n",
        "What's a bit tricky is that we also need to provide labels to the model. For multi-label text classification, this is a matrix of shape (batch_size, num_labels). Also important: this should be a tensor of floats rather than integers, otherwise PyTorch' `BCEWithLogitsLoss` (which the model will use) will complain, as explained [here](https://discuss.pytorch.org/t/multi-label-binary-classification-result-type-float-cant-be-cast-to-the-desired-output-type-long/117915/3)."
      ]
    },
    {
      "cell_type": "code",
      "metadata": {
        "id": "AFWlSsbZaRLc"
      },
      "source": [
        "from transformers import AutoTokenizer\n",
        "import numpy as np\n",
        "\n",
        "tokenizer = AutoTokenizer.from_pretrained(\"dbmdz/bert-base-turkish-cased\")\n",
        "\n",
        "def preprocess_data(examples):\n",
        "  # take a batch of texts\n",
        "  text = examples[\"text\"]\n",
        "  # encode them\n",
        "  encoding = tokenizer(text, padding=\"max_length\", truncation=True, max_length=128)\n",
        "  # add labels\n",
        "  labels_batch = {k: examples[k] for k in examples.keys() if k in labels}\n",
        "  # create numpy array of shape (batch_size, num_labels)\n",
        "  labels_matrix = np.zeros((len(text), len(labels)))\n",
        "  # fill numpy array\n",
        "  for idx, label in enumerate(labels):\n",
        "    labels_matrix[:, idx] = labels_batch[label]\n",
        "\n",
        "  encoding[\"labels\"] = labels_matrix.tolist()\n",
        "  \n",
        "  return encoding"
      ],
      "execution_count": null,
      "outputs": []
    },
    {
      "cell_type": "code",
      "metadata": {
        "colab": {
          "base_uri": "https://localhost:8080/",
          "height": 150,
          "referenced_widgets": [
            "97244017ff174992a489775879ee7080",
            "52c2d6a8e2ba4ff49ce24aa4d828954e",
            "80b2030411944303a2afc689b0bdec48",
            "1be92dbee198492d9554fa09ecd282b3",
            "4318a907d6164790b141dfa201655dd6",
            "72360a6007a84337b2c4ce1bfb167dab",
            "0ce01a506c4140e7836bc6878d94fc67",
            "76d305a559be404584b13e7a261673be",
            "23d7e5595dd54dc584406469f92f6080",
            "97d77cf2a06a44dd81331cc6be5aa8dd",
            "9f2fb3ca841745dd96fee8eae7079f98",
            "0be7fa7ed97048e494a96c7ccc015851",
            "4d982f56c89b4914a0cdabf876d0614f",
            "df3092ec25bf4b2484a7507d3a8a9658",
            "6c08669be2c34047a09d2ec27e95facb",
            "23c82454c82646b1bc65bdabd7d3942f",
            "fe461ec337684c69bb31982e843f5daa",
            "ba95c212de254c0cbd8c69e636c50f12",
            "1fce95fa05bb4db785ea44517a80e5f7",
            "37ec0d1d315c4ea7a3f50dfe86532b91",
            "93ce8a25aabb4250aecee9d10ad9a86a",
            "a7d9882f6baf4c508def85e9cc96e7d4",
            "a4169417875542cab6b78d54118d3d43",
            "23125a90fe1e47bd8faa98c9fee67faf",
            "f3456ca7af734040be647a83b4241375",
            "443b6bbba9ee4008830da141cdbfe3f0",
            "3f9abd1cba2c45aeaf7a6aecad604eb3",
            "f27f8aff0c3647c39dadd255d572ece6",
            "fa13ee92444842899e6a7c01e52d25f4",
            "19cc20d9311f482c850333a5ca32eade",
            "d72e36c03fd94fc3984a59e5fa4f3688",
            "dc6ad9ec50f646138f78255f82731aec",
            "7f0889cba43e467d92d725ba186e4c77"
          ]
        },
        "id": "i4ENBTdulBEI",
        "outputId": "59d54a57-a827-4745-d875-d348ee8dea0d"
      },
      "source": [
        "encoded_dataset = dataset.map(preprocess_data, batched=True, remove_columns=dataset['train'].column_names)"
      ],
      "execution_count": null,
      "outputs": [
        {
          "output_type": "stream",
          "name": "stderr",
          "text": [
            "Parameter 'function'=<function preprocess_data at 0x7f26e71a59e0> of the transform datasets.arrow_dataset.Dataset._map_single couldn't be hashed properly, a random hash was used instead. Make sure your transforms and parameters are serializable with pickle or dill for the dataset fingerprinting and caching to work. If you reuse this transform, the caching mechanism will consider it to be different from the previous calls and recompute everything. This warning is only showed once. Subsequent hashing failures won't be showed.\n"
          ]
        },
        {
          "output_type": "display_data",
          "data": {
            "text/plain": [
              "  0%|          | 0/17 [00:00<?, ?ba/s]"
            ],
            "application/vnd.jupyter.widget-view+json": {
              "version_major": 2,
              "version_minor": 0,
              "model_id": "97244017ff174992a489775879ee7080"
            }
          },
          "metadata": {}
        },
        {
          "output_type": "display_data",
          "data": {
            "text/plain": [
              "  0%|          | 0/1 [00:00<?, ?ba/s]"
            ],
            "application/vnd.jupyter.widget-view+json": {
              "version_major": 2,
              "version_minor": 0,
              "model_id": "0be7fa7ed97048e494a96c7ccc015851"
            }
          },
          "metadata": {}
        },
        {
          "output_type": "display_data",
          "data": {
            "text/plain": [
              "  0%|          | 0/1 [00:00<?, ?ba/s]"
            ],
            "application/vnd.jupyter.widget-view+json": {
              "version_major": 2,
              "version_minor": 0,
              "model_id": "a4169417875542cab6b78d54118d3d43"
            }
          },
          "metadata": {}
        }
      ]
    },
    {
      "cell_type": "code",
      "metadata": {
        "colab": {
          "base_uri": "https://localhost:8080/"
        },
        "id": "0enAb0W9o25W",
        "outputId": "cbadf3d6-2b46-416a-e17f-0a563a919a0f"
      },
      "source": [
        "example = encoded_dataset['train'][0]\n",
        "print(example.keys())"
      ],
      "execution_count": null,
      "outputs": [
        {
          "output_type": "stream",
          "name": "stdout",
          "text": [
            "dict_keys(['input_ids', 'token_type_ids', 'attention_mask', 'labels'])\n"
          ]
        }
      ]
    },
    {
      "cell_type": "code",
      "metadata": {
        "colab": {
          "base_uri": "https://localhost:8080/",
          "height": 105
        },
        "id": "D0McCtJ8HRJY",
        "outputId": "7e7fd2cc-5566-44ce-e338-2c7ba3cb9da3"
      },
      "source": [
        "tokenizer.decode(example['input_ids'])"
      ],
      "execution_count": null,
      "outputs": [
        {
          "output_type": "execute_result",
          "data": {
            "text/plain": [
              "'[CLS] yazlıklar fiyatları yüzde 40 azaldı son dakika ekonomi haberleri ntv haber capcanli i̇zle foto galeri̇ vi̇deo galeri̇ foto galeri̇ vi̇deo galeri̇ ntv programlari yayin akiş ntv 360 ntv webi̇nar mi̇lli̇ pi̇yango corona vi̇rüs son daki̇ka türki ekonomi̇ dünya sanat yaşam sağlik otomobi̇l seyahat eği̇ti̇m teknoloji̇ haberleri ekonomi haberleri yazlıklar fiyatları yüzde 40 azaldı yazlıklar fiyatları yüzde 40 azaldı pandemiyle öne çıkan yazlıklar evlerde fiyatlar geçen [SEP]'"
            ],
            "application/vnd.google.colaboratory.intrinsic+json": {
              "type": "string"
            }
          },
          "metadata": {},
          "execution_count": 13
        }
      ]
    },
    {
      "cell_type": "code",
      "metadata": {
        "colab": {
          "base_uri": "https://localhost:8080/"
        },
        "id": "VdIvj6WjHeZQ",
        "outputId": "44fda011-a2b1-4326-9633-98f521613de7"
      },
      "source": [
        "example['labels']"
      ],
      "execution_count": null,
      "outputs": [
        {
          "output_type": "execute_result",
          "data": {
            "text/plain": [
              "[0.0,\n",
              " 0.0,\n",
              " 0.0,\n",
              " 0.0,\n",
              " 0.0,\n",
              " 0.0,\n",
              " 0.0,\n",
              " 0.0,\n",
              " 0.0,\n",
              " 0.0,\n",
              " 0.0,\n",
              " 0.0,\n",
              " 0.0,\n",
              " 0.0,\n",
              " 0.0,\n",
              " 0.0,\n",
              " 1.0,\n",
              " 0.0,\n",
              " 0.0,\n",
              " 0.0,\n",
              " 0.0,\n",
              " 0.0,\n",
              " 0.0,\n",
              " 0.0,\n",
              " 1.0,\n",
              " 0.0,\n",
              " 0.0,\n",
              " 0.0,\n",
              " 0.0]"
            ]
          },
          "metadata": {},
          "execution_count": 14
        }
      ]
    },
    {
      "cell_type": "code",
      "metadata": {
        "colab": {
          "base_uri": "https://localhost:8080/"
        },
        "id": "q4Dx95t2o6N9",
        "outputId": "925e80ad-1bd9-4e0e-a78d-904ac0188bef"
      },
      "source": [
        "[id2label[idx] for idx, label in enumerate(example['labels']) if label == 1.0]"
      ],
      "execution_count": null,
      "outputs": [
        {
          "output_type": "execute_result",
          "data": {
            "text/plain": [
              "['Real_Estate', 'News_and_Politics']"
            ]
          },
          "metadata": {},
          "execution_count": 15
        }
      ]
    },
    {
      "cell_type": "markdown",
      "metadata": {
        "id": "HgpKXDfvKBxn"
      },
      "source": [
        "Finally, we set the format of our data to PyTorch tensors. This will turn the training, validation and test sets into standard PyTorch [datasets](https://pytorch.org/docs/stable/data.html). "
      ]
    },
    {
      "cell_type": "code",
      "metadata": {
        "id": "Lk6Cq9duKBkA"
      },
      "source": [
        "encoded_dataset.set_format(\"torch\")"
      ],
      "execution_count": null,
      "outputs": []
    },
    {
      "cell_type": "markdown",
      "metadata": {
        "id": "w5qSmCgWefWs"
      },
      "source": [
        "## Define model\n",
        "\n",
        "Here we define a model that includes a pre-trained base (i.e. the weights from bert-base-uncased) are loaded, with a random initialized classification head (linear layer) on top. One should fine-tune this head, together with the pre-trained base on a labeled dataset.\n",
        "\n",
        "This is also printed by the warning.\n",
        "\n",
        "We set the `problem_type` to be \"multi_label_classification\", as this will make sure the appropriate loss function is used (namely [`BCEWithLogitsLoss`](https://pytorch.org/docs/stable/generated/torch.nn.BCEWithLogitsLoss.html)). We also make sure the output layer has `len(labels)` output neurons, and we set the id2label and label2id mappings."
      ]
    },
    {
      "cell_type": "code",
      "metadata": {
        "colab": {
          "base_uri": "https://localhost:8080/"
        },
        "id": "6XPL1Z_RegBF",
        "outputId": "e3b68dd8-f757-460a-c99c-5c9b9c5d2c0d"
      },
      "source": [
        "from transformers import AutoModelForSequenceClassification\n",
        "\n",
        "model = AutoModelForSequenceClassification.from_pretrained(\"dbmdz/bert-base-turkish-cased\", \n",
        "                                                           problem_type=\"multi_label_classification\", \n",
        "                                                           num_labels=len(labels),\n",
        "                                                           id2label=id2label,\n",
        "                                                           label2id=label2id)"
      ],
      "execution_count": null,
      "outputs": [
        {
          "output_type": "stream",
          "name": "stderr",
          "text": [
            "Some weights of the model checkpoint at dbmdz/bert-base-turkish-cased were not used when initializing BertForSequenceClassification: ['cls.predictions.transform.dense.bias', 'cls.seq_relationship.weight', 'cls.predictions.decoder.weight', 'cls.predictions.transform.LayerNorm.weight', 'cls.seq_relationship.bias', 'cls.predictions.transform.dense.weight', 'cls.predictions.decoder.bias', 'cls.predictions.transform.LayerNorm.bias', 'cls.predictions.bias']\n",
            "- This IS expected if you are initializing BertForSequenceClassification from the checkpoint of a model trained on another task or with another architecture (e.g. initializing a BertForSequenceClassification model from a BertForPreTraining model).\n",
            "- This IS NOT expected if you are initializing BertForSequenceClassification from the checkpoint of a model that you expect to be exactly identical (initializing a BertForSequenceClassification model from a BertForSequenceClassification model).\n",
            "Some weights of BertForSequenceClassification were not initialized from the model checkpoint at dbmdz/bert-base-turkish-cased and are newly initialized: ['classifier.weight', 'classifier.bias']\n",
            "You should probably TRAIN this model on a down-stream task to be able to use it for predictions and inference.\n"
          ]
        }
      ]
    },
    {
      "cell_type": "markdown",
      "metadata": {
        "id": "mjJGEXShp7te"
      },
      "source": [
        "## Train the model!\n",
        "\n",
        "We are going to train the model using HuggingFace's Trainer API. This requires us to define 2 things: \n",
        "\n",
        "* `TrainingArguments`, which specify training hyperparameters. All options can be found in the [docs](https://huggingface.co/transformers/main_classes/trainer.html#trainingarguments). Below, we for example specify that we want to evaluate after every epoch of training, we would like to save the model every epoch, we set the learning rate, the batch size to use for training/evaluation, how many epochs to train for, and so on.\n",
        "* a `Trainer` object (docs can be found [here](https://huggingface.co/transformers/main_classes/trainer.html#id1))."
      ]
    },
    {
      "cell_type": "code",
      "metadata": {
        "id": "K5a8_vIKqr7P"
      },
      "source": [
        "batch_size = 8\n",
        "metric_name = \"f1\""
      ],
      "execution_count": null,
      "outputs": []
    },
    {
      "cell_type": "code",
      "metadata": {
        "id": "dR2GmpvDqbuZ"
      },
      "source": [
        "from transformers import TrainingArguments, Trainer\n",
        "\n",
        "args = TrainingArguments(\n",
        "    f\"bert-base-turkish-cased-finetuned-metin-dosya-turkish\",\n",
        "    evaluation_strategy = \"epoch\",\n",
        "    save_strategy = \"epoch\",\n",
        "    learning_rate=2e-5,\n",
        "    per_device_train_batch_size=batch_size,\n",
        "    per_device_eval_batch_size=batch_size,\n",
        "    num_train_epochs=5,\n",
        "    weight_decay=0.01,\n",
        "    load_best_model_at_end=True,\n",
        "    metric_for_best_model=metric_name,\n",
        "    # push_to_hub=True,\n",
        ")"
      ],
      "execution_count": null,
      "outputs": []
    },
    {
      "cell_type": "markdown",
      "metadata": {
        "id": "1_v2fPFFJ3-v"
      },
      "source": [
        "We are also going to compute metrics while training. For this, we need to define a `compute_metrics` function, that returns a dictionary with the desired metric values."
      ]
    },
    {
      "cell_type": "code",
      "metadata": {
        "id": "797b2WHJqUgZ"
      },
      "source": [
        "from sklearn.metrics import f1_score, roc_auc_score, accuracy_score\n",
        "from transformers import EvalPrediction\n",
        "import torch\n",
        "    \n",
        "# source: https://jesusleal.io/2021/04/21/Longformer-multilabel-classification/\n",
        "def multi_label_metrics(predictions, labels, threshold=0.5):\n",
        "    # first, apply sigmoid on predictions which are of shape (batch_size, num_labels)\n",
        "    sigmoid = torch.nn.Sigmoid()\n",
        "    probs = sigmoid(torch.Tensor(predictions))\n",
        "    # next, use threshold to turn them into integer predictions\n",
        "    y_pred = np.zeros(probs.shape)\n",
        "    y_pred[np.where(probs >= threshold)] = 1\n",
        "    # finally, compute metrics\n",
        "    y_true = labels\n",
        "    f1_micro_average = f1_score(y_true=y_true, y_pred=y_pred, average='micro')\n",
        "    roc_auc = roc_auc_score(y_true, y_pred, average = 'micro')\n",
        "    accuracy = accuracy_score(y_true, y_pred)\n",
        "    # return as dictionary\n",
        "    metrics = {'f1': f1_micro_average,\n",
        "               'roc_auc': roc_auc,\n",
        "               'accuracy': accuracy}\n",
        "    return metrics\n",
        "\n",
        "def compute_metrics(p: EvalPrediction):\n",
        "    preds = p.predictions[0] if isinstance(p.predictions, \n",
        "            tuple) else p.predictions\n",
        "    result = multi_label_metrics(\n",
        "        predictions=preds, \n",
        "        labels=p.label_ids)\n",
        "    return result"
      ],
      "execution_count": null,
      "outputs": []
    },
    {
      "cell_type": "markdown",
      "metadata": {
        "id": "fxNo4_TsvzDm"
      },
      "source": [
        "Let's verify a batch as well as a forward pass:"
      ]
    },
    {
      "cell_type": "code",
      "metadata": {
        "colab": {
          "base_uri": "https://localhost:8080/",
          "height": 35
        },
        "id": "IlOgGiojuWwG",
        "outputId": "caa9f7ec-82d6-4915-edca-d030f2b805c6"
      },
      "source": [
        "encoded_dataset['train'][0]['labels'].type()"
      ],
      "execution_count": null,
      "outputs": [
        {
          "output_type": "execute_result",
          "data": {
            "text/plain": [
              "'torch.FloatTensor'"
            ],
            "application/vnd.google.colaboratory.intrinsic+json": {
              "type": "string"
            }
          },
          "metadata": {},
          "execution_count": 21
        }
      ]
    },
    {
      "cell_type": "code",
      "metadata": {
        "colab": {
          "base_uri": "https://localhost:8080/"
        },
        "id": "Y41Kre_jvD7x",
        "outputId": "f0d7e9b8-0a66-4829-e5ed-68f8d9d0667d"
      },
      "source": [
        "encoded_dataset['train']['input_ids'][0]"
      ],
      "execution_count": null,
      "outputs": [
        {
          "output_type": "execute_result",
          "data": {
            "text/plain": [
              "tensor([    2, 23774,  1980,  5666,  2902,  4062, 23557,  2094,  3774,  8449,\n",
              "         9000,    82, 23326,  3013, 25964,  3709,  2031,    77,  1305,  1050,\n",
              "         1985, 17772, 26878,  1305,    90,  1024,  1305,  1988,  1033, 26878,\n",
              "         1305, 17772, 26878,  1305,    90,  1024,  1305,  1988,  1033, 26878,\n",
              "         1305,    82, 23326, 14197,  1024,  2617,  1973,  2332,  2020,    82,\n",
              "        23326, 17233,    82, 23326,  4528,  1024,  1305, 25747,  2546,  1305,\n",
              "        18483,  1024,  1305, 11551,  1305,  2414,  4634,  9751,  5310,  1006,\n",
              "           90,  1024,  1305,  9025,  1022,  2094,  4317,  1305,  2163,  5439,\n",
              "         1024,  8449,  1305,  3078,  3517,  3315,  2267,  2102,  5146, 14372,\n",
              "         3521,  1305,  1008,  6312,  3616,  1024,  1305,  2063,  1305,  1027,\n",
              "         6228,  1305,  9000,  8449,  9000, 23774,  1980,  5666,  2902,  4062,\n",
              "        23557, 23774,  1980,  5666,  2902,  4062, 23557,  4862,  2788,  2260,\n",
              "         5342,  3671, 23774,  1980, 21647, 11964,  3227,     3])"
            ]
          },
          "metadata": {},
          "execution_count": 22
        }
      ]
    },
    {
      "cell_type": "code",
      "metadata": {
        "colab": {
          "base_uri": "https://localhost:8080/"
        },
        "id": "sxWcnZ8ku12V",
        "outputId": "789d057a-147e-434f-b9ad-8e97cb90eebf"
      },
      "source": [
        "#forward pass\n",
        "outputs = model(input_ids=encoded_dataset['train']['input_ids'][0].unsqueeze(0), labels=encoded_dataset['train'][0]['labels'].unsqueeze(0))\n",
        "outputs"
      ],
      "execution_count": null,
      "outputs": [
        {
          "output_type": "execute_result",
          "data": {
            "text/plain": [
              "SequenceClassifierOutput([('loss',\n",
              "                           tensor(0.7185, grad_fn=<BinaryCrossEntropyWithLogitsBackward0>)),\n",
              "                          ('logits',\n",
              "                           tensor([[-0.1584,  0.1162,  0.3475, -0.3454,  0.9387, -0.5257, -0.3864, -0.5752,\n",
              "                                     0.0440,  0.2185, -0.3111,  0.2681, -0.0435,  0.1962,  0.0878,  1.0833,\n",
              "                                    -0.3022, -0.9510, -0.5891, -0.3538, -0.3740, -0.1904,  0.4151, -0.1612,\n",
              "                                     0.6260,  0.5708,  0.6701, -0.0612,  0.2883]],\n",
              "                                  grad_fn=<AddmmBackward0>))])"
            ]
          },
          "metadata": {},
          "execution_count": 23
        }
      ]
    },
    {
      "cell_type": "markdown",
      "metadata": {
        "id": "f-X2brZcv0X6"
      },
      "source": [
        "Let's start training!"
      ]
    },
    {
      "cell_type": "code",
      "metadata": {
        "id": "chq_3nUz73ib"
      },
      "source": [
        "trainer = Trainer(\n",
        "    model,\n",
        "    args,\n",
        "    train_dataset=encoded_dataset[\"train\"],\n",
        "    eval_dataset=encoded_dataset[\"dev\"],\n",
        "    tokenizer=tokenizer,\n",
        "    compute_metrics=compute_metrics\n",
        ")"
      ],
      "execution_count": null,
      "outputs": []
    },
    {
      "cell_type": "code",
      "metadata": {
        "colab": {
          "base_uri": "https://localhost:8080/",
          "height": 1000
        },
        "id": "KXmFds8js6P8",
        "outputId": "1c458a45-d0cc-4a92-b883-8d6eb73c6447"
      },
      "source": [
        "trainer.train()"
      ],
      "execution_count": null,
      "outputs": [
        {
          "output_type": "stream",
          "name": "stderr",
          "text": [
            "/usr/local/lib/python3.7/dist-packages/transformers/optimization.py:309: FutureWarning: This implementation of AdamW is deprecated and will be removed in a future version. Use the PyTorch implementation torch.optim.AdamW instead, or set `no_deprecation_warning=True` to disable this warning\n",
            "  FutureWarning,\n",
            "***** Running training *****\n",
            "  Num examples = 16760\n",
            "  Num Epochs = 5\n",
            "  Instantaneous batch size per device = 8\n",
            "  Total train batch size (w. parallel, distributed & accumulation) = 8\n",
            "  Gradient Accumulation steps = 1\n",
            "  Total optimization steps = 10475\n"
          ]
        },
        {
          "output_type": "display_data",
          "data": {
            "text/plain": [
              "<IPython.core.display.HTML object>"
            ],
            "text/html": [
              "\n",
              "    <div>\n",
              "      \n",
              "      <progress value='10475' max='10475' style='width:300px; height:20px; vertical-align: middle;'></progress>\n",
              "      [10475/10475 41:13, Epoch 5/5]\n",
              "    </div>\n",
              "    <table border=\"1\" class=\"dataframe\">\n",
              "  <thead>\n",
              " <tr style=\"text-align: left;\">\n",
              "      <th>Epoch</th>\n",
              "      <th>Training Loss</th>\n",
              "      <th>Validation Loss</th>\n",
              "      <th>F1</th>\n",
              "      <th>Roc Auc</th>\n",
              "      <th>Accuracy</th>\n",
              "    </tr>\n",
              "  </thead>\n",
              "  <tbody>\n",
              "    <tr>\n",
              "      <td>1</td>\n",
              "      <td>0.040000</td>\n",
              "      <td>0.028174</td>\n",
              "      <td>0.948401</td>\n",
              "      <td>0.956907</td>\n",
              "      <td>0.883996</td>\n",
              "    </tr>\n",
              "    <tr>\n",
              "      <td>2</td>\n",
              "      <td>0.015600</td>\n",
              "      <td>0.010802</td>\n",
              "      <td>0.989622</td>\n",
              "      <td>0.990112</td>\n",
              "      <td>0.974221</td>\n",
              "    </tr>\n",
              "    <tr>\n",
              "      <td>3</td>\n",
              "      <td>0.007500</td>\n",
              "      <td>0.005350</td>\n",
              "      <td>0.996705</td>\n",
              "      <td>0.997494</td>\n",
              "      <td>0.992481</td>\n",
              "    </tr>\n",
              "    <tr>\n",
              "      <td>4</td>\n",
              "      <td>0.004300</td>\n",
              "      <td>0.003296</td>\n",
              "      <td>0.998767</td>\n",
              "      <td>0.999550</td>\n",
              "      <td>0.997852</td>\n",
              "    </tr>\n",
              "    <tr>\n",
              "      <td>5</td>\n",
              "      <td>0.003300</td>\n",
              "      <td>0.002635</td>\n",
              "      <td>1.000000</td>\n",
              "      <td>1.000000</td>\n",
              "      <td>1.000000</td>\n",
              "    </tr>\n",
              "  </tbody>\n",
              "</table><p>"
            ]
          },
          "metadata": {}
        },
        {
          "output_type": "stream",
          "name": "stderr",
          "text": [
            "***** Running Evaluation *****\n",
            "  Num examples = 931\n",
            "  Batch size = 8\n",
            "Saving model checkpoint to bert-base-turkish-cased-finetuned-metin-dosya-turkish/checkpoint-2095\n",
            "Configuration saved in bert-base-turkish-cased-finetuned-metin-dosya-turkish/checkpoint-2095/config.json\n",
            "Model weights saved in bert-base-turkish-cased-finetuned-metin-dosya-turkish/checkpoint-2095/pytorch_model.bin\n",
            "tokenizer config file saved in bert-base-turkish-cased-finetuned-metin-dosya-turkish/checkpoint-2095/tokenizer_config.json\n",
            "Special tokens file saved in bert-base-turkish-cased-finetuned-metin-dosya-turkish/checkpoint-2095/special_tokens_map.json\n",
            "***** Running Evaluation *****\n",
            "  Num examples = 931\n",
            "  Batch size = 8\n",
            "Saving model checkpoint to bert-base-turkish-cased-finetuned-metin-dosya-turkish/checkpoint-4190\n",
            "Configuration saved in bert-base-turkish-cased-finetuned-metin-dosya-turkish/checkpoint-4190/config.json\n",
            "Model weights saved in bert-base-turkish-cased-finetuned-metin-dosya-turkish/checkpoint-4190/pytorch_model.bin\n",
            "tokenizer config file saved in bert-base-turkish-cased-finetuned-metin-dosya-turkish/checkpoint-4190/tokenizer_config.json\n",
            "Special tokens file saved in bert-base-turkish-cased-finetuned-metin-dosya-turkish/checkpoint-4190/special_tokens_map.json\n",
            "***** Running Evaluation *****\n",
            "  Num examples = 931\n",
            "  Batch size = 8\n",
            "Saving model checkpoint to bert-base-turkish-cased-finetuned-metin-dosya-turkish/checkpoint-6285\n",
            "Configuration saved in bert-base-turkish-cased-finetuned-metin-dosya-turkish/checkpoint-6285/config.json\n",
            "Model weights saved in bert-base-turkish-cased-finetuned-metin-dosya-turkish/checkpoint-6285/pytorch_model.bin\n",
            "tokenizer config file saved in bert-base-turkish-cased-finetuned-metin-dosya-turkish/checkpoint-6285/tokenizer_config.json\n",
            "Special tokens file saved in bert-base-turkish-cased-finetuned-metin-dosya-turkish/checkpoint-6285/special_tokens_map.json\n",
            "***** Running Evaluation *****\n",
            "  Num examples = 931\n",
            "  Batch size = 8\n",
            "Saving model checkpoint to bert-base-turkish-cased-finetuned-metin-dosya-turkish/checkpoint-8380\n",
            "Configuration saved in bert-base-turkish-cased-finetuned-metin-dosya-turkish/checkpoint-8380/config.json\n",
            "Model weights saved in bert-base-turkish-cased-finetuned-metin-dosya-turkish/checkpoint-8380/pytorch_model.bin\n",
            "tokenizer config file saved in bert-base-turkish-cased-finetuned-metin-dosya-turkish/checkpoint-8380/tokenizer_config.json\n",
            "Special tokens file saved in bert-base-turkish-cased-finetuned-metin-dosya-turkish/checkpoint-8380/special_tokens_map.json\n",
            "***** Running Evaluation *****\n",
            "  Num examples = 931\n",
            "  Batch size = 8\n",
            "Saving model checkpoint to bert-base-turkish-cased-finetuned-metin-dosya-turkish/checkpoint-10475\n",
            "Configuration saved in bert-base-turkish-cased-finetuned-metin-dosya-turkish/checkpoint-10475/config.json\n",
            "Model weights saved in bert-base-turkish-cased-finetuned-metin-dosya-turkish/checkpoint-10475/pytorch_model.bin\n",
            "tokenizer config file saved in bert-base-turkish-cased-finetuned-metin-dosya-turkish/checkpoint-10475/tokenizer_config.json\n",
            "Special tokens file saved in bert-base-turkish-cased-finetuned-metin-dosya-turkish/checkpoint-10475/special_tokens_map.json\n",
            "\n",
            "\n",
            "Training completed. Do not forget to share your model on huggingface.co/models =)\n",
            "\n",
            "\n",
            "Loading best model from bert-base-turkish-cased-finetuned-metin-dosya-turkish/checkpoint-10475 (score: 1.0).\n"
          ]
        },
        {
          "output_type": "execute_result",
          "data": {
            "text/plain": [
              "TrainOutput(global_step=10475, training_loss=0.026168471691432032, metrics={'train_runtime': 2473.5274, 'train_samples_per_second': 33.879, 'train_steps_per_second': 4.235, 'total_flos': 5513512883251200.0, 'train_loss': 0.026168471691432032, 'epoch': 5.0})"
            ]
          },
          "metadata": {},
          "execution_count": 25
        }
      ]
    },
    {
      "cell_type": "markdown",
      "metadata": {
        "id": "hiloh9eMK91o"
      },
      "source": [
        "## Evaluate\n",
        "\n",
        "After training, we evaluate our model on the validation set."
      ]
    },
    {
      "cell_type": "code",
      "metadata": {
        "colab": {
          "base_uri": "https://localhost:8080/",
          "height": 228
        },
        "id": "cMlebJ83LRYG",
        "outputId": "74f09638-48a9-4bed-f6cc-86a2639a5866"
      },
      "source": [
        "trainer.evaluate()"
      ],
      "execution_count": null,
      "outputs": [
        {
          "output_type": "stream",
          "name": "stderr",
          "text": [
            "***** Running Evaluation *****\n",
            "  Num examples = 931\n",
            "  Batch size = 8\n"
          ]
        },
        {
          "output_type": "display_data",
          "data": {
            "text/plain": [
              "<IPython.core.display.HTML object>"
            ],
            "text/html": [
              "\n",
              "    <div>\n",
              "      \n",
              "      <progress value='117' max='117' style='width:300px; height:20px; vertical-align: middle;'></progress>\n",
              "      [117/117 00:07]\n",
              "    </div>\n",
              "    "
            ]
          },
          "metadata": {}
        },
        {
          "output_type": "execute_result",
          "data": {
            "text/plain": [
              "{'epoch': 5.0,\n",
              " 'eval_accuracy': 1.0,\n",
              " 'eval_f1': 1.0,\n",
              " 'eval_loss': 0.002634634030982852,\n",
              " 'eval_roc_auc': 1.0,\n",
              " 'eval_runtime': 8.0892,\n",
              " 'eval_samples_per_second': 115.092,\n",
              " 'eval_steps_per_second': 14.464}"
            ]
          },
          "metadata": {},
          "execution_count": 26
        }
      ]
    },
    {
      "cell_type": "markdown",
      "metadata": {
        "id": "3nmvJp0pLq-3"
      },
      "source": [
        "## Inference\n",
        "\n",
        "Let's test the model on a new sentence:"
      ]
    },
    {
      "cell_type": "code",
      "metadata": {
        "id": "3fxjfr8PLD42"
      },
      "source": [
        "text = \"Koca, Twitter hesabından yaptığı paylaşımda,Şoför arkadaşımız arzusu üzerine misafirim oldu. Hasta nakil aracıyla naklini yaptığı hastanın Ankara Şehir Hastanesi aciline yatışını sağladıktan 2,5 saat sonra aracıyla bakanlık binası önüne park edişinden başladık, çok şey konuştuk. Ama bazı şeyler konuşulduğu yerde kalmalı\"\n",
        "\n",
        "encoding = tokenizer(text, return_tensors=\"pt\")\n",
        "encoding = {k: v.to(trainer.model.device) for k,v in encoding.items()}\n",
        "\n",
        "outputs = trainer.model(**encoding)"
      ],
      "execution_count": null,
      "outputs": []
    },
    {
      "cell_type": "markdown",
      "metadata": {
        "id": "8THm5-XgNHPm"
      },
      "source": [
        "The logits that come out of the model are of shape (batch_size, num_labels). As we are only forwarding a single sentence through the model, the `batch_size` equals 1. The logits is a tensor that contains the (unnormalized) scores for every individual label."
      ]
    },
    {
      "cell_type": "code",
      "metadata": {
        "colab": {
          "base_uri": "https://localhost:8080/"
        },
        "id": "KOBosj4UL2tU",
        "outputId": "7a585fab-c460-4002-92d3-1a539cce3bcf"
      },
      "source": [
        "logits = outputs.logits\n",
        "logits.shape"
      ],
      "execution_count": null,
      "outputs": [
        {
          "output_type": "execute_result",
          "data": {
            "text/plain": [
              "torch.Size([1, 29])"
            ]
          },
          "metadata": {},
          "execution_count": 31
        }
      ]
    },
    {
      "cell_type": "markdown",
      "metadata": {
        "id": "DC4XdDaHNVcd"
      },
      "source": [
        "To turn them into actual predicted labels, we first apply a sigmoid function independently to every score, such that every score is turned into a number between 0 and 1, that can be interpreted as a \"probability\" for how certain the model is that a given class belongs to the input text.\n",
        "\n",
        "Next, we use a threshold (typically, 0.5) to turn every probability into either a 1 (which means, we predict the label for the given example) or a 0 (which means, we don't predict the label for the given example)."
      ]
    },
    {
      "cell_type": "code",
      "metadata": {
        "colab": {
          "base_uri": "https://localhost:8080/"
        },
        "id": "mEkAQleMMT0k",
        "outputId": "e9424377-a56f-4bd9-da2b-6e1c16107a33"
      },
      "source": [
        "# apply sigmoid + threshold\n",
        "sigmoid = torch.nn.Sigmoid()\n",
        "probs = sigmoid(logits.squeeze().cpu())\n",
        "predictions = np.zeros(probs.shape)\n",
        "predictions[np.where(probs >= 0.5)] = 1\n",
        "# turn predicted id's into actual label names\n",
        "predicted_labels = [id2label[idx] for idx, label in enumerate(predictions) if label == 1.0]\n",
        "print(predicted_labels)"
      ],
      "execution_count": null,
      "outputs": [
        {
          "output_type": "stream",
          "name": "stdout",
          "text": [
            "['News_and_Politics']\n"
          ]
        }
      ]
    },
    {
      "cell_type": "code",
      "source": [
        ""
      ],
      "metadata": {
        "id": "MDQFlP69VDmS"
      },
      "execution_count": null,
      "outputs": []
    }
  ]
}