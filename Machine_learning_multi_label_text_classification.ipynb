{
  "nbformat": 4,
  "nbformat_minor": 0,
  "metadata": {
    "colab": {
      "name": "Machine-learning-multi-label-text-classification.ipynb",
      "provenance": [],
      "collapsed_sections": [],
      "mount_file_id": "1iSIbko6138ktDRn9QS6TtSk_gNUnFjaK",
      "authorship_tag": "ABX9TyMuwf6+cB/7nROmpKBd3/an",
      "include_colab_link": true
    },
    "kernelspec": {
      "name": "python3",
      "display_name": "Python 3"
    },
    "language_info": {
      "name": "python"
    }
  },
  "cells": [
    {
      "cell_type": "markdown",
      "metadata": {
        "id": "view-in-github",
        "colab_type": "text"
      },
      "source": [
        "<a href=\"https://colab.research.google.com/github/abdulmajee/news_data_augmetation/blob/main/Machine_learning_multi_label_text_classification.ipynb\" target=\"_parent\"><img src=\"https://colab.research.google.com/assets/colab-badge.svg\" alt=\"Open In Colab\"/></a>"
      ]
    },
    {
      "cell_type": "code",
      "execution_count": 3,
      "metadata": {
        "id": "TMMFD3nzWxll"
      },
      "outputs": [],
      "source": [
        "%matplotlib inline\n",
        "import re\n",
        "import matplotlib\n",
        "import numpy as np\n",
        "import matplotlib.pyplot as plt\n",
        "import pandas as pd\n",
        "from sklearn.model_selection import train_test_split\n",
        "from sklearn.feature_extraction.text import TfidfVectorizer\n",
        "from sklearn.naive_bayes import MultinomialNB\n",
        "from sklearn.metrics import accuracy_score\n",
        "from sklearn.multiclass import OneVsRestClassifier\n",
        "from sklearn.svm import LinearSVC\n",
        "from sklearn.linear_model import LogisticRegression\n",
        "from sklearn.pipeline import Pipeline\n",
        "import seaborn as sns\n"
      ]
    },
    {
      "cell_type": "code",
      "source": [
        "df = pd.read_csv(\"/content/drive/MyDrive/Colab Notebooks/metin_dosyasi_dataframe.csv\")\n",
        "df.head()"
      ],
      "metadata": {
        "colab": {
          "base_uri": "https://localhost:8080/",
          "height": 699
        },
        "id": "aRTFArIzaMV_",
        "outputId": "f35677ee-c82a-48e5-be9f-22b3c7bad00d"
      },
      "execution_count": 7,
      "outputs": [
        {
          "output_type": "execute_result",
          "data": {
            "text/plain": [
              "                                                text  Careers  \\\n",
              "0  çocuk sağlığı hastalıkları hastaneler hastanel...        0   \n",
              "1  i̇htiyaç kredisi enpara com i̇çeriğe git alt b...        0   \n",
              "2  kariyer gelişiminde ay işığı sorunu dünya gaze...        1   \n",
              "3  kocaeli istihdam fuarı kariyer günleri başladı...        1   \n",
              "4  müzik nedir nasıl bir sanattır müzik tarihçesi...        0   \n",
              "\n",
              "   Personal_Finance  Religion_&_Spirituality  Travel  Science  Food_&_Drink  \\\n",
              "0                 0                        0       0        0             0   \n",
              "1                 1                        0       0        0             0   \n",
              "2                 0                        0       0        0             0   \n",
              "3                 0                        0       0        0             0   \n",
              "4                 0                        0       0        0             0   \n",
              "\n",
              "   Events_and_Attractions  Real_Estate  Family_and_Relationships  ...  \\\n",
              "0                       0            0                         0  ...   \n",
              "1                       0            0                         0  ...   \n",
              "2                       0            0                         0  ...   \n",
              "3                       0            0                         0  ...   \n",
              "4                       0            0                         0  ...   \n",
              "\n",
              "   Automotive  Medical_Health  Books_and_Literature  Style_&_Fashion  \\\n",
              "0           0               0                     0                0   \n",
              "1           0               0                     0                0   \n",
              "2           0               0                     0                0   \n",
              "3           0               0                     0                0   \n",
              "4           0               0                     0                0   \n",
              "\n",
              "   Fine_Art  Technology_&_Computing  Music_and_Audio  Business_and_Finance  \\\n",
              "0         0                       0                0                     0   \n",
              "1         0                       0                0                     0   \n",
              "2         0                       0                0                     0   \n",
              "3         0                       0                0                     0   \n",
              "4         1                       0                0                     0   \n",
              "\n",
              "   Video_Gaming  Education  \n",
              "0             0          0  \n",
              "1             0          0  \n",
              "2             0          0  \n",
              "3             0          0  \n",
              "4             0          0  \n",
              "\n",
              "[5 rows x 30 columns]"
            ],
            "text/html": [
              "\n",
              "  <div id=\"df-cb9fd816-08c6-4fa6-bf5f-2638383ba372\">\n",
              "    <div class=\"colab-df-container\">\n",
              "      <div>\n",
              "<style scoped>\n",
              "    .dataframe tbody tr th:only-of-type {\n",
              "        vertical-align: middle;\n",
              "    }\n",
              "\n",
              "    .dataframe tbody tr th {\n",
              "        vertical-align: top;\n",
              "    }\n",
              "\n",
              "    .dataframe thead th {\n",
              "        text-align: right;\n",
              "    }\n",
              "</style>\n",
              "<table border=\"1\" class=\"dataframe\">\n",
              "  <thead>\n",
              "    <tr style=\"text-align: right;\">\n",
              "      <th></th>\n",
              "      <th>text</th>\n",
              "      <th>Careers</th>\n",
              "      <th>Personal_Finance</th>\n",
              "      <th>Religion_&amp;_Spirituality</th>\n",
              "      <th>Travel</th>\n",
              "      <th>Science</th>\n",
              "      <th>Food_&amp;_Drink</th>\n",
              "      <th>Events_and_Attractions</th>\n",
              "      <th>Real_Estate</th>\n",
              "      <th>Family_and_Relationships</th>\n",
              "      <th>...</th>\n",
              "      <th>Automotive</th>\n",
              "      <th>Medical_Health</th>\n",
              "      <th>Books_and_Literature</th>\n",
              "      <th>Style_&amp;_Fashion</th>\n",
              "      <th>Fine_Art</th>\n",
              "      <th>Technology_&amp;_Computing</th>\n",
              "      <th>Music_and_Audio</th>\n",
              "      <th>Business_and_Finance</th>\n",
              "      <th>Video_Gaming</th>\n",
              "      <th>Education</th>\n",
              "    </tr>\n",
              "  </thead>\n",
              "  <tbody>\n",
              "    <tr>\n",
              "      <th>0</th>\n",
              "      <td>çocuk sağlığı hastalıkları hastaneler hastanel...</td>\n",
              "      <td>0</td>\n",
              "      <td>0</td>\n",
              "      <td>0</td>\n",
              "      <td>0</td>\n",
              "      <td>0</td>\n",
              "      <td>0</td>\n",
              "      <td>0</td>\n",
              "      <td>0</td>\n",
              "      <td>0</td>\n",
              "      <td>...</td>\n",
              "      <td>0</td>\n",
              "      <td>0</td>\n",
              "      <td>0</td>\n",
              "      <td>0</td>\n",
              "      <td>0</td>\n",
              "      <td>0</td>\n",
              "      <td>0</td>\n",
              "      <td>0</td>\n",
              "      <td>0</td>\n",
              "      <td>0</td>\n",
              "    </tr>\n",
              "    <tr>\n",
              "      <th>1</th>\n",
              "      <td>i̇htiyaç kredisi enpara com i̇çeriğe git alt b...</td>\n",
              "      <td>0</td>\n",
              "      <td>1</td>\n",
              "      <td>0</td>\n",
              "      <td>0</td>\n",
              "      <td>0</td>\n",
              "      <td>0</td>\n",
              "      <td>0</td>\n",
              "      <td>0</td>\n",
              "      <td>0</td>\n",
              "      <td>...</td>\n",
              "      <td>0</td>\n",
              "      <td>0</td>\n",
              "      <td>0</td>\n",
              "      <td>0</td>\n",
              "      <td>0</td>\n",
              "      <td>0</td>\n",
              "      <td>0</td>\n",
              "      <td>0</td>\n",
              "      <td>0</td>\n",
              "      <td>0</td>\n",
              "    </tr>\n",
              "    <tr>\n",
              "      <th>2</th>\n",
              "      <td>kariyer gelişiminde ay işığı sorunu dünya gaze...</td>\n",
              "      <td>1</td>\n",
              "      <td>0</td>\n",
              "      <td>0</td>\n",
              "      <td>0</td>\n",
              "      <td>0</td>\n",
              "      <td>0</td>\n",
              "      <td>0</td>\n",
              "      <td>0</td>\n",
              "      <td>0</td>\n",
              "      <td>...</td>\n",
              "      <td>0</td>\n",
              "      <td>0</td>\n",
              "      <td>0</td>\n",
              "      <td>0</td>\n",
              "      <td>0</td>\n",
              "      <td>0</td>\n",
              "      <td>0</td>\n",
              "      <td>0</td>\n",
              "      <td>0</td>\n",
              "      <td>0</td>\n",
              "    </tr>\n",
              "    <tr>\n",
              "      <th>3</th>\n",
              "      <td>kocaeli istihdam fuarı kariyer günleri başladı...</td>\n",
              "      <td>1</td>\n",
              "      <td>0</td>\n",
              "      <td>0</td>\n",
              "      <td>0</td>\n",
              "      <td>0</td>\n",
              "      <td>0</td>\n",
              "      <td>0</td>\n",
              "      <td>0</td>\n",
              "      <td>0</td>\n",
              "      <td>...</td>\n",
              "      <td>0</td>\n",
              "      <td>0</td>\n",
              "      <td>0</td>\n",
              "      <td>0</td>\n",
              "      <td>0</td>\n",
              "      <td>0</td>\n",
              "      <td>0</td>\n",
              "      <td>0</td>\n",
              "      <td>0</td>\n",
              "      <td>0</td>\n",
              "    </tr>\n",
              "    <tr>\n",
              "      <th>4</th>\n",
              "      <td>müzik nedir nasıl bir sanattır müzik tarihçesi...</td>\n",
              "      <td>0</td>\n",
              "      <td>0</td>\n",
              "      <td>0</td>\n",
              "      <td>0</td>\n",
              "      <td>0</td>\n",
              "      <td>0</td>\n",
              "      <td>0</td>\n",
              "      <td>0</td>\n",
              "      <td>0</td>\n",
              "      <td>...</td>\n",
              "      <td>0</td>\n",
              "      <td>0</td>\n",
              "      <td>0</td>\n",
              "      <td>0</td>\n",
              "      <td>1</td>\n",
              "      <td>0</td>\n",
              "      <td>0</td>\n",
              "      <td>0</td>\n",
              "      <td>0</td>\n",
              "      <td>0</td>\n",
              "    </tr>\n",
              "  </tbody>\n",
              "</table>\n",
              "<p>5 rows × 30 columns</p>\n",
              "</div>\n",
              "      <button class=\"colab-df-convert\" onclick=\"convertToInteractive('df-cb9fd816-08c6-4fa6-bf5f-2638383ba372')\"\n",
              "              title=\"Convert this dataframe to an interactive table.\"\n",
              "              style=\"display:none;\">\n",
              "        \n",
              "  <svg xmlns=\"http://www.w3.org/2000/svg\" height=\"24px\"viewBox=\"0 0 24 24\"\n",
              "       width=\"24px\">\n",
              "    <path d=\"M0 0h24v24H0V0z\" fill=\"none\"/>\n",
              "    <path d=\"M18.56 5.44l.94 2.06.94-2.06 2.06-.94-2.06-.94-.94-2.06-.94 2.06-2.06.94zm-11 1L8.5 8.5l.94-2.06 2.06-.94-2.06-.94L8.5 2.5l-.94 2.06-2.06.94zm10 10l.94 2.06.94-2.06 2.06-.94-2.06-.94-.94-2.06-.94 2.06-2.06.94z\"/><path d=\"M17.41 7.96l-1.37-1.37c-.4-.4-.92-.59-1.43-.59-.52 0-1.04.2-1.43.59L10.3 9.45l-7.72 7.72c-.78.78-.78 2.05 0 2.83L4 21.41c.39.39.9.59 1.41.59.51 0 1.02-.2 1.41-.59l7.78-7.78 2.81-2.81c.8-.78.8-2.07 0-2.86zM5.41 20L4 18.59l7.72-7.72 1.47 1.35L5.41 20z\"/>\n",
              "  </svg>\n",
              "      </button>\n",
              "      \n",
              "  <style>\n",
              "    .colab-df-container {\n",
              "      display:flex;\n",
              "      flex-wrap:wrap;\n",
              "      gap: 12px;\n",
              "    }\n",
              "\n",
              "    .colab-df-convert {\n",
              "      background-color: #E8F0FE;\n",
              "      border: none;\n",
              "      border-radius: 50%;\n",
              "      cursor: pointer;\n",
              "      display: none;\n",
              "      fill: #1967D2;\n",
              "      height: 32px;\n",
              "      padding: 0 0 0 0;\n",
              "      width: 32px;\n",
              "    }\n",
              "\n",
              "    .colab-df-convert:hover {\n",
              "      background-color: #E2EBFA;\n",
              "      box-shadow: 0px 1px 2px rgba(60, 64, 67, 0.3), 0px 1px 3px 1px rgba(60, 64, 67, 0.15);\n",
              "      fill: #174EA6;\n",
              "    }\n",
              "\n",
              "    [theme=dark] .colab-df-convert {\n",
              "      background-color: #3B4455;\n",
              "      fill: #D2E3FC;\n",
              "    }\n",
              "\n",
              "    [theme=dark] .colab-df-convert:hover {\n",
              "      background-color: #434B5C;\n",
              "      box-shadow: 0px 1px 3px 1px rgba(0, 0, 0, 0.15);\n",
              "      filter: drop-shadow(0px 1px 2px rgba(0, 0, 0, 0.3));\n",
              "      fill: #FFFFFF;\n",
              "    }\n",
              "  </style>\n",
              "\n",
              "      <script>\n",
              "        const buttonEl =\n",
              "          document.querySelector('#df-cb9fd816-08c6-4fa6-bf5f-2638383ba372 button.colab-df-convert');\n",
              "        buttonEl.style.display =\n",
              "          google.colab.kernel.accessAllowed ? 'block' : 'none';\n",
              "\n",
              "        async function convertToInteractive(key) {\n",
              "          const element = document.querySelector('#df-cb9fd816-08c6-4fa6-bf5f-2638383ba372');\n",
              "          const dataTable =\n",
              "            await google.colab.kernel.invokeFunction('convertToInteractive',\n",
              "                                                     [key], {});\n",
              "          if (!dataTable) return;\n",
              "\n",
              "          const docLinkHtml = 'Like what you see? Visit the ' +\n",
              "            '<a target=\"_blank\" href=https://colab.research.google.com/notebooks/data_table.ipynb>data table notebook</a>'\n",
              "            + ' to learn more about interactive tables.';\n",
              "          element.innerHTML = '';\n",
              "          dataTable['output_type'] = 'display_data';\n",
              "          await google.colab.output.renderOutput(dataTable, element);\n",
              "          const docLink = document.createElement('div');\n",
              "          docLink.innerHTML = docLinkHtml;\n",
              "          element.appendChild(docLink);\n",
              "        }\n",
              "      </script>\n",
              "    </div>\n",
              "  </div>\n",
              "  "
            ]
          },
          "metadata": {},
          "execution_count": 7
        }
      ]
    },
    {
      "cell_type": "markdown",
      "source": [
        "# Number of comments in each category"
      ],
      "metadata": {
        "id": "4J9-vUR9chRu"
      }
    },
    {
      "cell_type": "code",
      "source": [
        "df_labels = df.drop(['text'], axis=1)\n",
        "counts = []\n",
        "categories = list(df_labels.columns.values)\n",
        "for i in categories:\n",
        "    counts.append((i, df_labels[i].sum()))\n",
        "df_stats = pd.DataFrame(counts, columns=['category', 'number_of_comments'])\n",
        "df_stats"
      ],
      "metadata": {
        "colab": {
          "base_uri": "https://localhost:8080/",
          "height": 959
        },
        "id": "ZoAb9lMObvnk",
        "outputId": "a3b92695-1820-4dab-83df-6348f4f74012"
      },
      "execution_count": 8,
      "outputs": [
        {
          "output_type": "execute_result",
          "data": {
            "text/plain": [
              "                    category  number_of_comments\n",
              "0                    Careers                 110\n",
              "1           Personal_Finance                 122\n",
              "2    Religion_&_Spirituality                 106\n",
              "3                     Travel                 109\n",
              "4                    Science                 105\n",
              "5               Food_&_Drink                 126\n",
              "6     Events_and_Attractions                 106\n",
              "7                Real_Estate                 108\n",
              "8   Family_and_Relationships                 169\n",
              "9                     Sports                 110\n",
              "10            Healthy_Living                 125\n",
              "11                  Shopping                 216\n",
              "12         News_and_Politics                 561\n",
              "13                Television                 103\n",
              "14                    Movies                 115\n",
              "15               Pop_Culture                 117\n",
              "16       Hobbies_&_Interests                 109\n",
              "17             Home_&_Garden                  97\n",
              "18                      Pets                 107\n",
              "19                Automotive                 102\n",
              "20            Medical_Health                 162\n",
              "21      Books_and_Literature                 106\n",
              "22           Style_&_Fashion                 124\n",
              "23                  Fine_Art                 106\n",
              "24    Technology_&_Computing                 178\n",
              "25           Music_and_Audio                 112\n",
              "26      Business_and_Finance                 156\n",
              "27              Video_Gaming                 104\n",
              "28                 Education                 129"
            ],
            "text/html": [
              "\n",
              "  <div id=\"df-1ca23037-e288-4bee-8177-e0b2c8466079\">\n",
              "    <div class=\"colab-df-container\">\n",
              "      <div>\n",
              "<style scoped>\n",
              "    .dataframe tbody tr th:only-of-type {\n",
              "        vertical-align: middle;\n",
              "    }\n",
              "\n",
              "    .dataframe tbody tr th {\n",
              "        vertical-align: top;\n",
              "    }\n",
              "\n",
              "    .dataframe thead th {\n",
              "        text-align: right;\n",
              "    }\n",
              "</style>\n",
              "<table border=\"1\" class=\"dataframe\">\n",
              "  <thead>\n",
              "    <tr style=\"text-align: right;\">\n",
              "      <th></th>\n",
              "      <th>category</th>\n",
              "      <th>number_of_comments</th>\n",
              "    </tr>\n",
              "  </thead>\n",
              "  <tbody>\n",
              "    <tr>\n",
              "      <th>0</th>\n",
              "      <td>Careers</td>\n",
              "      <td>110</td>\n",
              "    </tr>\n",
              "    <tr>\n",
              "      <th>1</th>\n",
              "      <td>Personal_Finance</td>\n",
              "      <td>122</td>\n",
              "    </tr>\n",
              "    <tr>\n",
              "      <th>2</th>\n",
              "      <td>Religion_&amp;_Spirituality</td>\n",
              "      <td>106</td>\n",
              "    </tr>\n",
              "    <tr>\n",
              "      <th>3</th>\n",
              "      <td>Travel</td>\n",
              "      <td>109</td>\n",
              "    </tr>\n",
              "    <tr>\n",
              "      <th>4</th>\n",
              "      <td>Science</td>\n",
              "      <td>105</td>\n",
              "    </tr>\n",
              "    <tr>\n",
              "      <th>5</th>\n",
              "      <td>Food_&amp;_Drink</td>\n",
              "      <td>126</td>\n",
              "    </tr>\n",
              "    <tr>\n",
              "      <th>6</th>\n",
              "      <td>Events_and_Attractions</td>\n",
              "      <td>106</td>\n",
              "    </tr>\n",
              "    <tr>\n",
              "      <th>7</th>\n",
              "      <td>Real_Estate</td>\n",
              "      <td>108</td>\n",
              "    </tr>\n",
              "    <tr>\n",
              "      <th>8</th>\n",
              "      <td>Family_and_Relationships</td>\n",
              "      <td>169</td>\n",
              "    </tr>\n",
              "    <tr>\n",
              "      <th>9</th>\n",
              "      <td>Sports</td>\n",
              "      <td>110</td>\n",
              "    </tr>\n",
              "    <tr>\n",
              "      <th>10</th>\n",
              "      <td>Healthy_Living</td>\n",
              "      <td>125</td>\n",
              "    </tr>\n",
              "    <tr>\n",
              "      <th>11</th>\n",
              "      <td>Shopping</td>\n",
              "      <td>216</td>\n",
              "    </tr>\n",
              "    <tr>\n",
              "      <th>12</th>\n",
              "      <td>News_and_Politics</td>\n",
              "      <td>561</td>\n",
              "    </tr>\n",
              "    <tr>\n",
              "      <th>13</th>\n",
              "      <td>Television</td>\n",
              "      <td>103</td>\n",
              "    </tr>\n",
              "    <tr>\n",
              "      <th>14</th>\n",
              "      <td>Movies</td>\n",
              "      <td>115</td>\n",
              "    </tr>\n",
              "    <tr>\n",
              "      <th>15</th>\n",
              "      <td>Pop_Culture</td>\n",
              "      <td>117</td>\n",
              "    </tr>\n",
              "    <tr>\n",
              "      <th>16</th>\n",
              "      <td>Hobbies_&amp;_Interests</td>\n",
              "      <td>109</td>\n",
              "    </tr>\n",
              "    <tr>\n",
              "      <th>17</th>\n",
              "      <td>Home_&amp;_Garden</td>\n",
              "      <td>97</td>\n",
              "    </tr>\n",
              "    <tr>\n",
              "      <th>18</th>\n",
              "      <td>Pets</td>\n",
              "      <td>107</td>\n",
              "    </tr>\n",
              "    <tr>\n",
              "      <th>19</th>\n",
              "      <td>Automotive</td>\n",
              "      <td>102</td>\n",
              "    </tr>\n",
              "    <tr>\n",
              "      <th>20</th>\n",
              "      <td>Medical_Health</td>\n",
              "      <td>162</td>\n",
              "    </tr>\n",
              "    <tr>\n",
              "      <th>21</th>\n",
              "      <td>Books_and_Literature</td>\n",
              "      <td>106</td>\n",
              "    </tr>\n",
              "    <tr>\n",
              "      <th>22</th>\n",
              "      <td>Style_&amp;_Fashion</td>\n",
              "      <td>124</td>\n",
              "    </tr>\n",
              "    <tr>\n",
              "      <th>23</th>\n",
              "      <td>Fine_Art</td>\n",
              "      <td>106</td>\n",
              "    </tr>\n",
              "    <tr>\n",
              "      <th>24</th>\n",
              "      <td>Technology_&amp;_Computing</td>\n",
              "      <td>178</td>\n",
              "    </tr>\n",
              "    <tr>\n",
              "      <th>25</th>\n",
              "      <td>Music_and_Audio</td>\n",
              "      <td>112</td>\n",
              "    </tr>\n",
              "    <tr>\n",
              "      <th>26</th>\n",
              "      <td>Business_and_Finance</td>\n",
              "      <td>156</td>\n",
              "    </tr>\n",
              "    <tr>\n",
              "      <th>27</th>\n",
              "      <td>Video_Gaming</td>\n",
              "      <td>104</td>\n",
              "    </tr>\n",
              "    <tr>\n",
              "      <th>28</th>\n",
              "      <td>Education</td>\n",
              "      <td>129</td>\n",
              "    </tr>\n",
              "  </tbody>\n",
              "</table>\n",
              "</div>\n",
              "      <button class=\"colab-df-convert\" onclick=\"convertToInteractive('df-1ca23037-e288-4bee-8177-e0b2c8466079')\"\n",
              "              title=\"Convert this dataframe to an interactive table.\"\n",
              "              style=\"display:none;\">\n",
              "        \n",
              "  <svg xmlns=\"http://www.w3.org/2000/svg\" height=\"24px\"viewBox=\"0 0 24 24\"\n",
              "       width=\"24px\">\n",
              "    <path d=\"M0 0h24v24H0V0z\" fill=\"none\"/>\n",
              "    <path d=\"M18.56 5.44l.94 2.06.94-2.06 2.06-.94-2.06-.94-.94-2.06-.94 2.06-2.06.94zm-11 1L8.5 8.5l.94-2.06 2.06-.94-2.06-.94L8.5 2.5l-.94 2.06-2.06.94zm10 10l.94 2.06.94-2.06 2.06-.94-2.06-.94-.94-2.06-.94 2.06-2.06.94z\"/><path d=\"M17.41 7.96l-1.37-1.37c-.4-.4-.92-.59-1.43-.59-.52 0-1.04.2-1.43.59L10.3 9.45l-7.72 7.72c-.78.78-.78 2.05 0 2.83L4 21.41c.39.39.9.59 1.41.59.51 0 1.02-.2 1.41-.59l7.78-7.78 2.81-2.81c.8-.78.8-2.07 0-2.86zM5.41 20L4 18.59l7.72-7.72 1.47 1.35L5.41 20z\"/>\n",
              "  </svg>\n",
              "      </button>\n",
              "      \n",
              "  <style>\n",
              "    .colab-df-container {\n",
              "      display:flex;\n",
              "      flex-wrap:wrap;\n",
              "      gap: 12px;\n",
              "    }\n",
              "\n",
              "    .colab-df-convert {\n",
              "      background-color: #E8F0FE;\n",
              "      border: none;\n",
              "      border-radius: 50%;\n",
              "      cursor: pointer;\n",
              "      display: none;\n",
              "      fill: #1967D2;\n",
              "      height: 32px;\n",
              "      padding: 0 0 0 0;\n",
              "      width: 32px;\n",
              "    }\n",
              "\n",
              "    .colab-df-convert:hover {\n",
              "      background-color: #E2EBFA;\n",
              "      box-shadow: 0px 1px 2px rgba(60, 64, 67, 0.3), 0px 1px 3px 1px rgba(60, 64, 67, 0.15);\n",
              "      fill: #174EA6;\n",
              "    }\n",
              "\n",
              "    [theme=dark] .colab-df-convert {\n",
              "      background-color: #3B4455;\n",
              "      fill: #D2E3FC;\n",
              "    }\n",
              "\n",
              "    [theme=dark] .colab-df-convert:hover {\n",
              "      background-color: #434B5C;\n",
              "      box-shadow: 0px 1px 3px 1px rgba(0, 0, 0, 0.15);\n",
              "      filter: drop-shadow(0px 1px 2px rgba(0, 0, 0, 0.3));\n",
              "      fill: #FFFFFF;\n",
              "    }\n",
              "  </style>\n",
              "\n",
              "      <script>\n",
              "        const buttonEl =\n",
              "          document.querySelector('#df-1ca23037-e288-4bee-8177-e0b2c8466079 button.colab-df-convert');\n",
              "        buttonEl.style.display =\n",
              "          google.colab.kernel.accessAllowed ? 'block' : 'none';\n",
              "\n",
              "        async function convertToInteractive(key) {\n",
              "          const element = document.querySelector('#df-1ca23037-e288-4bee-8177-e0b2c8466079');\n",
              "          const dataTable =\n",
              "            await google.colab.kernel.invokeFunction('convertToInteractive',\n",
              "                                                     [key], {});\n",
              "          if (!dataTable) return;\n",
              "\n",
              "          const docLinkHtml = 'Like what you see? Visit the ' +\n",
              "            '<a target=\"_blank\" href=https://colab.research.google.com/notebooks/data_table.ipynb>data table notebook</a>'\n",
              "            + ' to learn more about interactive tables.';\n",
              "          element.innerHTML = '';\n",
              "          dataTable['output_type'] = 'display_data';\n",
              "          await google.colab.output.renderOutput(dataTable, element);\n",
              "          const docLink = document.createElement('div');\n",
              "          docLink.innerHTML = docLinkHtml;\n",
              "          element.appendChild(docLink);\n",
              "        }\n",
              "      </script>\n",
              "    </div>\n",
              "  </div>\n",
              "  "
            ]
          },
          "metadata": {},
          "execution_count": 8
        }
      ]
    },
    {
      "cell_type": "code",
      "source": [
        ""
      ],
      "metadata": {
        "id": "hEf2wHFAceD5"
      },
      "execution_count": null,
      "outputs": []
    },
    {
      "cell_type": "markdown",
      "source": [
        "Display of the statistics"
      ],
      "metadata": {
        "id": "3vITYcFZcqX-"
      }
    },
    {
      "cell_type": "code",
      "source": [
        "df_stats.plot(x='category', y='number_of_comments', kind='bar', legend=False, grid=True, figsize=(8, 5))\n",
        "plt.title(\"Number of documents per category\")\n",
        "plt.ylabel('# of occurrences', fontsize=12)\n",
        "plt.xlabel('category', fontsize=12)"
      ],
      "metadata": {
        "colab": {
          "base_uri": "https://localhost:8080/",
          "height": 488
        },
        "id": "cmbigsiLcwWY",
        "outputId": "7883bff1-529e-4143-a7e8-5a5bc5734f62"
      },
      "execution_count": 9,
      "outputs": [
        {
          "output_type": "execute_result",
          "data": {
            "text/plain": [
              "Text(0.5, 0, 'category')"
            ]
          },
          "metadata": {},
          "execution_count": 9
        },
        {
          "output_type": "display_data",
          "data": {
            "text/plain": [
              "<Figure size 576x360 with 1 Axes>"
            ],
            "image/png": "[encoded data removed]"
          },
          "metadata": {
            "needs_background": "light"
          }
        }
      ]
    },
    {
      "cell_type": "markdown",
      "source": [
        "How many of the Documents have multi-labels ?"
      ],
      "metadata": {
        "id": "0tTQAo3Ed1mJ"
      }
    },
    {
      "cell_type": "code",
      "source": [
        "rowsums = df.iloc[:,2:].sum(axis=1)\n",
        "x=rowsums.value_counts()"
      ],
      "metadata": {
        "id": "yXMHZ9XSd9vh"
      },
      "execution_count": 10,
      "outputs": []
    },
    {
      "cell_type": "code",
      "source": [
        "#plot\n",
        "plt.figure(figsize=(8,5))\n",
        "ax = sns.barplot(x.index, x.values)\n",
        "plt.title(\"Multiple categories per comment\")\n",
        "plt.ylabel('# of Occurrences', fontsize=12)\n",
        "plt.xlabel('# of categories', fontsize=12)"
      ],
      "metadata": {
        "colab": {
          "base_uri": "https://localhost:8080/",
          "height": 425
        },
        "id": "s3_3UqFEeDa1",
        "outputId": "022a9cd6-a1fa-4e4b-d781-add0420f3f18"
      },
      "execution_count": 11,
      "outputs": [
        {
          "output_type": "stream",
          "name": "stderr",
          "text": [
            "/usr/local/lib/python3.7/dist-packages/seaborn/_decorators.py:43: FutureWarning: Pass the following variables as keyword args: x, y. From version 0.12, the only valid positional argument will be `data`, and passing other arguments without an explicit keyword will result in an error or misinterpretation.\n",
            "  FutureWarning\n"
          ]
        },
        {
          "output_type": "execute_result",
          "data": {
            "text/plain": [
              "Text(0.5, 0, '# of categories')"
            ]
          },
          "metadata": {},
          "execution_count": 11
        },
        {
          "output_type": "display_data",
          "data": {
            "text/plain": [
              "<Figure size 576x360 with 1 Axes>"
            ],
            "image/png": "[encoded data removed]"
          },
          "metadata": {
            "needs_background": "light"
          }
        }
      ]
    },
    {
      "cell_type": "markdown",
      "source": [
        "All our documents are labeled, and at least more than 500 documents are multi-labeled.\n",
        "Maximum number of multi-labels we have per document is 3. That is a single document has at most 3 different categories and no document is unlabeled."
      ],
      "metadata": {
        "id": "p1xePiQQeZni"
      }
    },
    {
      "cell_type": "markdown",
      "source": [
        "The distribution of the number of words in each document provided.\n",
        "bold text"
      ],
      "metadata": {
        "id": "1y3V2-Ksoxwa"
      }
    },
    {
      "cell_type": "code",
      "source": [
        "lens = df.text.str.len()\n",
        "lens.hist(bins = np.arange(0,50000,500))"
      ],
      "metadata": {
        "colab": {
          "base_uri": "https://localhost:8080/",
          "height": 282
        },
        "id": "ikLhKX-re9DZ",
        "outputId": "cc64c66c-9d75-4097-f3cf-4c630a042da3"
      },
      "execution_count": 16,
      "outputs": [
        {
          "output_type": "execute_result",
          "data": {
            "text/plain": [
              "<matplotlib.axes._subplots.AxesSubplot at 0x7fb39f995250>"
            ]
          },
          "metadata": {},
          "execution_count": 16
        },
        {
          "output_type": "display_data",
          "data": {
            "text/plain": [
              "<Figure size 432x288 with 1 Axes>"
            ],
            "image/png": "[encoded data removed]"
          },
          "metadata": {
            "needs_background": "light"
          }
        }
      ]
    },
    {
      "cell_type": "markdown",
      "source": [
        "Most of the comment text length are within 5000 characters, with some outliers up to 50,000 characters long."
      ],
      "metadata": {
        "id": "vmMuWdfzpmbP"
      }
    },
    {
      "cell_type": "code",
      "source": [
        ""
      ],
      "metadata": {
        "id": "p-aJkCkorS_m"
      },
      "execution_count": null,
      "outputs": []
    },
    {
      "cell_type": "markdown",
      "source": [
        "# Split the data to train and test sets:"
      ],
      "metadata": {
        "id": "68wVrl2zrbev"
      }
    },
    {
      "cell_type": "code",
      "source": [
        "categories  #['toxic', 'severe_toxic', 'obscene', 'threat', 'insult', 'identity_hate']"
      ],
      "metadata": {
        "colab": {
          "base_uri": "https://localhost:8080/"
        },
        "id": "cxPNmf_drmsN",
        "outputId": "1abecb6a-052b-40d9-e74e-2ead399c1624"
      },
      "execution_count": 17,
      "outputs": [
        {
          "output_type": "execute_result",
          "data": {
            "text/plain": [
              "['Careers',\n",
              " 'Personal_Finance',\n",
              " 'Religion_&_Spirituality',\n",
              " 'Travel',\n",
              " 'Science',\n",
              " 'Food_&_Drink',\n",
              " 'Events_and_Attractions',\n",
              " 'Real_Estate',\n",
              " 'Family_and_Relationships',\n",
              " 'Sports',\n",
              " 'Healthy_Living',\n",
              " 'Shopping',\n",
              " 'News_and_Politics',\n",
              " 'Television',\n",
              " 'Movies',\n",
              " 'Pop_Culture',\n",
              " 'Hobbies_&_Interests',\n",
              " 'Home_&_Garden',\n",
              " 'Pets',\n",
              " 'Automotive',\n",
              " 'Medical_Health',\n",
              " 'Books_and_Literature',\n",
              " 'Style_&_Fashion',\n",
              " 'Fine_Art',\n",
              " 'Technology_&_Computing',\n",
              " 'Music_and_Audio',\n",
              " 'Business_and_Finance',\n",
              " 'Video_Gaming',\n",
              " 'Education']"
            ]
          },
          "metadata": {},
          "execution_count": 17
        }
      ]
    },
    {
      "cell_type": "code",
      "source": [
        "train, test = train_test_split(df, random_state=42, test_size=0.3, shuffle=True)"
      ],
      "metadata": {
        "id": "6FMFQyXqry6n"
      },
      "execution_count": 18,
      "outputs": []
    },
    {
      "cell_type": "code",
      "source": [
        "X_train = train.text\n",
        "X_test = test.text\n",
        "print(X_train.shape)\n",
        "print(X_test.shape)"
      ],
      "metadata": {
        "colab": {
          "base_uri": "https://localhost:8080/"
        },
        "id": "ZisURryisCBY",
        "outputId": "b914991f-b801-4e33-b39c-9526a3a28d01"
      },
      "execution_count": 19,
      "outputs": [
        {
          "output_type": "stream",
          "name": "stdout",
          "text": [
            "(2106,)\n",
            "(903,)\n"
          ]
        }
      ]
    },
    {
      "cell_type": "code",
      "source": [
        ""
      ],
      "metadata": {
        "id": "nP8DIR5dsJg2"
      },
      "execution_count": null,
      "outputs": []
    },
    {
      "cell_type": "markdown",
      "source": [
        "# **Classifiers Training**"
      ],
      "metadata": {
        "id": "c3ESM2qvsN4U"
      }
    },
    {
      "cell_type": "markdown",
      "source": [
        "## OneVsRest multi-label strategy"
      ],
      "metadata": {
        "id": "10CewPaTsW9c"
      }
    },
    {
      "cell_type": "markdown",
      "source": [
        "The Multi-label algorithm accepts a binary mask over multiple labels. The result for each prediction will be an array of 0s and 1s marking which class labels apply to each row input sample."
      ],
      "metadata": {
        "id": "zZyJLy5SsbjX"
      }
    },
    {
      "cell_type": "markdown",
      "source": [
        "## Naive Bayes"
      ],
      "metadata": {
        "id": "fcW89uFTskij"
      }
    },
    {
      "cell_type": "markdown",
      "source": [
        "OneVsRest strategy can be used for multi-label learning, where a classifier is used to predict multiple labels for instance. Naive Bayes supports multi-class, but we are in a multi-label scenario, therefore, we wrap Naive Bayes in the OneVsRestClassifier."
      ],
      "metadata": {
        "id": "ke9eG--lspqg"
      }
    },
    {
      "cell_type": "code",
      "source": [
        "import nltk\n",
        "nltk.download('stopwords')\n",
        "from nltk.corpus import stopwords\n",
        "stop_words = set(stopwords.words('turkish'))\n"
      ],
      "metadata": {
        "colab": {
          "base_uri": "https://localhost:8080/"
        },
        "id": "KAec5gIFtEg4",
        "outputId": "237c2d91-95ad-4528-844b-7169aae7573c"
      },
      "execution_count": 21,
      "outputs": [
        {
          "output_type": "stream",
          "name": "stderr",
          "text": [
            "[nltk_data] Downloading package stopwords to /root/nltk_data...\n",
            "[nltk_data]   Unzipping corpora/stopwords.zip.\n"
          ]
        }
      ]
    },
    {
      "cell_type": "code",
      "source": [
        "# Define a pipeline combining a text feature extractor with multi lable classifier\n",
        "NB_pipeline = Pipeline([\n",
        "                ('tfidf', TfidfVectorizer(stop_words=stop_words)),\n",
        "                ('clf', OneVsRestClassifier(MultinomialNB(\n",
        "                    fit_prior=True, class_prior=None))),\n",
        "            ])\n",
        "for category in categories:\n",
        "    print('... Processing {}'.format(category))\n",
        "    # train the model using X_dtm & y\n",
        "    NB_pipeline.fit(X_train, train[category])\n",
        "    # compute the testing accuracy\n",
        "    prediction = NB_pipeline.predict(X_test)\n",
        "    print('Test accuracy is {}'.format(accuracy_score(test[category], prediction)))"
      ],
      "metadata": {
        "colab": {
          "base_uri": "https://localhost:8080/"
        },
        "id": "L_sJVmB7seyk",
        "outputId": "96acf39e-3b43-4b15-d0bd-74e75f449f15"
      },
      "execution_count": 22,
      "outputs": [
        {
          "output_type": "stream",
          "name": "stdout",
          "text": [
            "... Processing Careers\n",
            "Test accuracy is 0.964562569213732\n",
            "... Processing Personal_Finance\n",
            "Test accuracy is 0.9656699889258029\n",
            "... Processing Religion_&_Spirituality\n",
            "Test accuracy is 0.9534883720930233\n",
            "... Processing Travel\n",
            "Test accuracy is 0.9712070874861573\n",
            "... Processing Science\n",
            "Test accuracy is 0.9656699889258029\n",
            "... Processing Food_&_Drink\n",
            "Test accuracy is 0.955703211517165\n",
            "... Processing Events_and_Attractions\n",
            "Test accuracy is 0.9712070874861573\n",
            "... Processing Real_Estate\n",
            "Test accuracy is 0.9601328903654485\n",
            "... Processing Family_and_Relationships\n",
            "Test accuracy is 0.9446290143964563\n",
            "... Processing Sports\n",
            "Test accuracy is 0.9656699889258029\n",
            "... Processing Healthy_Living\n",
            "Test accuracy is 0.9501661129568106\n",
            "... Processing Shopping\n",
            "Test accuracy is 0.9446290143964563\n",
            "... Processing News_and_Politics\n",
            "Test accuracy is 0.8294573643410853\n",
            "... Processing Television\n",
            "Test accuracy is 0.964562569213732\n",
            "... Processing Movies\n",
            "Test accuracy is 0.9700996677740864\n",
            "... Processing Pop_Culture\n",
            "Test accuracy is 0.964562569213732\n",
            "... Processing Hobbies_&_Interests\n",
            "Test accuracy is 0.9601328903654485\n",
            "... Processing Home_&_Garden\n",
            "Test accuracy is 0.9623477297895903\n",
            "... Processing Pets\n",
            "Test accuracy is 0.9700996677740864\n",
            "... Processing Automotive\n",
            "Test accuracy is 0.964562569213732\n",
            "... Processing Medical_Health\n",
            "Test accuracy is 0.9479512735326688\n",
            "... Processing Books_and_Literature\n",
            "Test accuracy is 0.9723145071982281\n",
            "... Processing Style_&_Fashion\n",
            "Test accuracy is 0.9512735326688815\n",
            "... Processing Fine_Art\n",
            "Test accuracy is 0.9612403100775194\n",
            "... Processing Technology_&_Computing\n",
            "Test accuracy is 0.9324473975636767\n",
            "... Processing Music_and_Audio\n",
            "Test accuracy is 0.9667774086378738\n",
            "... Processing Business_and_Finance\n",
            "Test accuracy is 0.9413067552602437\n",
            "... Processing Video_Gaming\n",
            "Test accuracy is 0.9634551495016611\n",
            "... Processing Education\n",
            "Test accuracy is 0.9612403100775194\n"
          ]
        }
      ]
    },
    {
      "cell_type": "markdown",
      "source": [
        "## LinearSVC"
      ],
      "metadata": {
        "id": "GOHrYcsRt9_3"
      }
    },
    {
      "cell_type": "code",
      "source": [
        "SVC_pipeline = Pipeline([\n",
        "                ('tfidf', TfidfVectorizer(stop_words=stop_words)),\n",
        "                ('clf', OneVsRestClassifier(LinearSVC(), n_jobs=1)),\n",
        "            ])\n",
        "for category in categories:\n",
        "    print('... Processing {}'.format(category))\n",
        "    # train the model using X_dtm & y\n",
        "    SVC_pipeline.fit(X_train, train[category])\n",
        "    # compute the testing accuracy\n",
        "    prediction = SVC_pipeline.predict(X_test)\n",
        "    print('Test accuracy is {}'.format(accuracy_score(test[category], prediction)))"
      ],
      "metadata": {
        "colab": {
          "base_uri": "https://localhost:8080/"
        },
        "id": "4SrDJVl6uEVK",
        "outputId": "96578318-0e57-4869-850f-c2b19c64a2d7"
      },
      "execution_count": 23,
      "outputs": [
        {
          "output_type": "stream",
          "name": "stdout",
          "text": [
            "... Processing Careers\n",
            "Test accuracy is 0.9867109634551495\n",
            "... Processing Personal_Finance\n",
            "Test accuracy is 0.991140642303433\n",
            "... Processing Religion_&_Spirituality\n",
            "Test accuracy is 0.9811738648947951\n",
            "... Processing Travel\n",
            "Test accuracy is 0.9933554817275747\n",
            "... Processing Science\n",
            "Test accuracy is 0.9867109634551495\n",
            "... Processing Food_&_Drink\n",
            "Test accuracy is 0.982281284606866\n",
            "... Processing Events_and_Attractions\n",
            "Test accuracy is 0.9800664451827242\n",
            "... Processing Real_Estate\n",
            "Test accuracy is 0.9878183831672204\n",
            "... Processing Family_and_Relationships\n",
            "Test accuracy is 0.9678848283499446\n",
            "... Processing Sports\n",
            "Test accuracy is 0.9977851605758582\n",
            "... Processing Healthy_Living\n",
            "Test accuracy is 0.982281284606866\n",
            "... Processing Shopping\n",
            "Test accuracy is 0.9612403100775194\n",
            "... Processing News_and_Politics\n",
            "Test accuracy is 0.9125138427464009\n",
            "... Processing Television\n",
            "Test accuracy is 0.9933554817275747\n",
            "... Processing Movies\n",
            "Test accuracy is 0.991140642303433\n",
            "... Processing Pop_Culture\n",
            "Test accuracy is 0.9955703211517165\n",
            "... Processing Hobbies_&_Interests\n",
            "Test accuracy is 0.9723145071982281\n",
            "... Processing Home_&_Garden\n",
            "Test accuracy is 0.9878183831672204\n",
            "... Processing Pets\n",
            "Test accuracy is 0.991140642303433\n",
            "... Processing Automotive\n",
            "Test accuracy is 0.9889258028792912\n",
            "... Processing Medical_Health\n",
            "Test accuracy is 0.9745293466223699\n",
            "... Processing Books_and_Literature\n",
            "Test accuracy is 0.9856035437430787\n",
            "... Processing Style_&_Fashion\n",
            "Test accuracy is 0.9700996677740864\n",
            "... Processing Fine_Art\n",
            "Test accuracy is 0.9745293466223699\n",
            "... Processing Technology_&_Computing\n",
            "Test accuracy is 0.9811738648947951\n",
            "... Processing Music_and_Audio\n",
            "Test accuracy is 0.9878183831672204\n",
            "... Processing Business_and_Finance\n",
            "Test accuracy is 0.9844961240310077\n",
            "... Processing Video_Gaming\n",
            "Test accuracy is 0.982281284606866\n",
            "... Processing Education\n",
            "Test accuracy is 0.9856035437430787\n"
          ]
        }
      ]
    },
    {
      "cell_type": "markdown",
      "source": [
        "## Logistic Regression"
      ],
      "metadata": {
        "id": "PD-_ZBEGvfRS"
      }
    },
    {
      "cell_type": "code",
      "source": [
        "LogReg_pipeline = Pipeline([\n",
        "                ('tfidf', TfidfVectorizer(stop_words=stop_words)),\n",
        "                ('clf', OneVsRestClassifier(LogisticRegression(solver='sag'), n_jobs=1)),\n",
        "            ])\n",
        "for category in categories:\n",
        "    print('... Processing {}'.format(category))\n",
        "    # train the model using X_dtm & y\n",
        "    LogReg_pipeline.fit(X_train, train[category])\n",
        "    # compute the testing accuracy\n",
        "    prediction = LogReg_pipeline.predict(X_test)\n",
        "    print('Test accuracy is {}'.format(accuracy_score(test[category], prediction)))"
      ],
      "metadata": {
        "colab": {
          "base_uri": "https://localhost:8080/"
        },
        "id": "IF0bCQc2vhQF",
        "outputId": "cfc2dd05-b10b-437d-9805-f0c6e1979df2"
      },
      "execution_count": 24,
      "outputs": [
        {
          "output_type": "stream",
          "name": "stdout",
          "text": [
            "... Processing Careers\n",
            "Test accuracy is 0.9689922480620154\n",
            "... Processing Personal_Finance\n",
            "Test accuracy is 0.9800664451827242\n",
            "... Processing Religion_&_Spirituality\n",
            "Test accuracy is 0.9534883720930233\n",
            "... Processing Travel\n",
            "Test accuracy is 0.9867109634551495\n",
            "... Processing Science\n",
            "Test accuracy is 0.9667774086378738\n",
            "... Processing Food_&_Drink\n",
            "Test accuracy is 0.9634551495016611\n",
            "... Processing Events_and_Attractions\n",
            "Test accuracy is 0.9712070874861573\n",
            "... Processing Real_Estate\n",
            "Test accuracy is 0.9723145071982281\n",
            "... Processing Family_and_Relationships\n",
            "Test accuracy is 0.9490586932447398\n",
            "... Processing Sports\n",
            "Test accuracy is 0.9800664451827242\n",
            "... Processing Healthy_Living\n",
            "Test accuracy is 0.9501661129568106\n",
            "... Processing Shopping\n",
            "Test accuracy is 0.9568106312292359\n",
            "... Processing News_and_Politics\n",
            "Test accuracy is 0.9047619047619048\n",
            "... Processing Television\n",
            "Test accuracy is 0.9756367663344407\n",
            "... Processing Movies\n",
            "Test accuracy is 0.973421926910299\n",
            "... Processing Pop_Culture\n",
            "Test accuracy is 0.9678848283499446\n",
            "... Processing Hobbies_&_Interests\n",
            "Test accuracy is 0.9612403100775194\n",
            "... Processing Home_&_Garden\n",
            "Test accuracy is 0.9700996677740864\n",
            "... Processing Pets\n",
            "Test accuracy is 0.9856035437430787\n",
            "... Processing Automotive\n",
            "Test accuracy is 0.9667774086378738\n",
            "... Processing Medical_Health\n",
            "Test accuracy is 0.9534883720930233\n",
            "... Processing Books_and_Literature\n",
            "Test accuracy is 0.9723145071982281\n",
            "... Processing Style_&_Fashion\n",
            "Test accuracy is 0.9512735326688815\n",
            "... Processing Fine_Art\n",
            "Test accuracy is 0.9612403100775194\n",
            "... Processing Technology_&_Computing\n",
            "Test accuracy is 0.937984496124031\n",
            "... Processing Music_and_Audio\n",
            "Test accuracy is 0.9678848283499446\n",
            "... Processing Business_and_Finance\n",
            "Test accuracy is 0.9667774086378738\n",
            "... Processing Video_Gaming\n",
            "Test accuracy is 0.9667774086378738\n",
            "... Processing Education\n",
            "Test accuracy is 0.9634551495016611\n"
          ]
        }
      ]
    }
  ]
}